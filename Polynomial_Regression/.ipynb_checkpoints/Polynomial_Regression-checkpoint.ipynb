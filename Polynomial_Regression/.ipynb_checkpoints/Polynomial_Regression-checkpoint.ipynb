{
 "cells": [
  {
   "cell_type": "markdown",
   "metadata": {},
   "source": [
    "# Polynomial Regression"
   ]
  },
  {
   "cell_type": "markdown",
   "metadata": {},
   "source": [
    "In this code, I am going to show how to create a [polynomial regression](https://en.wikipedia.org/wiki/Polynomial_regression) using the [Turicreate](https://github.com/apple/turicreate) package for one single feature.\n",
    "\n",
    "The idea is to create a *linear regression* with multiple features, but each feature is just a **power** of the investigated feature. We will need to create functions to compute the powers of the feature and also functions to find what is the the maximum power that reduces the error on the test data. The linear regression will be done using the Turicreate only, but you can try use our functions from the [linear regression](https://github.com/marceloguarido/Machine-Learning/blob/master/Linear_Regression/Linear_Regression.ipynb) file.\n",
    "\n",
    "First, let's load used packages:"
   ]
  },
  {
   "cell_type": "code",
   "execution_count": 1,
   "metadata": {
    "scrolled": true
   },
   "outputs": [
    {
     "name": "stderr",
     "output_type": "stream",
     "text": [
      "/home/mguarido/anaconda2/envs/venv/lib/python2.7/site-packages/h5py/__init__.py:36: FutureWarning: Conversion of the second argument of issubdtype from `float` to `np.floating` is deprecated. In future, it will be treated as `np.float64 == np.dtype(float).type`.\n",
      "  from ._conv import register_converters as _register_converters\n"
     ]
    }
   ],
   "source": [
    "import turicreate as tc\n",
    "import numpy as np\n",
    "import matplotlib.pyplot as plt\n",
    "%matplotlib inline"
   ]
  },
  {
   "cell_type": "markdown",
   "metadata": {},
   "source": [
    "Now, load the BostonHousing.csv and save as a *sframe*."
   ]
  },
  {
   "cell_type": "code",
   "execution_count": 2,
   "metadata": {},
   "outputs": [
    {
     "data": {
      "text/html": [
       "<pre>Finished parsing file /home/mguarido/OneDrive/Machine_Learning/Data/BostonHousing.csv</pre>"
      ],
      "text/plain": [
       "Finished parsing file /home/mguarido/OneDrive/Machine_Learning/Data/BostonHousing.csv"
      ]
     },
     "metadata": {},
     "output_type": "display_data"
    },
    {
     "data": {
      "text/html": [
       "<pre>Parsing completed. Parsed 100 lines in 0.033073 secs.</pre>"
      ],
      "text/plain": [
       "Parsing completed. Parsed 100 lines in 0.033073 secs."
      ]
     },
     "metadata": {},
     "output_type": "display_data"
    },
    {
     "name": "stdout",
     "output_type": "stream",
     "text": [
      "------------------------------------------------------\n",
      "Inferred types from first 100 line(s) of file as \n",
      "column_type_hints=[int,str,float,int,float,int,int,float,int,int,int,int,int,int,int,int,int,float,float,int,int]\n",
      "If parsing fails due to incorrect types, you can correct\n",
      "the inferred type list above and pass it to read_csv in\n",
      "the column_type_hints argument\n",
      "------------------------------------------------------\n"
     ]
    },
    {
     "data": {
      "text/html": [
       "<pre>Finished parsing file /home/mguarido/OneDrive/Machine_Learning/Data/BostonHousing.csv</pre>"
      ],
      "text/plain": [
       "Finished parsing file /home/mguarido/OneDrive/Machine_Learning/Data/BostonHousing.csv"
      ]
     },
     "metadata": {},
     "output_type": "display_data"
    },
    {
     "data": {
      "text/html": [
       "<pre>Parsing completed. Parsed 21613 lines in 0.044069 secs.</pre>"
      ],
      "text/plain": [
       "Parsing completed. Parsed 21613 lines in 0.044069 secs."
      ]
     },
     "metadata": {},
     "output_type": "display_data"
    }
   ],
   "source": [
    "data = tc.SFrame('../Data/BostonHousing.csv')"
   ]
  },
  {
   "cell_type": "markdown",
   "metadata": {},
   "source": [
    "For this analysis, we will only use the feature *'sqft_living'* and the output is *'price'*. So, let's sort the data into *'sqft_living'* and *'price'* for plotting purposes."
   ]
  },
  {
   "cell_type": "code",
   "execution_count": 3,
   "metadata": {},
   "outputs": [],
   "source": [
    "data = data.sort(['sqft_living', 'price'])"
   ]
  },
  {
   "cell_type": "markdown",
   "metadata": {},
   "source": [
    "Now, let's create a function that receives the feature and the maximum power (2, 3, 4, or any desired value) to create a new column of sframe for each power."
   ]
  },
  {
   "cell_type": "code",
   "execution_count": 4,
   "metadata": {},
   "outputs": [],
   "source": [
    "def create_powers(feature, power = 1):\n",
    "    # Power should be > 1 and, if not defined, will be 1 (will not create a polynomium)\n",
    "    # Now, let's create an empty sframe\n",
    "    poly_feature = tc.SFrame()\n",
    "    \n",
    "    # Include the input feature as \"power_1\"\n",
    "    poly_feature['power_1'] = feature\n",
    "    \n",
    "    # Let's create the condition it will only run for power > 1\n",
    "    if power > 1:\n",
    "        # Run the loop for all the powers. Remember that the function 'range' starts from 0\n",
    "        # and ends at <given number> - 1. So, define range(2, power+1)\n",
    "        for pw in range(2, power+1):\n",
    "            # Write the name of the column\n",
    "            name = 'power_' + str(pw)\n",
    "            \n",
    "            # Now, calculating the power of the feature and saving at the sframe\n",
    "            poly_feature[name] = feature.apply(lambda x: x**pw)\n",
    "            \n",
    "    # Return polynomial sframe\n",
    "    return poly_feature"
   ]
  },
  {
   "cell_type": "markdown",
   "metadata": {},
   "source": [
    "Now, let's give a power 3 for the *'sqft_living'* and see if it works:"
   ]
  },
  {
   "cell_type": "code",
   "execution_count": 5,
   "metadata": {},
   "outputs": [
    {
     "data": {
      "text/html": [
       "<div style=\"max-height:1000px;max-width:1500px;overflow:auto;\"><table frame=\"box\" rules=\"cols\">\n",
       "    <tr>\n",
       "        <th style=\"padding-left: 1em; padding-right: 1em; text-align: center\">power_1</th>\n",
       "        <th style=\"padding-left: 1em; padding-right: 1em; text-align: center\">power_2</th>\n",
       "        <th style=\"padding-left: 1em; padding-right: 1em; text-align: center\">power_3</th>\n",
       "    </tr>\n",
       "    <tr>\n",
       "        <td style=\"padding-left: 1em; padding-right: 1em; text-align: center; vertical-align: top\">290</td>\n",
       "        <td style=\"padding-left: 1em; padding-right: 1em; text-align: center; vertical-align: top\">84100</td>\n",
       "        <td style=\"padding-left: 1em; padding-right: 1em; text-align: center; vertical-align: top\">24389000</td>\n",
       "    </tr>\n",
       "    <tr>\n",
       "        <td style=\"padding-left: 1em; padding-right: 1em; text-align: center; vertical-align: top\">370</td>\n",
       "        <td style=\"padding-left: 1em; padding-right: 1em; text-align: center; vertical-align: top\">136900</td>\n",
       "        <td style=\"padding-left: 1em; padding-right: 1em; text-align: center; vertical-align: top\">50653000</td>\n",
       "    </tr>\n",
       "    <tr>\n",
       "        <td style=\"padding-left: 1em; padding-right: 1em; text-align: center; vertical-align: top\">380</td>\n",
       "        <td style=\"padding-left: 1em; padding-right: 1em; text-align: center; vertical-align: top\">144400</td>\n",
       "        <td style=\"padding-left: 1em; padding-right: 1em; text-align: center; vertical-align: top\">54872000</td>\n",
       "    </tr>\n",
       "    <tr>\n",
       "        <td style=\"padding-left: 1em; padding-right: 1em; text-align: center; vertical-align: top\">384</td>\n",
       "        <td style=\"padding-left: 1em; padding-right: 1em; text-align: center; vertical-align: top\">147456</td>\n",
       "        <td style=\"padding-left: 1em; padding-right: 1em; text-align: center; vertical-align: top\">56623104</td>\n",
       "    </tr>\n",
       "    <tr>\n",
       "        <td style=\"padding-left: 1em; padding-right: 1em; text-align: center; vertical-align: top\">390</td>\n",
       "        <td style=\"padding-left: 1em; padding-right: 1em; text-align: center; vertical-align: top\">152100</td>\n",
       "        <td style=\"padding-left: 1em; padding-right: 1em; text-align: center; vertical-align: top\">59319000</td>\n",
       "    </tr>\n",
       "    <tr>\n",
       "        <td style=\"padding-left: 1em; padding-right: 1em; text-align: center; vertical-align: top\">390</td>\n",
       "        <td style=\"padding-left: 1em; padding-right: 1em; text-align: center; vertical-align: top\">152100</td>\n",
       "        <td style=\"padding-left: 1em; padding-right: 1em; text-align: center; vertical-align: top\">59319000</td>\n",
       "    </tr>\n",
       "    <tr>\n",
       "        <td style=\"padding-left: 1em; padding-right: 1em; text-align: center; vertical-align: top\">410</td>\n",
       "        <td style=\"padding-left: 1em; padding-right: 1em; text-align: center; vertical-align: top\">168100</td>\n",
       "        <td style=\"padding-left: 1em; padding-right: 1em; text-align: center; vertical-align: top\">68921000</td>\n",
       "    </tr>\n",
       "    <tr>\n",
       "        <td style=\"padding-left: 1em; padding-right: 1em; text-align: center; vertical-align: top\">420</td>\n",
       "        <td style=\"padding-left: 1em; padding-right: 1em; text-align: center; vertical-align: top\">176400</td>\n",
       "        <td style=\"padding-left: 1em; padding-right: 1em; text-align: center; vertical-align: top\">74088000</td>\n",
       "    </tr>\n",
       "    <tr>\n",
       "        <td style=\"padding-left: 1em; padding-right: 1em; text-align: center; vertical-align: top\">420</td>\n",
       "        <td style=\"padding-left: 1em; padding-right: 1em; text-align: center; vertical-align: top\">176400</td>\n",
       "        <td style=\"padding-left: 1em; padding-right: 1em; text-align: center; vertical-align: top\">74088000</td>\n",
       "    </tr>\n",
       "    <tr>\n",
       "        <td style=\"padding-left: 1em; padding-right: 1em; text-align: center; vertical-align: top\">430</td>\n",
       "        <td style=\"padding-left: 1em; padding-right: 1em; text-align: center; vertical-align: top\">184900</td>\n",
       "        <td style=\"padding-left: 1em; padding-right: 1em; text-align: center; vertical-align: top\">79507000</td>\n",
       "    </tr>\n",
       "</table>\n",
       "[10 rows x 3 columns]<br/>\n",
       "</div>"
      ],
      "text/plain": [
       "Columns:\n",
       "\tpower_1\tint\n",
       "\tpower_2\tint\n",
       "\tpower_3\tint\n",
       "\n",
       "Rows: 10\n",
       "\n",
       "Data:\n",
       "+---------+---------+----------+\n",
       "| power_1 | power_2 | power_3  |\n",
       "+---------+---------+----------+\n",
       "|   290   |  84100  | 24389000 |\n",
       "|   370   |  136900 | 50653000 |\n",
       "|   380   |  144400 | 54872000 |\n",
       "|   384   |  147456 | 56623104 |\n",
       "|   390   |  152100 | 59319000 |\n",
       "|   390   |  152100 | 59319000 |\n",
       "|   410   |  168100 | 68921000 |\n",
       "|   420   |  176400 | 74088000 |\n",
       "|   420   |  176400 | 74088000 |\n",
       "|   430   |  184900 | 79507000 |\n",
       "+---------+---------+----------+\n",
       "[10 rows x 3 columns]"
      ]
     },
     "execution_count": 5,
     "metadata": {},
     "output_type": "execute_result"
    }
   ],
   "source": [
    "test = create_powers(data['sqft_living'], 3)\n",
    "test.head()"
   ]
  },
  {
   "cell_type": "markdown",
   "metadata": {},
   "source": [
    "Okay, looks good. To use the Turicreate to create a polynomial regression, we \"trick\" it by giving each power as an individual feature and do a linear regression with multiple features.\n",
    "\n",
    "Now, let's create some models with different powers and see their behavior. First, a simple linear regression (do not forget to include the *'price'* in the sframe as it is the target):"
   ]
  },
  {
   "cell_type": "code",
   "execution_count": 6,
   "metadata": {},
   "outputs": [],
   "source": [
    "poly1 = create_powers(data['sqft_living'], 1)\n",
    "poly1['price'] = data['price']\n",
    "model1 = tc.linear_regression.create(poly1, target = 'price', features = ['power_1'], verbose = False)"
   ]
  },
  {
   "cell_type": "markdown",
   "metadata": {},
   "source": [
    "Let's see the coefficients of the model1."
   ]
  },
  {
   "cell_type": "code",
   "execution_count": 7,
   "metadata": {},
   "outputs": [
    {
     "data": {
      "text/html": [
       "<div style=\"max-height:1000px;max-width:1500px;overflow:auto;\"><table frame=\"box\" rules=\"cols\">\n",
       "    <tr>\n",
       "        <th style=\"padding-left: 1em; padding-right: 1em; text-align: center\">name</th>\n",
       "        <th style=\"padding-left: 1em; padding-right: 1em; text-align: center\">index</th>\n",
       "        <th style=\"padding-left: 1em; padding-right: 1em; text-align: center\">value</th>\n",
       "        <th style=\"padding-left: 1em; padding-right: 1em; text-align: center\">stderr</th>\n",
       "    </tr>\n",
       "    <tr>\n",
       "        <td style=\"padding-left: 1em; padding-right: 1em; text-align: center; vertical-align: top\">(intercept)</td>\n",
       "        <td style=\"padding-left: 1em; padding-right: 1em; text-align: center; vertical-align: top\">None</td>\n",
       "        <td style=\"padding-left: 1em; padding-right: 1em; text-align: center; vertical-align: top\">-40921.1067135</td>\n",
       "        <td style=\"padding-left: 1em; padding-right: 1em; text-align: center; vertical-align: top\">4510.22625003</td>\n",
       "    </tr>\n",
       "    <tr>\n",
       "        <td style=\"padding-left: 1em; padding-right: 1em; text-align: center; vertical-align: top\">power_1</td>\n",
       "        <td style=\"padding-left: 1em; padding-right: 1em; text-align: center; vertical-align: top\">None</td>\n",
       "        <td style=\"padding-left: 1em; padding-right: 1em; text-align: center; vertical-align: top\">279.146955241</td>\n",
       "        <td style=\"padding-left: 1em; padding-right: 1em; text-align: center; vertical-align: top\">1.98607205662</td>\n",
       "    </tr>\n",
       "</table>\n",
       "[2 rows x 4 columns]<br/>\n",
       "</div>"
      ],
      "text/plain": [
       "Columns:\n",
       "\tname\tstr\n",
       "\tindex\tstr\n",
       "\tvalue\tfloat\n",
       "\tstderr\tfloat\n",
       "\n",
       "Rows: 2\n",
       "\n",
       "Data:\n",
       "+-------------+-------+----------------+---------------+\n",
       "|     name    | index |     value      |     stderr    |\n",
       "+-------------+-------+----------------+---------------+\n",
       "| (intercept) |  None | -40921.1067135 | 4510.22625003 |\n",
       "|   power_1   |  None | 279.146955241  | 1.98607205662 |\n",
       "+-------------+-------+----------------+---------------+\n",
       "[2 rows x 4 columns]"
      ]
     },
     "execution_count": 7,
     "metadata": {},
     "output_type": "execute_result"
    }
   ],
   "source": [
    "model1.coefficients"
   ]
  },
  {
   "cell_type": "markdown",
   "metadata": {},
   "source": [
    "Now, plot the regression over the data."
   ]
  },
  {
   "cell_type": "code",
   "execution_count": 8,
   "metadata": {},
   "outputs": [
    {
     "data": {
      "text/plain": [
       "[<matplotlib.lines.Line2D at 0x7f6b3b89bbd0>,\n",
       " <matplotlib.lines.Line2D at 0x7f6b3b89bd90>]"
      ]
     },
     "execution_count": 8,
     "metadata": {},
     "output_type": "execute_result"
    },
    {
     "data": {
      "image/png": "[encoded data removed]",
      "text/plain": [
       "<matplotlib.figure.Figure at 0x7f6b452420d0>"
      ]
     },
     "metadata": {},
     "output_type": "display_data"
    }
   ],
   "source": [
    "plt.plot(poly1['power_1'],poly1['price'],'.',\n",
    "        poly1['power_1'], model1.predict(poly1),'-')"
   ]
  },
  {
   "cell_type": "markdown",
   "metadata": {},
   "source": [
    "Okay, it is quite similar to the one of the linear regression code. Now, let's do the same for the power 2:"
   ]
  },
  {
   "cell_type": "code",
   "execution_count": 9,
   "metadata": {},
   "outputs": [
    {
     "data": {
      "text/html": [
       "<div style=\"max-height:1000px;max-width:1500px;overflow:auto;\"><table frame=\"box\" rules=\"cols\">\n",
       "    <tr>\n",
       "        <th style=\"padding-left: 1em; padding-right: 1em; text-align: center\">name</th>\n",
       "        <th style=\"padding-left: 1em; padding-right: 1em; text-align: center\">index</th>\n",
       "        <th style=\"padding-left: 1em; padding-right: 1em; text-align: center\">value</th>\n",
       "        <th style=\"padding-left: 1em; padding-right: 1em; text-align: center\">stderr</th>\n",
       "    </tr>\n",
       "    <tr>\n",
       "        <td style=\"padding-left: 1em; padding-right: 1em; text-align: center; vertical-align: top\">(intercept)</td>\n",
       "        <td style=\"padding-left: 1em; padding-right: 1em; text-align: center; vertical-align: top\">None</td>\n",
       "        <td style=\"padding-left: 1em; padding-right: 1em; text-align: center; vertical-align: top\">198609.744396</td>\n",
       "        <td style=\"padding-left: 1em; padding-right: 1em; text-align: center; vertical-align: top\">7179.24560882</td>\n",
       "    </tr>\n",
       "    <tr>\n",
       "        <td style=\"padding-left: 1em; padding-right: 1em; text-align: center; vertical-align: top\">power_1</td>\n",
       "        <td style=\"padding-left: 1em; padding-right: 1em; text-align: center; vertical-align: top\">None</td>\n",
       "        <td style=\"padding-left: 1em; padding-right: 1em; text-align: center; vertical-align: top\">69.3853558011</td>\n",
       "        <td style=\"padding-left: 1em; padding-right: 1em; text-align: center; vertical-align: top\">5.35760738545</td>\n",
       "    </tr>\n",
       "    <tr>\n",
       "        <td style=\"padding-left: 1em; padding-right: 1em; text-align: center; vertical-align: top\">power_2</td>\n",
       "        <td style=\"padding-left: 1em; padding-right: 1em; text-align: center; vertical-align: top\">None</td>\n",
       "        <td style=\"padding-left: 1em; padding-right: 1em; text-align: center; vertical-align: top\">0.0381696469578</td>\n",
       "        <td style=\"padding-left: 1em; padding-right: 1em; text-align: center; vertical-align: top\">0.000905913234358</td>\n",
       "    </tr>\n",
       "</table>\n",
       "[3 rows x 4 columns]<br/>\n",
       "</div>"
      ],
      "text/plain": [
       "Columns:\n",
       "\tname\tstr\n",
       "\tindex\tstr\n",
       "\tvalue\tfloat\n",
       "\tstderr\tfloat\n",
       "\n",
       "Rows: 3\n",
       "\n",
       "Data:\n",
       "+-------------+-------+-----------------+-------------------+\n",
       "|     name    | index |      value      |       stderr      |\n",
       "+-------------+-------+-----------------+-------------------+\n",
       "| (intercept) |  None |  198609.744396  |   7179.24560882   |\n",
       "|   power_1   |  None |  69.3853558011  |   5.35760738545   |\n",
       "|   power_2   |  None | 0.0381696469578 | 0.000905913234358 |\n",
       "+-------------+-------+-----------------+-------------------+\n",
       "[3 rows x 4 columns]"
      ]
     },
     "execution_count": 9,
     "metadata": {},
     "output_type": "execute_result"
    }
   ],
   "source": [
    "poly2 = create_powers(data['sqft_living'], 2)\n",
    "my_features = poly2.column_names()\n",
    "poly2['price'] = data['price']\n",
    "model2 = tc.linear_regression.create(poly2, target = 'price', features = my_features, verbose = False)\n",
    "model2.coefficients"
   ]
  },
  {
   "cell_type": "code",
   "execution_count": 10,
   "metadata": {},
   "outputs": [
    {
     "data": {
      "text/plain": [
       "[<matplotlib.lines.Line2D at 0x7f6b38242750>,\n",
       " <matplotlib.lines.Line2D at 0x7f6b38242850>]"
      ]
     },
     "execution_count": 10,
     "metadata": {},
     "output_type": "execute_result"
    },
    {
     "data": {
      "image/png": "[encoded data removed]",
      "text/plain": [
       "<matplotlib.figure.Figure at 0x7f6b452a8dd0>"
      ]
     },
     "metadata": {},
     "output_type": "display_data"
    }
   ],
   "source": [
    "plt.plot(poly2['power_1'],poly2['price'],'.',\n",
    "        poly2['power_1'], model2.predict(poly2),'-')"
   ]
  },
  {
   "cell_type": "markdown",
   "metadata": {},
   "source": [
    "Interesting. Visually, the quadratic function looks to fit better the data. Can we make it better with a power of 3?"
   ]
  },
  {
   "cell_type": "code",
   "execution_count": 11,
   "metadata": {},
   "outputs": [
    {
     "data": {
      "text/html": [
       "<div style=\"max-height:1000px;max-width:1500px;overflow:auto;\"><table frame=\"box\" rules=\"cols\">\n",
       "    <tr>\n",
       "        <th style=\"padding-left: 1em; padding-right: 1em; text-align: center\">name</th>\n",
       "        <th style=\"padding-left: 1em; padding-right: 1em; text-align: center\">index</th>\n",
       "        <th style=\"padding-left: 1em; padding-right: 1em; text-align: center\">value</th>\n",
       "        <th style=\"padding-left: 1em; padding-right: 1em; text-align: center\">stderr</th>\n",
       "    </tr>\n",
       "    <tr>\n",
       "        <td style=\"padding-left: 1em; padding-right: 1em; text-align: center; vertical-align: top\">(intercept)</td>\n",
       "        <td style=\"padding-left: 1em; padding-right: 1em; text-align: center; vertical-align: top\">None</td>\n",
       "        <td style=\"padding-left: 1em; padding-right: 1em; text-align: center; vertical-align: top\">335747.377406</td>\n",
       "        <td style=\"padding-left: 1em; padding-right: 1em; text-align: center; vertical-align: top\">10912.9660473</td>\n",
       "    </tr>\n",
       "    <tr>\n",
       "        <td style=\"padding-left: 1em; padding-right: 1em; text-align: center; vertical-align: top\">power_1</td>\n",
       "        <td style=\"padding-left: 1em; padding-right: 1em; text-align: center; vertical-align: top\">None</td>\n",
       "        <td style=\"padding-left: 1em; padding-right: 1em; text-align: center; vertical-align: top\">-87.7528221024</td>\n",
       "        <td style=\"padding-left: 1em; padding-right: 1em; text-align: center; vertical-align: top\">10.8557981944</td>\n",
       "    </tr>\n",
       "    <tr>\n",
       "        <td style=\"padding-left: 1em; padding-right: 1em; text-align: center; vertical-align: top\">power_2</td>\n",
       "        <td style=\"padding-left: 1em; padding-right: 1em; text-align: center; vertical-align: top\">None</td>\n",
       "        <td style=\"padding-left: 1em; padding-right: 1em; text-align: center; vertical-align: top\">0.0859400962598</td>\n",
       "        <td style=\"padding-left: 1em; padding-right: 1em; text-align: center; vertical-align: top\">0.00302421410845</td>\n",
       "    </tr>\n",
       "    <tr>\n",
       "        <td style=\"padding-left: 1em; padding-right: 1em; text-align: center; vertical-align: top\">power_3</td>\n",
       "        <td style=\"padding-left: 1em; padding-right: 1em; text-align: center; vertical-align: top\">None</td>\n",
       "        <td style=\"padding-left: 1em; padding-right: 1em; text-align: center; vertical-align: top\">-3.76312089612e-06</td>\n",
       "        <td style=\"padding-left: 1em; padding-right: 1em; text-align: center; vertical-align: top\">2.2719798063e-07</td>\n",
       "    </tr>\n",
       "</table>\n",
       "[4 rows x 4 columns]<br/>\n",
       "</div>"
      ],
      "text/plain": [
       "Columns:\n",
       "\tname\tstr\n",
       "\tindex\tstr\n",
       "\tvalue\tfloat\n",
       "\tstderr\tfloat\n",
       "\n",
       "Rows: 4\n",
       "\n",
       "Data:\n",
       "+-------------+-------+--------------------+------------------+\n",
       "|     name    | index |       value        |      stderr      |\n",
       "+-------------+-------+--------------------+------------------+\n",
       "| (intercept) |  None |   335747.377406    |  10912.9660473   |\n",
       "|   power_1   |  None |   -87.7528221024   |  10.8557981944   |\n",
       "|   power_2   |  None |  0.0859400962598   | 0.00302421410845 |\n",
       "|   power_3   |  None | -3.76312089612e-06 | 2.2719798063e-07 |\n",
       "+-------------+-------+--------------------+------------------+\n",
       "[4 rows x 4 columns]"
      ]
     },
     "execution_count": 11,
     "metadata": {},
     "output_type": "execute_result"
    }
   ],
   "source": [
    "poly3 = create_powers(data['sqft_living'], 3)\n",
    "my_features = poly3.column_names()\n",
    "poly3['price'] = data['price']\n",
    "model3 = tc.linear_regression.create(poly3, target = 'price', features = my_features, verbose = False)\n",
    "model3.coefficients"
   ]
  },
  {
   "cell_type": "code",
   "execution_count": 12,
   "metadata": {},
   "outputs": [
    {
     "data": {
      "text/plain": [
       "[<matplotlib.lines.Line2D at 0x7f6b381d6190>,\n",
       " <matplotlib.lines.Line2D at 0x7f6b381d6210>]"
      ]
     },
     "execution_count": 12,
     "metadata": {},
     "output_type": "execute_result"
    },
    {
     "data": {
      "image/png": "[encoded data removed]",
      "text/plain": [
       "<matplotlib.figure.Figure at 0x7f6b3b82c7d0>"
      ]
     },
     "metadata": {},
     "output_type": "display_data"
    }
   ],
   "source": [
    "plt.plot(poly3['power_1'],poly3['price'],'.',\n",
    "        poly3['power_1'], model3.predict(poly3),'-')"
   ]
  },
  {
   "cell_type": "markdown",
   "metadata": {},
   "source": [
    "Visually, it looks even better than the power of 2. So, the higher the power, the best is the fit? Let's try the power of 7."
   ]
  },
  {
   "cell_type": "code",
   "execution_count": 13,
   "metadata": {},
   "outputs": [
    {
     "data": {
      "text/html": [
       "<div style=\"max-height:1000px;max-width:1500px;overflow:auto;\"><table frame=\"box\" rules=\"cols\">\n",
       "    <tr>\n",
       "        <th style=\"padding-left: 1em; padding-right: 1em; text-align: center\">name</th>\n",
       "        <th style=\"padding-left: 1em; padding-right: 1em; text-align: center\">index</th>\n",
       "        <th style=\"padding-left: 1em; padding-right: 1em; text-align: center\">value</th>\n",
       "        <th style=\"padding-left: 1em; padding-right: 1em; text-align: center\">stderr</th>\n",
       "    </tr>\n",
       "    <tr>\n",
       "        <td style=\"padding-left: 1em; padding-right: 1em; text-align: center; vertical-align: top\">(intercept)</td>\n",
       "        <td style=\"padding-left: 1em; padding-right: 1em; text-align: center; vertical-align: top\">None</td>\n",
       "        <td style=\"padding-left: 1em; padding-right: 1em; text-align: center; vertical-align: top\">410732.82557</td>\n",
       "        <td style=\"padding-left: 1em; padding-right: 1em; text-align: center; vertical-align: top\">25309.9937804</td>\n",
       "    </tr>\n",
       "    <tr>\n",
       "        <td style=\"padding-left: 1em; padding-right: 1em; text-align: center; vertical-align: top\">power_1</td>\n",
       "        <td style=\"padding-left: 1em; padding-right: 1em; text-align: center; vertical-align: top\">None</td>\n",
       "        <td style=\"padding-left: 1em; padding-right: 1em; text-align: center; vertical-align: top\">-267.082708537</td>\n",
       "        <td style=\"padding-left: 1em; padding-right: 1em; text-align: center; vertical-align: top\">37.0052480226</td>\n",
       "    </tr>\n",
       "    <tr>\n",
       "        <td style=\"padding-left: 1em; padding-right: 1em; text-align: center; vertical-align: top\">power_2</td>\n",
       "        <td style=\"padding-left: 1em; padding-right: 1em; text-align: center; vertical-align: top\">None</td>\n",
       "        <td style=\"padding-left: 1em; padding-right: 1em; text-align: center; vertical-align: top\">0.216792061947</td>\n",
       "        <td style=\"padding-left: 1em; padding-right: 1em; text-align: center; vertical-align: top\">0.0176726081108</td>\n",
       "    </tr>\n",
       "    <tr>\n",
       "        <td style=\"padding-left: 1em; padding-right: 1em; text-align: center; vertical-align: top\">power_3</td>\n",
       "        <td style=\"padding-left: 1em; padding-right: 1em; text-align: center; vertical-align: top\">None</td>\n",
       "        <td style=\"padding-left: 1em; padding-right: 1em; text-align: center; vertical-align: top\">-3.87396071934e-05</td>\n",
       "        <td style=\"padding-left: 1em; padding-right: 1em; text-align: center; vertical-align: top\">3.45432236061e-06</td>\n",
       "    </tr>\n",
       "    <tr>\n",
       "        <td style=\"padding-left: 1em; padding-right: 1em; text-align: center; vertical-align: top\">power_4</td>\n",
       "        <td style=\"padding-left: 1em; padding-right: 1em; text-align: center; vertical-align: top\">None</td>\n",
       "        <td style=\"padding-left: 1em; padding-right: 1em; text-align: center; vertical-align: top\">3.00434748592e-09</td>\n",
       "        <td style=\"padding-left: 1em; padding-right: 1em; text-align: center; vertical-align: top\">2.36836720213e-10</td>\n",
       "    </tr>\n",
       "    <tr>\n",
       "        <td style=\"padding-left: 1em; padding-right: 1em; text-align: center; vertical-align: top\">power_5</td>\n",
       "        <td style=\"padding-left: 1em; padding-right: 1em; text-align: center; vertical-align: top\">None</td>\n",
       "        <td style=\"padding-left: 1em; padding-right: 1em; text-align: center; vertical-align: top\">1.65814507334e-14</td>\n",
       "        <td style=\"padding-left: 1em; padding-right: 1em; text-align: center; vertical-align: top\">3.1192667387e-15</td>\n",
       "    </tr>\n",
       "    <tr>\n",
       "        <td style=\"padding-left: 1em; padding-right: 1em; text-align: center; vertical-align: top\">power_6</td>\n",
       "        <td style=\"padding-left: 1em; padding-right: 1em; text-align: center; vertical-align: top\">None</td>\n",
       "        <td style=\"padding-left: 1em; padding-right: 1em; text-align: center; vertical-align: top\">6.29548911953e-16</td>\n",
       "        <td style=\"padding-left: 1em; padding-right: 1em; text-align: center; vertical-align: top\">4.58974284762e-16</td>\n",
       "    </tr>\n",
       "    <tr>\n",
       "        <td style=\"padding-left: 1em; padding-right: 1em; text-align: center; vertical-align: top\">power_7</td>\n",
       "        <td style=\"padding-left: 1em; padding-right: 1em; text-align: center; vertical-align: top\">None</td>\n",
       "        <td style=\"padding-left: 1em; padding-right: 1em; text-align: center; vertical-align: top\">-4.6207681992e-22</td>\n",
       "        <td style=\"padding-left: 1em; padding-right: 1em; text-align: center; vertical-align: top\">2.77414860266e-23</td>\n",
       "    </tr>\n",
       "</table>\n",
       "[8 rows x 4 columns]<br/>\n",
       "</div>"
      ],
      "text/plain": [
       "Columns:\n",
       "\tname\tstr\n",
       "\tindex\tstr\n",
       "\tvalue\tfloat\n",
       "\tstderr\tfloat\n",
       "\n",
       "Rows: 8\n",
       "\n",
       "Data:\n",
       "+-------------+-------+--------------------+-------------------+\n",
       "|     name    | index |       value        |       stderr      |\n",
       "+-------------+-------+--------------------+-------------------+\n",
       "| (intercept) |  None |    410732.82557    |   25309.9937804   |\n",
       "|   power_1   |  None |   -267.082708537   |   37.0052480226   |\n",
       "|   power_2   |  None |   0.216792061947   |  0.0176726081108  |\n",
       "|   power_3   |  None | -3.87396071934e-05 | 3.45432236061e-06 |\n",
       "|   power_4   |  None | 3.00434748592e-09  | 2.36836720213e-10 |\n",
       "|   power_5   |  None | 1.65814507334e-14  |  3.1192667387e-15 |\n",
       "|   power_6   |  None | 6.29548911953e-16  | 4.58974284762e-16 |\n",
       "|   power_7   |  None | -4.6207681992e-22  | 2.77414860266e-23 |\n",
       "+-------------+-------+--------------------+-------------------+\n",
       "[8 rows x 4 columns]"
      ]
     },
     "execution_count": 13,
     "metadata": {},
     "output_type": "execute_result"
    }
   ],
   "source": [
    "poly7 = create_powers(data['sqft_living'], 7)\n",
    "my_features = poly7.column_names()\n",
    "poly7['price'] = data['price']\n",
    "model7 = tc.linear_regression.create(poly7, target = 'price', features = my_features, verbose = False)\n",
    "model7.coefficients"
   ]
  },
  {
   "cell_type": "code",
   "execution_count": 14,
   "metadata": {},
   "outputs": [
    {
     "data": {
      "text/plain": [
       "[<matplotlib.lines.Line2D at 0x7f6b38166150>,\n",
       " <matplotlib.lines.Line2D at 0x7f6b381661d0>]"
      ]
     },
     "execution_count": 14,
     "metadata": {},
     "output_type": "execute_result"
    },
    {
     "data": {
      "image/png": "[encoded data removed]",
      "text/plain": [
       "<matplotlib.figure.Figure at 0x7f6b38277c10>"
      ]
     },
     "metadata": {},
     "output_type": "display_data"
    }
   ],
   "source": [
    "plt.plot(poly7['power_1'],poly7['price'],'.',\n",
    "        poly7['power_1'], model7.predict(poly7),'-')"
   ]
  },
  {
   "cell_type": "markdown",
   "metadata": {},
   "source": [
    "Wow, not quite good... we ended up with something called *\"overfitting\"*. There is an optimum power to fit the data and now we will see how to estimete it."
   ]
  },
  {
   "cell_type": "markdown",
   "metadata": {},
   "source": [
    "# Estimating the optimum power\n",
    "\n",
    "A clever way to estimate the optimum power is to split the data into the *\"test set\"* and the *\"train and validation set\"*. The *\"train and validation\"* will actually consist in 2 sets (train and validation) on with we use the train set to compute the model and the validation set is used to calculate the RSS (residual sum of squares) and find its minimum (it is a line search method).\n",
    "\n",
    "First, let's split the data into the 3 cited subsets:"
   ]
  },
  {
   "cell_type": "code",
   "execution_count": 15,
   "metadata": {},
   "outputs": [],
   "source": [
    "training_and_validation, test_data = data.random_split(0.75, seed=1)\n",
    "train_data, validation_data = training_and_validation.random_split(0.75, seed=1)"
   ]
  },
  {
   "cell_type": "markdown",
   "metadata": {},
   "source": [
    "Now, let's create a function that receives the train and validation sets, the feature, the target, and the maximum power to be \"tested\". For each power, a model will be created and we will choose the one with the lowest error (smaller RSS), which ic computed by:\n",
    "\n",
    "$$RSS(w_0,w_1) = \\sum_{i=1}^{N}(y_i - y_{i}^{,})^2$$\n",
    "\n",
    "The output is the optimized power and its RSS."
   ]
  },
  {
   "cell_type": "code",
   "execution_count": 16,
   "metadata": {},
   "outputs": [],
   "source": [
    "def power_line_search(train, validation, feature, target, power=1):\n",
    "    # Let's create an empty RSS vector to receive the predictions errors\n",
    "    RSS = np.zeros((power,1))\n",
    "    \n",
    "    # As we will generate a model for each power (even 1), start a loop\n",
    "    for pw in range(1,power+1):\n",
    "        # First let's create the model using the training set\n",
    "        poly = create_powers(train[feature], pw)\n",
    "        my_features = poly.column_names()\n",
    "        poly[target] = train[target]\n",
    "        model = tc.linear_regression.create(poly, target = target, features = my_features, verbose = False)\n",
    "        \n",
    "        # Now, let's compute the RSS for the validation set\n",
    "        poly_val = create_powers(validation[feature], pw)\n",
    "        predictions = model.predict(poly_val)\n",
    "        real_val = validation[target].to_numpy()\n",
    "        RSS[pw-1] = sum(np.transpose(real_val-predictions)*(real_val-predictions))\n",
    "        \n",
    "    # Now, let's find the minimum RSS and its respective power\n",
    "    min_RSS = min(RSS)\n",
    "    min_power = RSS.argmin() + 1\n",
    "    \n",
    "    # Return outputs\n",
    "    return (min_power, min_RSS)"
   ]
  },
  {
   "cell_type": "markdown",
   "metadata": {},
   "source": [
    "Now, let's check the function by giving the maxim power of 15."
   ]
  },
  {
   "cell_type": "code",
   "execution_count": 17,
   "metadata": {},
   "outputs": [],
   "source": [
    "power, RSS = power_line_search(train_data, validation_data, 'sqft_living', 'price', 15)"
   ]
  },
  {
   "cell_type": "code",
   "execution_count": 18,
   "metadata": {
    "scrolled": true
   },
   "outputs": [
    {
     "name": "stdout",
     "output_type": "stream",
     "text": [
      "2\n",
      "[2.47416871e+14]\n"
     ]
    }
   ],
   "source": [
    "print power\n",
    "print RSS"
   ]
  },
  {
   "cell_type": "markdown",
   "metadata": {},
   "source": [
    "We could find the optimum power. Let's see its fit over the testing set."
   ]
  },
  {
   "cell_type": "code",
   "execution_count": 19,
   "metadata": {},
   "outputs": [
    {
     "data": {
      "text/html": [
       "<div style=\"max-height:1000px;max-width:1500px;overflow:auto;\"><table frame=\"box\" rules=\"cols\">\n",
       "    <tr>\n",
       "        <th style=\"padding-left: 1em; padding-right: 1em; text-align: center\">name</th>\n",
       "        <th style=\"padding-left: 1em; padding-right: 1em; text-align: center\">index</th>\n",
       "        <th style=\"padding-left: 1em; padding-right: 1em; text-align: center\">value</th>\n",
       "        <th style=\"padding-left: 1em; padding-right: 1em; text-align: center\">stderr</th>\n",
       "    </tr>\n",
       "    <tr>\n",
       "        <td style=\"padding-left: 1em; padding-right: 1em; text-align: center; vertical-align: top\">(intercept)</td>\n",
       "        <td style=\"padding-left: 1em; padding-right: 1em; text-align: center; vertical-align: top\">None</td>\n",
       "        <td style=\"padding-left: 1em; padding-right: 1em; text-align: center; vertical-align: top\">219489.503381</td>\n",
       "        <td style=\"padding-left: 1em; padding-right: 1em; text-align: center; vertical-align: top\">15037.1595051</td>\n",
       "    </tr>\n",
       "    <tr>\n",
       "        <td style=\"padding-left: 1em; padding-right: 1em; text-align: center; vertical-align: top\">power_1</td>\n",
       "        <td style=\"padding-left: 1em; padding-right: 1em; text-align: center; vertical-align: top\">None</td>\n",
       "        <td style=\"padding-left: 1em; padding-right: 1em; text-align: center; vertical-align: top\">53.3363360645</td>\n",
       "        <td style=\"padding-left: 1em; padding-right: 1em; text-align: center; vertical-align: top\">11.6260131091</td>\n",
       "    </tr>\n",
       "    <tr>\n",
       "        <td style=\"padding-left: 1em; padding-right: 1em; text-align: center; vertical-align: top\">power_2</td>\n",
       "        <td style=\"padding-left: 1em; padding-right: 1em; text-align: center; vertical-align: top\">None</td>\n",
       "        <td style=\"padding-left: 1em; padding-right: 1em; text-align: center; vertical-align: top\">0.0406915343561</td>\n",
       "        <td style=\"padding-left: 1em; padding-right: 1em; text-align: center; vertical-align: top\">0.00203222937467</td>\n",
       "    </tr>\n",
       "</table>\n",
       "[3 rows x 4 columns]<br/>\n",
       "</div>"
      ],
      "text/plain": [
       "Columns:\n",
       "\tname\tstr\n",
       "\tindex\tstr\n",
       "\tvalue\tfloat\n",
       "\tstderr\tfloat\n",
       "\n",
       "Rows: 3\n",
       "\n",
       "Data:\n",
       "+-------------+-------+-----------------+------------------+\n",
       "|     name    | index |      value      |      stderr      |\n",
       "+-------------+-------+-----------------+------------------+\n",
       "| (intercept) |  None |  219489.503381  |  15037.1595051   |\n",
       "|   power_1   |  None |  53.3363360645  |  11.6260131091   |\n",
       "|   power_2   |  None | 0.0406915343561 | 0.00203222937467 |\n",
       "+-------------+-------+-----------------+------------------+\n",
       "[3 rows x 4 columns]"
      ]
     },
     "execution_count": 19,
     "metadata": {},
     "output_type": "execute_result"
    }
   ],
   "source": [
    "poly_test = create_powers(test_data['sqft_living'], power)\n",
    "my_features = poly_test.column_names()\n",
    "poly_test['price'] = test_data['price']\n",
    "model_test = tc.linear_regression.create(poly_test, target = 'price', features = my_features, verbose = False)\n",
    "model_test.coefficients"
   ]
  },
  {
   "cell_type": "code",
   "execution_count": 20,
   "metadata": {},
   "outputs": [
    {
     "data": {
      "text/plain": [
       "[<matplotlib.lines.Line2D at 0x7f6b380eca50>,\n",
       " <matplotlib.lines.Line2D at 0x7f6b380ecad0>]"
      ]
     },
     "execution_count": 20,
     "metadata": {},
     "output_type": "execute_result"
    },
    {
     "data": {
      "image/png": "[encoded data removed]",
      "text/plain": [
       "<matplotlib.figure.Figure at 0x7f6b3810e590>"
      ]
     },
     "metadata": {},
     "output_type": "display_data"
    }
   ],
   "source": [
    "plt.plot(poly_test['power_1'],poly_test['price'],'.',\n",
    "        poly_test['power_1'], model_test.predict(poly_test),'-')"
   ]
  },
  {
   "cell_type": "markdown",
   "metadata": {},
   "source": [
    "We could find the best (optimum) power of the polynomial by a trial and error (line search). But it is costly, as we have to create a model for ech power. In a case where we are doing it for a large number of data, it can grow fast to a long elapse time. So, let's see some strategies on which we can \"penalize\" the weights (coefficients) of the polynomials and reduce the computational cost of the method."
   ]
  },
  {
   "cell_type": "markdown",
   "metadata": {},
   "source": [
    "# Ridge Regression"
   ]
  },
  {
   "cell_type": "markdown",
   "metadata": {},
   "source": [
    "I am going to present a $L_2$ regularization method called [*Ridge Regression*](https://en.wikipedia.org/wiki/Tikhonov_regularization). The concept is to measure the magnitude of the coefficients (in this case, the [$L_2$-norm](http://mathworld.wolfram.com/L2-Norm.html), or sum of the squares) and minimize the cost function with this term included.\n",
    "\n",
    "For the *ridge regression*, the cost function is the sum of the RSS and the weighted $L_2$-norm of the coefficients:\n",
    "\n",
    "$$Cost = RSS(\\textbf{w}) + \\lambda ||\\textbf{w}||^{2}_{2}$$\n",
    "\n",
    "where $\\lambda$ is the tuning parameter, which gives a balance of fit (avoid overfitting) and magnitude, and the $||\\textbf{w}||^{2}_{2}$ is the $L_2$-norm of the coefficients. Now, let's write the matrix notation of the terms of the *Cost* equation:\n",
    "\n",
    "$$RSS(\\textbf{w}) = \\sum_{i=1}^{N}(y_i - h(\\textbf{x}_i)^{T}\\textbf{w})^2 = (\\textbf{y} - \\textbf{Hw})^{T}(\\textbf{y} - \\textbf{Hw})$$\n",
    "\n",
    "where $h(\\textbf{x}_i)$ is a more general way to write a feature and $\\textbf{H}$ is the matrix of all the features. For the $||\\textbf{w}||^{2}_{2}$:\n",
    "\n",
    "$$||\\textbf{w}||^{2}_{2} = w_{0}^{2} + w_{1}^{2} + w_{2}^{2} + \\dots + w_{n}^{2} = \\textbf{w}^{T}\\textbf{w}$$\n",
    "\n",
    "Now, the total cost is:\n",
    "\n",
    "$$Cost = (\\textbf{y} - \\textbf{Hw})^{T}(\\textbf{y} - \\textbf{Hw}) + \\lambda\\textbf{w}^{T}\\textbf{w}$$\n",
    "\n",
    "Now, to minimize the cost over the coefficients, we compute the gradient by deriving the total cost over **w**, resulting in:\n",
    "\n",
    "$$Grad = -2\\textbf{H}^{T}(\\textbf{y} - \\textbf{Hw}) + 2\\lambda\\textbf{w}$$\n",
    "\n",
    "To find the minimum, we set the gradient equal zero. And let's use that **w** is equivalent to **Iw**, where **I** is the [*identity matrix*](https://en.wikipedia.org/wiki/Identity_matrix):\n",
    "\n",
    "$$Grad = -2\\textbf{H}^{T}(\\textbf{y} - \\textbf{Hw}) + 2\\lambda\\textbf{Iw} = 0$$\n",
    "\n",
    "The new solution is:\n",
    "\n",
    "$$\\textbf{w} = (\\textbf{H}^{T}\\textbf{H} + \\lambda\\textbf{I})^{-1}\\textbf{H}^{T}\\textbf{y}$$\n",
    "\n",
    "We must be careful on the choice of $\\lambda$. Setting $\\lambda = 0$, we are back to the [linear regression](../Linear_Regression/Linear_Regression.ipynb) solution. Having $\\lambda = \\infty$, **w** goes to zero. In others words, a $\\lambda$ too small will not prevent overfit and a $\\lambda$ too large will \"delete\" any fitting.\n",
    "\n",
    "For the gradient descent, the $n^{th}$ update for the $j^{th}$ weight (coefficient) is:\n",
    "\n",
    "$$w_{j}^{(n+1)} = w_{j}^{(n)} - \\alpha [2*\\sum_{i=1}^{N}h_j(\\textbf{x}_i)(y_i - y^{,}_{i}(\\textbf{w}^{n})) + 2\\lambda w_{j}^{n}]$$\n",
    "\n",
    "Ending up with:\n",
    "\n",
    "$$w_{j}^{(n+1)} = (1 - 2\\alpha\\lambda)w_{j}^{(n)} - 2\\alpha\\sum_{i=1}^{N}h_j(\\textbf{x}_i)(y_i - y^{,}_{i}(\\textbf{w}^{n}))$$\n",
    "\n",
    "It is quite similar to the [linear regression](../Linear_Regression/Linear_Regression.ipynb) solution, but with the new $(1 - 2\\alpha\\lambda)$ term."
   ]
  },
  {
   "cell_type": "markdown",
   "metadata": {},
   "source": [
    "Now, let's implementing it using the Turicreate.\n",
    "\n",
    "First, let's create a data and a set of functions to help us in some tasks. Let's look at a synthetic dataset consisting of 30 points drawn from the sinusoid $y = \\sin(4x)$. Call all the packages again, so you can run this part without the need to run the whole code. We will ending up by reconstructing some functions, but it is okay."
   ]
  },
  {
   "cell_type": "code",
   "execution_count": 21,
   "metadata": {},
   "outputs": [],
   "source": [
    "import turicreate as tc\n",
    "import math\n",
    "import random\n",
    "import numpy as np\n",
    "from matplotlib import pyplot as plt\n",
    "%matplotlib inline"
   ]
  },
  {
   "cell_type": "markdown",
   "metadata": {},
   "source": [
    "Create an array with 30 points with values between 0 and 1."
   ]
  },
  {
   "cell_type": "code",
   "execution_count": 47,
   "metadata": {},
   "outputs": [],
   "source": [
    "random.seed(98103)\n",
    "n = 30\n",
    "x = tc.SArray([random.random() for i in range(n)])"
   ]
  },
  {
   "cell_type": "markdown",
   "metadata": {},
   "source": [
    "Now, let's calculate the y values."
   ]
  },
  {
   "cell_type": "code",
   "execution_count": 48,
   "metadata": {},
   "outputs": [],
   "source": [
    "y = x.apply(lambda x: math.sin(4*x))"
   ]
  },
  {
   "cell_type": "markdown",
   "metadata": {},
   "source": [
    "To make it more fun, let's add some error (noise) with Gaussian distribution."
   ]
  },
  {
   "cell_type": "code",
   "execution_count": 49,
   "metadata": {},
   "outputs": [],
   "source": [
    "random.seed(1)\n",
    "e = tc.SArray([random.gauss(0,1.0/3.0) for i in range(n)])\n",
    "y = y + e"
   ]
  },
  {
   "cell_type": "markdown",
   "metadata": {},
   "source": [
    "Let's put the data into a SFrame:"
   ]
  },
  {
   "cell_type": "code",
   "execution_count": 50,
   "metadata": {},
   "outputs": [
    {
     "data": {
      "text/html": [
       "<div style=\"max-height:1000px;max-width:1500px;overflow:auto;\"><table frame=\"box\" rules=\"cols\">\n",
       "    <tr>\n",
       "        <th style=\"padding-left: 1em; padding-right: 1em; text-align: center\">X1</th>\n",
       "        <th style=\"padding-left: 1em; padding-right: 1em; text-align: center\">Y</th>\n",
       "    </tr>\n",
       "    <tr>\n",
       "        <td style=\"padding-left: 1em; padding-right: 1em; text-align: center; vertical-align: top\">0.259900980166</td>\n",
       "        <td style=\"padding-left: 1em; padding-right: 1em; text-align: center; vertical-align: top\">1.29159857394</td>\n",
       "    </tr>\n",
       "    <tr>\n",
       "        <td style=\"padding-left: 1em; padding-right: 1em; text-align: center; vertical-align: top\">0.645009669325</td>\n",
       "        <td style=\"padding-left: 1em; padding-right: 1em; text-align: center; vertical-align: top\">1.01565070661</td>\n",
       "    </tr>\n",
       "    <tr>\n",
       "        <td style=\"padding-left: 1em; padding-right: 1em; text-align: center; vertical-align: top\">0.0415680996791</td>\n",
       "        <td style=\"padding-left: 1em; padding-right: 1em; text-align: center; vertical-align: top\">0.187619251452</td>\n",
       "    </tr>\n",
       "    <tr>\n",
       "        <td style=\"padding-left: 1em; padding-right: 1em; text-align: center; vertical-align: top\">0.646757604091</td>\n",
       "        <td style=\"padding-left: 1em; padding-right: 1em; text-align: center; vertical-align: top\">0.271723311294</td>\n",
       "    </tr>\n",
       "    <tr>\n",
       "        <td style=\"padding-left: 1em; padding-right: 1em; text-align: center; vertical-align: top\">0.904388481397</td>\n",
       "        <td style=\"padding-left: 1em; padding-right: 1em; text-align: center; vertical-align: top\">-0.822250826305</td>\n",
       "    </tr>\n",
       "    <tr>\n",
       "        <td style=\"padding-left: 1em; padding-right: 1em; text-align: center; vertical-align: top\">0.161334144502</td>\n",
       "        <td style=\"padding-left: 1em; padding-right: 1em; text-align: center; vertical-align: top\">0.611912202808</td>\n",
       "    </tr>\n",
       "    <tr>\n",
       "        <td style=\"padding-left: 1em; padding-right: 1em; text-align: center; vertical-align: top\">0.607932453646</td>\n",
       "        <td style=\"padding-left: 1em; padding-right: 1em; text-align: center; vertical-align: top\">0.311028690551</td>\n",
       "    </tr>\n",
       "    <tr>\n",
       "        <td style=\"padding-left: 1em; padding-right: 1em; text-align: center; vertical-align: top\">0.620237537344</td>\n",
       "        <td style=\"padding-left: 1em; padding-right: 1em; text-align: center; vertical-align: top\">0.134681150357</td>\n",
       "    </tr>\n",
       "    <tr>\n",
       "        <td style=\"padding-left: 1em; padding-right: 1em; text-align: center; vertical-align: top\">0.470566981894</td>\n",
       "        <td style=\"padding-left: 1em; padding-right: 1em; text-align: center; vertical-align: top\">1.01832093982</td>\n",
       "    </tr>\n",
       "    <tr>\n",
       "        <td style=\"padding-left: 1em; padding-right: 1em; text-align: center; vertical-align: top\">0.569680357978</td>\n",
       "        <td style=\"padding-left: 1em; padding-right: 1em; text-align: center; vertical-align: top\">0.804170930683</td>\n",
       "    </tr>\n",
       "</table>\n",
       "[30 rows x 2 columns]<br/>Note: Only the head of the SFrame is printed.<br/>You can use print_rows(num_rows=m, num_columns=n) to print more rows and columns.\n",
       "</div>"
      ],
      "text/plain": [
       "Columns:\n",
       "\tX1\tfloat\n",
       "\tY\tfloat\n",
       "\n",
       "Rows: 30\n",
       "\n",
       "Data:\n",
       "+-----------------+-----------------+\n",
       "|        X1       |        Y        |\n",
       "+-----------------+-----------------+\n",
       "|  0.259900980166 |  1.29159857394  |\n",
       "|  0.645009669325 |  1.01565070661  |\n",
       "| 0.0415680996791 |  0.187619251452 |\n",
       "|  0.646757604091 |  0.271723311294 |\n",
       "|  0.904388481397 | -0.822250826305 |\n",
       "|  0.161334144502 |  0.611912202808 |\n",
       "|  0.607932453646 |  0.311028690551 |\n",
       "|  0.620237537344 |  0.134681150357 |\n",
       "|  0.470566981894 |  1.01832093982  |\n",
       "|  0.569680357978 |  0.804170930683 |\n",
       "+-----------------+-----------------+\n",
       "[30 rows x 2 columns]\n",
       "Note: Only the head of the SFrame is printed.\n",
       "You can use print_rows(num_rows=m, num_columns=n) to print more rows and columns."
      ]
     },
     "execution_count": 50,
     "metadata": {},
     "output_type": "execute_result"
    }
   ],
   "source": [
    "data = tc.SFrame({'X1':x,'Y':y})\n",
    "data"
   ]
  },
  {
   "cell_type": "markdown",
   "metadata": {},
   "source": [
    "Creating a function to plot the data in a more comfortable way."
   ]
  },
  {
   "cell_type": "code",
   "execution_count": 51,
   "metadata": {},
   "outputs": [
    {
     "data": {
      "image/png": "[encoded data removed]",
      "text/plain": [
       "<matplotlib.figure.Figure at 0x7f6b1820b9d0>"
      ]
     },
     "metadata": {},
     "output_type": "display_data"
    }
   ],
   "source": [
    "def plot_data(data):    \n",
    "    plt.plot(data['X1'],data['Y'],'b.')\n",
    "    plt.xlabel('x')\n",
    "    plt.ylabel('y')\n",
    "\n",
    "plot_data(data)"
   ]
  },
  {
   "cell_type": "markdown",
   "metadata": {},
   "source": [
    "Now, let's create the functions to create the polynomial features and the polynomial regression. They will be very specific for this synthetic data."
   ]
  },
  {
   "cell_type": "code",
   "execution_count": 52,
   "metadata": {},
   "outputs": [],
   "source": [
    "# Defining the polynomial columns\n",
    "def polynomial_features(data, power = 1):\n",
    "    # This code is a more clever way to compute the powers\n",
    "    data2 = data.copy() # Do not overwrite the data\n",
    "    for i in range(1,power):\n",
    "        # Just get your last power and multiply by the data of power 1\n",
    "        data2['X'+str(i+1)] = data2['X'+str(i)]*data2['X1']\n",
    "    \n",
    "    # Return the data\n",
    "    return data2\n",
    "\n",
    "# Function for the polynomial regression\n",
    "def polynomial_regression(data, power = 1):\n",
    "    # Just using the Turicreate linear regression\n",
    "    model = tc.linear_regression.create(polynomial_features(data,power), \n",
    "                                              target='Y', l2_penalty=0.,l1_penalty=0.,\n",
    "                                              validation_set=None,verbose=False)\n",
    "    # The L2_penalty and L1_penalty equal to zero is to make sure the Turicreate\n",
    "    # will not apply a Ridge Regression and/or Lasso\n",
    "    \n",
    "    # Return the model\n",
    "    return model"
   ]
  },
  {
   "cell_type": "markdown",
   "metadata": {},
   "source": [
    "One function to plot the predictions over the data."
   ]
  },
  {
   "cell_type": "code",
   "execution_count": 53,
   "metadata": {},
   "outputs": [],
   "source": [
    "def plot_poly_predictions(data, model):\n",
    "    plot_data(data)\n",
    "\n",
    "    # Get the degree of the polynomial\n",
    "    power = len(model.coefficients['value'])-1\n",
    "    \n",
    "    # Create 200 points in the x axis and compute the predicted value for each point\n",
    "    x_pred = tc.SFrame({'X1':[i/200.0 for i in range(200)]})\n",
    "    y_pred = model.predict(polynomial_features(x_pred,power))\n",
    "    \n",
    "    # Plot predictions\n",
    "    plt.plot(x_pred['X1'], y_pred, 'r-', label='Power ' + str(power) + ' fit')\n",
    "    plt.legend(loc='upper right')\n",
    "    plt.axis([0,1,-1.5,2])"
   ]
  },
  {
   "cell_type": "markdown",
   "metadata": {},
   "source": [
    "And one function to actually write the polynomial."
   ]
  },
  {
   "cell_type": "code",
   "execution_count": 54,
   "metadata": {},
   "outputs": [],
   "source": [
    "def print_coefficients(model):    \n",
    "    # Get the power of the polynomial\n",
    "    power = len(model.coefficients['value'])-1\n",
    "\n",
    "    # Get learned parameters as a list\n",
    "    w = list(model.coefficients['value'])\n",
    "\n",
    "    # Print the polynomial\n",
    "    print 'Learned polynomial for power of ' + str(power) + ':'\n",
    "    w.reverse()\n",
    "    print np.poly1d(w)"
   ]
  },
  {
   "cell_type": "markdown",
   "metadata": {},
   "source": [
    "Okay, now let's see what we created. Fitting a quadratic function:"
   ]
  },
  {
   "cell_type": "code",
   "execution_count": 55,
   "metadata": {},
   "outputs": [
    {
     "data": {
      "image/png": "[encoded data removed]",
      "text/plain": [
       "<matplotlib.figure.Figure at 0x7f6b283cb810>"
      ]
     },
     "metadata": {},
     "output_type": "display_data"
    }
   ],
   "source": [
    "model = polynomial_regression(data, 2)\n",
    "plot_poly_predictions(data,model)"
   ]
  },
  {
   "cell_type": "code",
   "execution_count": 56,
   "metadata": {},
   "outputs": [
    {
     "name": "stdout",
     "output_type": "stream",
     "text": [
      "Learned polynomial for power of 2:\n",
      "        2\n",
      "-5.479 x + 4.144 x + 0.1984\n"
     ]
    }
   ],
   "source": [
    "print_coefficients(model)"
   ]
  },
  {
   "cell_type": "markdown",
   "metadata": {},
   "source": [
    "Let's check for a polynomial of $4^{th}$ degree (power = 4)."
   ]
  },
  {
   "cell_type": "code",
   "execution_count": 57,
   "metadata": {},
   "outputs": [
    {
     "name": "stdout",
     "output_type": "stream",
     "text": [
      "Learned polynomial for power of 4:\n",
      "       4         3         2\n",
      "-3.29 x + 7.153 x - 10.65 x + 5.503 x + 0.114\n"
     ]
    },
    {
     "data": {
      "image/png": "[encoded data removed]",
      "text/plain": [
       "<matplotlib.figure.Figure at 0x7f6b283cb190>"
      ]
     },
     "metadata": {},
     "output_type": "display_data"
    }
   ],
   "source": [
    "model = polynomial_regression(data, 4)\n",
    "print_coefficients(model)\n",
    "plot_poly_predictions(data,model)"
   ]
  },
  {
   "cell_type": "markdown",
   "metadata": {},
   "source": [
    "And now, power = 30 (I am trying to overfit the data and see the resulted coefficients)."
   ]
  },
  {
   "cell_type": "code",
   "execution_count": 58,
   "metadata": {},
   "outputs": [
    {
     "name": "stdout",
     "output_type": "stream",
     "text": [
      "Learned polynomial for power of 30:\n",
      "            30             29             28           27\n",
      "-8.211e+06 x  + 1.733e+07 x  + 5.786e+06 x  - 2.4e+07 x \n",
      "              26             25             24             23\n",
      " - 5.745e+06 x  + 9.626e+06 x  + 1.629e+07 x  - 1.177e+07 x \n",
      "             22             21             20             19\n",
      " + 9.88e+06 x  - 4.879e+06 x  - 8.353e+06 x  - 7.121e+06 x \n",
      "              18             17             16             15\n",
      " + 4.676e+06 x  + 1.618e+07 x  - 5.886e+06 x  + 3.713e+04 x \n",
      "              14             13             12             11\n",
      " - 9.331e+06 x  + 9.301e+05 x  + 9.253e+06 x  - 4.696e+06 x \n",
      "              10             9             8             7            6\n",
      " - 1.396e+06 x  + 2.707e+06 x - 1.834e+06 x + 2.944e+05 x + 5.92e+05 x\n",
      "              5             4             3        2\n",
      " - 4.986e+05 x + 1.792e+05 x - 3.385e+04 x + 3356 x - 154.8 x + 2.934\n"
     ]
    },
    {
     "data": {
      "image/png": "[encoded data removed]",
      "text/plain": [
       "<matplotlib.figure.Figure at 0x7f6ae412d490>"
      ]
     },
     "metadata": {},
     "output_type": "display_data"
    }
   ],
   "source": [
    "model = polynomial_regression(data, 30)\n",
    "print_coefficients(model)\n",
    "plot_poly_predictions(data,model)"
   ]
  },
  {
   "cell_type": "markdown",
   "metadata": {},
   "source": [
    "See how weird the coefficients became? Too large!!!!\n",
    "\n",
    "Now, let's include the L2_penalty (ridge regression) in our function."
   ]
  },
  {
   "cell_type": "code",
   "execution_count": 59,
   "metadata": {},
   "outputs": [],
   "source": [
    "def ridge_regression(data, power, l2_penalty):\n",
    "    # Just using the Turicreate linear regression with the L2_penalty\n",
    "    model_rr = tc.linear_regression.create(polynomial_features(data,power), \n",
    "                                              target='Y', l2_penalty=l2_penalty,l1_penalty=0.,\n",
    "                                              validation_set=None,verbose=False)\n",
    "    \n",
    "    # Return the model\n",
    "    return model_rr"
   ]
  },
  {
   "cell_type": "markdown",
   "metadata": {},
   "source": [
    "Let's retest the power 16 fit with the linear regression. We just need to set the l2_penalty... wait, what is a good value for the l2_penalty? Let's do the fit for some of them and let's try to understand the coefficients and the plots."
   ]
  },
  {
   "cell_type": "code",
   "execution_count": 60,
   "metadata": {},
   "outputs": [
    {
     "name": "stdout",
     "output_type": "stream",
     "text": [
      "Lambda = 1.00e-25\n",
      "Learned polynomial for power of 16:\n",
      "           16             15             14             13\n",
      "7.716e+05 x  + 8.965e+05 x  - 1.201e+07 x  + 2.226e+07 x \n",
      "              12             11             10             9\n",
      " - 1.246e+07 x  - 4.168e+06 x  + 1.623e+06 x  + 1.161e+07 x\n",
      "              8             7            6             5             4\n",
      " - 1.396e+07 x + 6.606e+06 x - 9.15e+05 x - 4.476e+05 x + 2.405e+05 x\n",
      "              3        2\n",
      " - 4.939e+04 x + 5018 x - 236 x + 4.365\n",
      "\n",
      "\n",
      "Lambda = 1.00e-10\n",
      "Learned polynomial for power of 16:\n",
      "           16             15        14             13             12\n",
      "5.391e+04 x  - 1.026e+05 x  + 3337 x  + 5.811e+04 x  + 2.524e+04 x \n",
      "              11             10         9             8        7\n",
      " - 2.379e+04 x  - 3.027e+04 x  + 135.8 x + 1.986e+04 x + 4618 x\n",
      "              6        5        4         3         2\n",
      " - 1.162e+04 x + 2460 x + 1116 x - 534.2 x + 75.88 x - 1.217 x + 0.3174\n",
      "\n",
      "\n",
      "Lambda = 1.00e-06\n",
      "Learned polynomial for power of 16:\n",
      "       16         15         14         13         12         11\n",
      "555.7 x  - 428.2 x  - 437.9 x  - 111.8 x  + 175.6 x  + 267.7 x \n",
      "          10         9         8         7         6         5\n",
      " + 171.2 x  - 7.116 x - 133.8 x - 124.7 x - 5.325 x + 88.25 x\n",
      "          4        3         2\n",
      " + 32.41 x - 65.5 x + 20.17 x + 0.6305 x + 0.311\n",
      "\n",
      "\n",
      "Lambda = 1.00e-03\n",
      "Learned polynomial for power of 16:\n",
      "        16         15         14         13        12         11\n",
      "-9.267 x  - 8.031 x  - 4.899 x  - 1.163 x  + 2.24 x  + 4.692 x \n",
      "          10         9         8         7          6         5\n",
      " + 5.862 x  + 5.674 x + 4.268 x + 1.967 x - 0.7424 x - 3.193 x\n",
      "          4         3           2\n",
      " - 4.471 x - 3.473 x + 0.09768 x + 2.922 x + 0.2415\n",
      "\n",
      "\n",
      "Lambda = 1.00e+02\n",
      "Learned polynomial for power of 16:\n",
      "         16          15          14          13          12          11\n",
      "-0.3617 x  - 0.3297 x  - 0.3003 x  - 0.2733 x  - 0.2485 x  - 0.2256 x \n",
      "           10          9          8          7          6          5\n",
      " - 0.2045 x  - 0.1849 x - 0.1664 x - 0.1487 x - 0.1312 x - 0.1132 x\n",
      "            4           3           2\n",
      " - 0.09332 x - 0.07031 x - 0.04316 x - 0.01431 x + 0.6844\n",
      "\n",
      "\n",
      "Lambda = 1.00e+20\n",
      "Learned polynomial for power of 16:\n",
      "            16             15             14            13\n",
      "-1.534e-18 x  - 1.392e-18 x  - 1.261e-18 x  - 1.14e-18 x \n",
      "              12            11             10            9\n",
      " - 1.028e-18 x  - 9.24e-19 x  - 8.273e-19 x  - 7.37e-19 x\n",
      "              8             7             6             5             4\n",
      " - 6.523e-19 x - 5.721e-19 x - 4.949e-19 x - 4.187e-19 x - 3.409e-19 x\n",
      "              3             2\n",
      " - 2.585e-19 x - 1.693e-19 x - 7.615e-20 x + 0.4527\n",
      "\n",
      "\n"
     ]
    },
    {
     "data": {
      "image/png": "[encoded data removed]",
      "text/plain": [
       "<matplotlib.figure.Figure at 0x7f6b18092f10>"
      ]
     },
     "metadata": {},
     "output_type": "display_data"
    },
    {
     "data": {
      "image/png": "[encoded data removed]",
      "text/plain": [
       "<matplotlib.figure.Figure at 0x7f6ae4170610>"
      ]
     },
     "metadata": {},
     "output_type": "display_data"
    },
    {
     "data": {
      "image/png": "[encoded data removed]",
      "text/plain": [
       "<matplotlib.figure.Figure at 0x7f6b18303050>"
      ]
     },
     "metadata": {},
     "output_type": "display_data"
    },
    {
     "data": {
      "image/png": "[encoded data removed]",
      "text/plain": [
       "<matplotlib.figure.Figure at 0x7f6b280430d0>"
      ]
     },
     "metadata": {},
     "output_type": "display_data"
    },
    {
     "data": {
      "image/png": "[encoded data removed]",
      "text/plain": [
       "<matplotlib.figure.Figure at 0x7f6b280a6450>"
      ]
     },
     "metadata": {},
     "output_type": "display_data"
    },
    {
     "data": {
      "image/png": "[encoded data removed]",
      "text/plain": [
       "<matplotlib.figure.Figure at 0x7f6b280998d0>"
      ]
     },
     "metadata": {},
     "output_type": "display_data"
    }
   ],
   "source": [
    "for l2_penalty in [1e-25, 1e-10, 1e-6, 1e-3, 1e2, 1e20]:\n",
    "    model_ridge = ridge_regression(data, 16, l2_penalty=l2_penalty)\n",
    "    print 'Lambda = %.2e' % l2_penalty\n",
    "    print_coefficients(model_ridge)\n",
    "    print '\\n'\n",
    "    plt.figure()\n",
    "    plot_poly_predictions(data,model_ridge)\n",
    "    plt.title('Ridge, lambda = %.2e' % l2_penalty)"
   ]
  },
  {
   "cell_type": "markdown",
   "metadata": {},
   "source": [
    "Okay... interesting. The best value for $\\lambda$ shows to be 1e-3. For a very small $\\lambda$, we were unable to prevent the overfitting. Selecting large values of $\\lambda$, we tend to have a constant model.\n",
    "\n",
    "One method to estimate the best $\\lambda$ is by doing a [*k-fold corss validation*](https://en.wikipedia.org/wiki/Cross-validation_(statistics)). In this method, the idea is to take your training data and divide it in *k* different subsets. If we have *N* data points and we choose *k* subsets, we will hava $N/k$ data points per subset. For a fixed $\\lambda_1$, we remove on of the *k*'s subsets from the training data and run the ridge regression over the rest of the training data. The removed subset is used as a validation set on which we calculate the error of the model for the fixed $\\lambda_1$. Now, we put back the subset into the training data and we remove **another** subset, applying the ridge regression on the remaining training data and calculating the error over the new validation set using the same fixed $\\lambda_1$. This is applied for all the *k*'s subsets for a fixed $\\lambda_1$. Now, the average error of the errors of all *k*'s validation sets for the fixed $\\lambda_1$, which will be:\n",
    "\n",
    "$$Average{\\_}Error(\\lambda_1) = \\frac{1}{k}\\sum_{j = 1}^{k}error_{j}(\\lambda_1)$$\n",
    "\n",
    "Now we fix a new $\\lambda_2$ and repeat the process. If we have an array with *D* values of $\\lambda$, we do the process for all of them and we will and with an array with *D* average errors. The optimum $\\lambda$ is the one with the lowest average error."
   ]
  },
  {
   "cell_type": "markdown",
   "metadata": {},
   "source": [
    "The following function separate the input data in *k* different folds (user input) and apply the k-fold cross validation."
   ]
  },
  {
   "cell_type": "code",
   "execution_count": 61,
   "metadata": {},
   "outputs": [],
   "source": [
    "def split_train_validation(data, min_ind, max_ind):\n",
    "    # Function to separate the SFrame data into 2 subsets based on the min and maximum\n",
    "    # indexes of the validation set\n",
    "    nr = data.num_rows()\n",
    "    \n",
    "    # Boundary conditions\n",
    "    if max_ind > (nr - 1):\n",
    "        max_ind = nr - 1\n",
    "    \n",
    "    # Getting validation set\n",
    "    validation = data[min_ind:max_ind]\n",
    "    \n",
    "    # Getting the train set\n",
    "    if min_ind == 0:\n",
    "        train = data[(max_ind + 1): -1]\n",
    "    \n",
    "    elif max_ind == (nr - 1):\n",
    "        train = data[0:(min_ind - 1)]\n",
    "        \n",
    "    else:\n",
    "        train = data[0:(min_ind - 1)]\n",
    "        train = train.append(data[(max_ind + 1): -1])\n",
    "    \n",
    "    # Return outputs\n",
    "    return train,validation"
   ]
  },
  {
   "cell_type": "code",
   "execution_count": 62,
   "metadata": {},
   "outputs": [],
   "source": [
    "def k_fold_cross_validation(data, power, l2_penalty_array, k_folds):\n",
    "    k_folds_size = len(data)/k_folds\n",
    "    nr = data.num_rows()\n",
    "    \n",
    "    # Polynomial data\n",
    "    poly = polynomial_features(data, power)\n",
    "    \n",
    "    # Initializing the array to receive the mean squared erros\n",
    "    mse = np.zeros((len(l2_penalty_array),1))\n",
    "    count = 0\n",
    "    \n",
    "    # Start the loop for all the l2 penalty values\n",
    "    for l2_penalty in l2_penalty_array:\n",
    "        t_mse = 0.0\n",
    "        min_ind = 0\n",
    "        max_ind = k_folds_size - 1\n",
    "        \n",
    "        while min_ind < (nr - 1):\n",
    "            # Split data into train and validation sets\n",
    "            train, validation = split_train_validation(poly,min_ind, max_ind)\n",
    "            \n",
    "            # train model\n",
    "            model = tc.linear_regression.create(train,target='Y', l2_penalty=l2_penalty, \n",
    "                                                validation_set=None,verbose=False)\n",
    "            \n",
    "            # predict on validation set \n",
    "            y_test_predicted = model.predict(validation)\n",
    "            \n",
    "            # compute squared error\n",
    "            t_mse += ((y_test_predicted-validation['Y'])**2).sum()\n",
    "            \n",
    "            # Adjusting min and max indexes\n",
    "            min_ind = max_ind + 1\n",
    "            max_ind += k_folds_size\n",
    "        \n",
    "        \n",
    "        # save squared error in list of MSE for each l2_penalty\n",
    "        mse[count] = t_mse/k_folds\n",
    "        count += 1\n",
    "    \n",
    "    # Getting the minimum \"mean square error\" and the best l2 penalty\n",
    "    best_l2_penalty = l2_penalty_array[np.argmin(mse)]\n",
    "    \n",
    "    # Return the values\n",
    "    return mse,best_l2_penalty"
   ]
  },
  {
   "cell_type": "markdown",
   "metadata": {},
   "source": [
    "Testing..."
   ]
  },
  {
   "cell_type": "code",
   "execution_count": 71,
   "metadata": {},
   "outputs": [],
   "source": [
    "l2_penalty_values = np.logspace(-4, 10, num=30)\n",
    "k_folds = len(data)/2\n",
    "l2_penalty_mse,best_l2_penalty = k_fold_cross_validation(data, 16, l2_penalty_values, k_folds)"
   ]
  },
  {
   "cell_type": "code",
   "execution_count": 72,
   "metadata": {},
   "outputs": [
    {
     "data": {
      "image/png": "[encoded data removed]",
      "text/plain": [
       "<matplotlib.figure.Figure at 0x7f6b282bb5d0>"
      ]
     },
     "metadata": {},
     "output_type": "display_data"
    }
   ],
   "source": [
    "plt.plot(l2_penalty_values,l2_penalty_mse,'k-')\n",
    "plt.xlabel('L2_penalty')\n",
    "plt.ylabel('Cross validation error')\n",
    "plt.xscale('log')\n",
    "plt.yscale('log')"
   ]
  },
  {
   "cell_type": "markdown",
   "metadata": {},
   "source": [
    "The figure above shows a value for the *l2_penalty* that actually is the minimum of the cross *cross validation errors*. This should be the most optimum choice for a fit that balances between overfitting and accuracy."
   ]
  },
  {
   "cell_type": "code",
   "execution_count": 73,
   "metadata": {},
   "outputs": [
    {
     "data": {
      "text/plain": [
       "0.1291549665014884"
      ]
     },
     "execution_count": 73,
     "metadata": {},
     "output_type": "execute_result"
    }
   ],
   "source": [
    "best_l2_penalty"
   ]
  },
  {
   "cell_type": "code",
   "execution_count": 74,
   "metadata": {},
   "outputs": [
    {
     "name": "stdout",
     "output_type": "stream",
     "text": [
      "Lambda = 1.29e-01\n",
      "Learned polynomial for power of 16:\n",
      "        16         15          14          13         12         11\n",
      "-4.762 x  - 2.587 x  - 0.8853 x  + 0.3725 x  + 1.214 x  + 1.668 x \n",
      "          10         9         8          7          6         5\n",
      " + 1.764 x  + 1.537 x + 1.033 x + 0.3183 x - 0.5087 x - 1.288 x\n",
      "          4         3          2\n",
      " - 1.768 x - 1.578 x - 0.3276 x + 1.643 x + 0.4596\n",
      "\n",
      "\n"
     ]
    },
    {
     "data": {
      "text/plain": [
       "Text(0.5,1,u'Ridge, lambda = 1.29e-01')"
      ]
     },
     "execution_count": 74,
     "metadata": {},
     "output_type": "execute_result"
    },
    {
     "data": {
      "image/png": "[encoded data removed]",
      "text/plain": [
       "<matplotlib.figure.Figure at 0x7f6b18071390>"
      ]
     },
     "metadata": {},
     "output_type": "display_data"
    }
   ],
   "source": [
    "model_best = ridge_regression(data, 16, l2_penalty = best_l2_penalty)\n",
    "print 'Lambda = %.2e' % best_l2_penalty\n",
    "print_coefficients(model_best)\n",
    "print '\\n'\n",
    "plt.figure()\n",
    "plot_poly_predictions(data,model_best)\n",
    "plt.title('Ridge, lambda = %.2e' % best_l2_penalty)"
   ]
  },
  {
   "cell_type": "code",
   "execution_count": null,
   "metadata": {},
   "outputs": [],
   "source": []
  }
 ],
 "metadata": {
  "kernelspec": {
   "display_name": "Python 2",
   "language": "python",
   "name": "python2"
  },
  "language_info": {
   "codemirror_mode": {
    "name": "ipython",
    "version": 2
   },
   "file_extension": ".py",
   "mimetype": "text/x-python",
   "name": "python",
   "nbconvert_exporter": "python",
   "pygments_lexer": "ipython2",
   "version": "2.7.14"
  }
 },
 "nbformat": 4,
 "nbformat_minor": 2
}
