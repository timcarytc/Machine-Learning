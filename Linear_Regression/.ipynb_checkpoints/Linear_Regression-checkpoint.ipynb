{
 "cells": [
  {
   "cell_type": "markdown",
   "metadata": {},
   "source": [
    "# Linear Regression\n",
    "\n",
    "In this notebook, we will go through the linear regression algorithms to estimate the price of houses in Boston.\n",
    "\n",
    "First, it is shown how to compute the predictions using a single feature. Later on, the predictions are expanded for multiple features. In both cases, I will compare my predictions with the Turicreate outputs."
   ]
  },
  {
   "cell_type": "markdown",
   "metadata": {},
   "source": [
    "# Linear regression with a single feature\n",
    "\n",
    "In the first part, let's run the Turicreate linear regression algorithm to understand is functionality."
   ]
  },
  {
   "cell_type": "code",
<<<<<<< HEAD
   "execution_count": 2,
   "metadata": {},
   "outputs": [
    {
     "ename": "ImportError",
     "evalue": "libblas.so.3: cannot open shared object file: No such file or directory",
     "output_type": "error",
     "traceback": [
      "\u001b[0;31m---------------------------------------------------------------------------\u001b[0m",
      "\u001b[0;31mImportError\u001b[0m                               Traceback (most recent call last)",
      "\u001b[0;32m<ipython-input-2-484565c9dfcd>\u001b[0m in \u001b[0;36m<module>\u001b[0;34m()\u001b[0m\n\u001b[0;32m----> 1\u001b[0;31m \u001b[0;32mimport\u001b[0m \u001b[0mturicreate\u001b[0m \u001b[0;32mas\u001b[0m \u001b[0mtc\u001b[0m\u001b[0;34m\u001b[0m\u001b[0m\n\u001b[0m\u001b[1;32m      2\u001b[0m \u001b[0;32mimport\u001b[0m \u001b[0mmatplotlib\u001b[0m\u001b[0;34m.\u001b[0m\u001b[0mpyplot\u001b[0m \u001b[0;32mas\u001b[0m \u001b[0mplt\u001b[0m\u001b[0;34m\u001b[0m\u001b[0m\n\u001b[1;32m      3\u001b[0m \u001b[0mget_ipython\u001b[0m\u001b[0;34m(\u001b[0m\u001b[0;34m)\u001b[0m\u001b[0;34m.\u001b[0m\u001b[0mmagic\u001b[0m\u001b[0;34m(\u001b[0m\u001b[0;34mu'matplotlib inline'\u001b[0m\u001b[0;34m)\u001b[0m\u001b[0;34m\u001b[0m\u001b[0m\n",
      "\u001b[0;32m/home/marceloguarido/anaconda2/lib/python2.7/site-packages/turicreate/__init__.py\u001b[0m in \u001b[0;36m<module>\u001b[0;34m()\u001b[0m\n\u001b[1;32m     28\u001b[0m \u001b[0;32mfrom\u001b[0m \u001b[0mturicreate\u001b[0m\u001b[0;34m.\u001b[0m\u001b[0mversion_info\u001b[0m \u001b[0;32mimport\u001b[0m \u001b[0m__version__\u001b[0m\u001b[0;34m\u001b[0m\u001b[0m\n\u001b[1;32m     29\u001b[0m \u001b[0;34m\u001b[0m\u001b[0m\n\u001b[0;32m---> 30\u001b[0;31m \u001b[0;32mfrom\u001b[0m \u001b[0mturicreate\u001b[0m\u001b[0;34m.\u001b[0m\u001b[0mdata_structures\u001b[0m\u001b[0;34m.\u001b[0m\u001b[0msgraph\u001b[0m \u001b[0;32mimport\u001b[0m \u001b[0mVertex\u001b[0m\u001b[0;34m,\u001b[0m \u001b[0mEdge\u001b[0m\u001b[0;34m\u001b[0m\u001b[0m\n\u001b[0m\u001b[1;32m     31\u001b[0m \u001b[0;32mfrom\u001b[0m \u001b[0mturicreate\u001b[0m\u001b[0;34m.\u001b[0m\u001b[0mdata_structures\u001b[0m\u001b[0;34m.\u001b[0m\u001b[0msgraph\u001b[0m \u001b[0;32mimport\u001b[0m \u001b[0mSGraph\u001b[0m\u001b[0;34m\u001b[0m\u001b[0m\n\u001b[1;32m     32\u001b[0m \u001b[0;32mfrom\u001b[0m \u001b[0mturicreate\u001b[0m\u001b[0;34m.\u001b[0m\u001b[0mdata_structures\u001b[0m\u001b[0;34m.\u001b[0m\u001b[0msarray\u001b[0m \u001b[0;32mimport\u001b[0m \u001b[0mSArray\u001b[0m\u001b[0;34m\u001b[0m\u001b[0m\n",
      "\u001b[0;32m/home/marceloguarido/anaconda2/lib/python2.7/site-packages/turicreate/data_structures/__init__.py\u001b[0m in \u001b[0;36m<module>\u001b[0;34m()\u001b[0m\n\u001b[1;32m     16\u001b[0m \u001b[0;34m\u001b[0m\u001b[0m\n\u001b[1;32m     17\u001b[0m \u001b[0;32mfrom\u001b[0m \u001b[0;34m.\u001b[0m \u001b[0;32mimport\u001b[0m \u001b[0mimage\u001b[0m\u001b[0;34m\u001b[0m\u001b[0m\n\u001b[0;32m---> 18\u001b[0;31m \u001b[0;32mfrom\u001b[0m \u001b[0;34m.\u001b[0m \u001b[0;32mimport\u001b[0m \u001b[0msframe\u001b[0m\u001b[0;34m\u001b[0m\u001b[0m\n\u001b[0m\u001b[1;32m     19\u001b[0m \u001b[0;32mfrom\u001b[0m \u001b[0;34m.\u001b[0m \u001b[0;32mimport\u001b[0m \u001b[0msarray\u001b[0m\u001b[0;34m\u001b[0m\u001b[0m\n\u001b[1;32m     20\u001b[0m \u001b[0;32mfrom\u001b[0m \u001b[0;34m.\u001b[0m \u001b[0;32mimport\u001b[0m \u001b[0msgraph\u001b[0m\u001b[0;34m\u001b[0m\u001b[0m\n",
      "\u001b[0;32m/home/marceloguarido/anaconda2/lib/python2.7/site-packages/turicreate/data_structures/sframe.py\u001b[0m in \u001b[0;36m<module>\u001b[0;34m()\u001b[0m\n\u001b[1;32m     14\u001b[0m \u001b[0;32mfrom\u001b[0m \u001b[0m__future__\u001b[0m \u001b[0;32mimport\u001b[0m \u001b[0mdivision\u001b[0m \u001b[0;32mas\u001b[0m \u001b[0m_\u001b[0m\u001b[0;34m\u001b[0m\u001b[0m\n\u001b[1;32m     15\u001b[0m \u001b[0;32mfrom\u001b[0m \u001b[0m__future__\u001b[0m \u001b[0;32mimport\u001b[0m \u001b[0mabsolute_import\u001b[0m \u001b[0;32mas\u001b[0m \u001b[0m_\u001b[0m\u001b[0;34m\u001b[0m\u001b[0m\n\u001b[0;32m---> 16\u001b[0;31m \u001b[0;32mfrom\u001b[0m \u001b[0;34m.\u001b[0m\u001b[0;34m.\u001b[0m\u001b[0mconnect\u001b[0m \u001b[0;32mimport\u001b[0m \u001b[0mmain\u001b[0m \u001b[0;32mas\u001b[0m \u001b[0mglconnect\u001b[0m\u001b[0;34m\u001b[0m\u001b[0m\n\u001b[0m\u001b[1;32m     17\u001b[0m \u001b[0;32mfrom\u001b[0m \u001b[0;34m.\u001b[0m\u001b[0;34m.\u001b[0m\u001b[0mcython\u001b[0m\u001b[0;34m.\u001b[0m\u001b[0mcy_flexible_type\u001b[0m \u001b[0;32mimport\u001b[0m \u001b[0minfer_type_of_list\u001b[0m\u001b[0;34m\u001b[0m\u001b[0m\n\u001b[1;32m     18\u001b[0m \u001b[0;32mfrom\u001b[0m \u001b[0;34m.\u001b[0m\u001b[0;34m.\u001b[0m\u001b[0mcython\u001b[0m\u001b[0;34m.\u001b[0m\u001b[0mcontext\u001b[0m \u001b[0;32mimport\u001b[0m \u001b[0mdebug_trace\u001b[0m \u001b[0;32mas\u001b[0m \u001b[0mcython_context\u001b[0m\u001b[0;34m\u001b[0m\u001b[0m\n",
      "\u001b[0;32m/home/marceloguarido/anaconda2/lib/python2.7/site-packages/turicreate/connect/main.py\u001b[0m in \u001b[0;36m<module>\u001b[0;34m()\u001b[0m\n\u001b[1;32m     11\u001b[0m \u001b[0;32mfrom\u001b[0m \u001b[0m__future__\u001b[0m \u001b[0;32mimport\u001b[0m \u001b[0mabsolute_import\u001b[0m \u001b[0;32mas\u001b[0m \u001b[0m_\u001b[0m\u001b[0;34m\u001b[0m\u001b[0m\n\u001b[1;32m     12\u001b[0m \u001b[0;34m\u001b[0m\u001b[0m\n\u001b[0;32m---> 13\u001b[0;31m \u001b[0;32mfrom\u001b[0m \u001b[0;34m.\u001b[0m\u001b[0;34m.\u001b[0m\u001b[0mcython\u001b[0m\u001b[0;34m.\u001b[0m\u001b[0mcy_unity\u001b[0m \u001b[0;32mimport\u001b[0m \u001b[0mUnityGlobalProxy\u001b[0m\u001b[0;34m\u001b[0m\u001b[0m\n\u001b[0m\u001b[1;32m     14\u001b[0m \u001b[0;32mfrom\u001b[0m \u001b[0;34m.\u001b[0m\u001b[0;34m.\u001b[0m\u001b[0mcython\u001b[0m\u001b[0;34m.\u001b[0m\u001b[0mcy_server\u001b[0m \u001b[0;32mimport\u001b[0m \u001b[0mEmbeddedServer\u001b[0m\u001b[0;34m\u001b[0m\u001b[0m\n\u001b[1;32m     15\u001b[0m \u001b[0;34m\u001b[0m\u001b[0m\n",
      "\u001b[0;31mImportError\u001b[0m: libblas.so.3: cannot open shared object file: No such file or directory"
     ]
    }
   ],
=======
   "execution_count": 1,
   "metadata": {
    "collapsed": false
   },
   "outputs": [],
>>>>>>> fda45caebc9fd429ce5fccf2477ba68334d8609f
   "source": [
    "import turicreate as tc\n",
    "import matplotlib.pyplot as plt\n",
    "%matplotlib inline"
   ]
  },
  {
   "cell_type": "markdown",
   "metadata": {},
   "source": [
    "Loading data"
   ]
  },
  {
   "cell_type": "code",
   "execution_count": 2,
<<<<<<< HEAD
   "metadata": {},
=======
   "metadata": {
    "collapsed": false
   },
>>>>>>> fda45caebc9fd429ce5fccf2477ba68334d8609f
   "outputs": [
    {
     "data": {
      "text/html": [
       "<pre>Finished parsing file /mnt/c/Users/marle/OneDrive/Machine_Learning/Linear_Regression/BostonHousing.csv</pre>"
      ],
      "text/plain": [
       "Finished parsing file /mnt/c/Users/marle/OneDrive/Machine_Learning/Linear_Regression/BostonHousing.csv"
      ]
     },
     "metadata": {},
     "output_type": "display_data"
    },
    {
     "data": {
      "text/html": [
<<<<<<< HEAD
       "<pre>Parsing completed. Parsed 100 lines in 0.114531 secs.</pre>"
      ],
      "text/plain": [
       "Parsing completed. Parsed 100 lines in 0.114531 secs."
=======
       "<pre>Parsing completed. Parsed 100 lines in 0.096082 secs.</pre>"
      ],
      "text/plain": [
       "Parsing completed. Parsed 100 lines in 0.096082 secs."
>>>>>>> fda45caebc9fd429ce5fccf2477ba68334d8609f
      ]
     },
     "metadata": {},
     "output_type": "display_data"
    },
    {
     "name": "stdout",
     "output_type": "stream",
     "text": [
      "------------------------------------------------------\n",
      "Inferred types from first 100 line(s) of file as \n",
      "column_type_hints=[int,str,float,int,float,int,int,float,int,int,int,int,int,int,int,int,int,float,float,int,int]\n",
      "If parsing fails due to incorrect types, you can correct\n",
      "the inferred type list above and pass it to read_csv in\n",
      "the column_type_hints argument\n",
      "------------------------------------------------------\n"
     ]
    },
    {
     "data": {
      "text/html": [
       "<pre>Finished parsing file /mnt/c/Users/marle/OneDrive/Machine_Learning/Linear_Regression/BostonHousing.csv</pre>"
      ],
      "text/plain": [
       "Finished parsing file /mnt/c/Users/marle/OneDrive/Machine_Learning/Linear_Regression/BostonHousing.csv"
      ]
     },
     "metadata": {},
     "output_type": "display_data"
    },
    {
     "data": {
      "text/html": [
<<<<<<< HEAD
       "<pre>Parsing completed. Parsed 21613 lines in 0.09716 secs.</pre>"
      ],
      "text/plain": [
       "Parsing completed. Parsed 21613 lines in 0.09716 secs."
=======
       "<pre>Parsing completed. Parsed 21613 lines in 0.097701 secs.</pre>"
      ],
      "text/plain": [
       "Parsing completed. Parsed 21613 lines in 0.097701 secs."
>>>>>>> fda45caebc9fd429ce5fccf2477ba68334d8609f
      ]
     },
     "metadata": {},
     "output_type": "display_data"
    }
   ],
   "source": [
    "data = tc.SFrame('BostonHousing.csv')"
   ]
  },
  {
   "cell_type": "markdown",
   "metadata": {},
   "source": [
    "Taking a look at the loaded data"
   ]
  },
  {
   "cell_type": "code",
   "execution_count": 3,
<<<<<<< HEAD
   "metadata": {},
=======
   "metadata": {
    "collapsed": false
   },
>>>>>>> fda45caebc9fd429ce5fccf2477ba68334d8609f
   "outputs": [
    {
     "data": {
      "text/html": [
       "<div style=\"max-height:1000px;max-width:1500px;overflow:auto;\"><table frame=\"box\" rules=\"cols\">\n",
       "    <tr>\n",
       "        <th style=\"padding-left: 1em; padding-right: 1em; text-align: center\">id</th>\n",
       "        <th style=\"padding-left: 1em; padding-right: 1em; text-align: center\">date</th>\n",
       "        <th style=\"padding-left: 1em; padding-right: 1em; text-align: center\">price</th>\n",
       "        <th style=\"padding-left: 1em; padding-right: 1em; text-align: center\">bedrooms</th>\n",
       "        <th style=\"padding-left: 1em; padding-right: 1em; text-align: center\">bathrooms</th>\n",
       "        <th style=\"padding-left: 1em; padding-right: 1em; text-align: center\">sqft_living</th>\n",
       "        <th style=\"padding-left: 1em; padding-right: 1em; text-align: center\">sqft_lot</th>\n",
       "        <th style=\"padding-left: 1em; padding-right: 1em; text-align: center\">floors</th>\n",
       "        <th style=\"padding-left: 1em; padding-right: 1em; text-align: center\">waterfront</th>\n",
       "        <th style=\"padding-left: 1em; padding-right: 1em; text-align: center\">view</th>\n",
       "    </tr>\n",
       "    <tr>\n",
       "        <td style=\"padding-left: 1em; padding-right: 1em; text-align: center; vertical-align: top\">7129300520</td>\n",
       "        <td style=\"padding-left: 1em; padding-right: 1em; text-align: center; vertical-align: top\">20141013T000000</td>\n",
       "        <td style=\"padding-left: 1em; padding-right: 1em; text-align: center; vertical-align: top\">221900.0</td>\n",
       "        <td style=\"padding-left: 1em; padding-right: 1em; text-align: center; vertical-align: top\">3</td>\n",
       "        <td style=\"padding-left: 1em; padding-right: 1em; text-align: center; vertical-align: top\">1.0</td>\n",
       "        <td style=\"padding-left: 1em; padding-right: 1em; text-align: center; vertical-align: top\">1180</td>\n",
       "        <td style=\"padding-left: 1em; padding-right: 1em; text-align: center; vertical-align: top\">5650</td>\n",
       "        <td style=\"padding-left: 1em; padding-right: 1em; text-align: center; vertical-align: top\">1.0</td>\n",
       "        <td style=\"padding-left: 1em; padding-right: 1em; text-align: center; vertical-align: top\">0</td>\n",
       "        <td style=\"padding-left: 1em; padding-right: 1em; text-align: center; vertical-align: top\">0</td>\n",
       "    </tr>\n",
       "    <tr>\n",
       "        <td style=\"padding-left: 1em; padding-right: 1em; text-align: center; vertical-align: top\">6414100192</td>\n",
       "        <td style=\"padding-left: 1em; padding-right: 1em; text-align: center; vertical-align: top\">20141209T000000</td>\n",
       "        <td style=\"padding-left: 1em; padding-right: 1em; text-align: center; vertical-align: top\">538000.0</td>\n",
       "        <td style=\"padding-left: 1em; padding-right: 1em; text-align: center; vertical-align: top\">3</td>\n",
       "        <td style=\"padding-left: 1em; padding-right: 1em; text-align: center; vertical-align: top\">2.25</td>\n",
       "        <td style=\"padding-left: 1em; padding-right: 1em; text-align: center; vertical-align: top\">2570</td>\n",
       "        <td style=\"padding-left: 1em; padding-right: 1em; text-align: center; vertical-align: top\">7242</td>\n",
       "        <td style=\"padding-left: 1em; padding-right: 1em; text-align: center; vertical-align: top\">2.0</td>\n",
       "        <td style=\"padding-left: 1em; padding-right: 1em; text-align: center; vertical-align: top\">0</td>\n",
       "        <td style=\"padding-left: 1em; padding-right: 1em; text-align: center; vertical-align: top\">0</td>\n",
       "    </tr>\n",
       "    <tr>\n",
       "        <td style=\"padding-left: 1em; padding-right: 1em; text-align: center; vertical-align: top\">5631500400</td>\n",
       "        <td style=\"padding-left: 1em; padding-right: 1em; text-align: center; vertical-align: top\">20150225T000000</td>\n",
       "        <td style=\"padding-left: 1em; padding-right: 1em; text-align: center; vertical-align: top\">180000.0</td>\n",
       "        <td style=\"padding-left: 1em; padding-right: 1em; text-align: center; vertical-align: top\">2</td>\n",
       "        <td style=\"padding-left: 1em; padding-right: 1em; text-align: center; vertical-align: top\">1.0</td>\n",
       "        <td style=\"padding-left: 1em; padding-right: 1em; text-align: center; vertical-align: top\">770</td>\n",
       "        <td style=\"padding-left: 1em; padding-right: 1em; text-align: center; vertical-align: top\">10000</td>\n",
       "        <td style=\"padding-left: 1em; padding-right: 1em; text-align: center; vertical-align: top\">1.0</td>\n",
       "        <td style=\"padding-left: 1em; padding-right: 1em; text-align: center; vertical-align: top\">0</td>\n",
       "        <td style=\"padding-left: 1em; padding-right: 1em; text-align: center; vertical-align: top\">0</td>\n",
       "    </tr>\n",
       "    <tr>\n",
       "        <td style=\"padding-left: 1em; padding-right: 1em; text-align: center; vertical-align: top\">2487200875</td>\n",
       "        <td style=\"padding-left: 1em; padding-right: 1em; text-align: center; vertical-align: top\">20141209T000000</td>\n",
       "        <td style=\"padding-left: 1em; padding-right: 1em; text-align: center; vertical-align: top\">604000.0</td>\n",
       "        <td style=\"padding-left: 1em; padding-right: 1em; text-align: center; vertical-align: top\">4</td>\n",
       "        <td style=\"padding-left: 1em; padding-right: 1em; text-align: center; vertical-align: top\">3.0</td>\n",
       "        <td style=\"padding-left: 1em; padding-right: 1em; text-align: center; vertical-align: top\">1960</td>\n",
       "        <td style=\"padding-left: 1em; padding-right: 1em; text-align: center; vertical-align: top\">5000</td>\n",
       "        <td style=\"padding-left: 1em; padding-right: 1em; text-align: center; vertical-align: top\">1.0</td>\n",
       "        <td style=\"padding-left: 1em; padding-right: 1em; text-align: center; vertical-align: top\">0</td>\n",
       "        <td style=\"padding-left: 1em; padding-right: 1em; text-align: center; vertical-align: top\">0</td>\n",
       "    </tr>\n",
       "    <tr>\n",
       "        <td style=\"padding-left: 1em; padding-right: 1em; text-align: center; vertical-align: top\">1954400510</td>\n",
       "        <td style=\"padding-left: 1em; padding-right: 1em; text-align: center; vertical-align: top\">20150218T000000</td>\n",
       "        <td style=\"padding-left: 1em; padding-right: 1em; text-align: center; vertical-align: top\">510000.0</td>\n",
       "        <td style=\"padding-left: 1em; padding-right: 1em; text-align: center; vertical-align: top\">3</td>\n",
       "        <td style=\"padding-left: 1em; padding-right: 1em; text-align: center; vertical-align: top\">2.0</td>\n",
       "        <td style=\"padding-left: 1em; padding-right: 1em; text-align: center; vertical-align: top\">1680</td>\n",
       "        <td style=\"padding-left: 1em; padding-right: 1em; text-align: center; vertical-align: top\">8080</td>\n",
       "        <td style=\"padding-left: 1em; padding-right: 1em; text-align: center; vertical-align: top\">1.0</td>\n",
       "        <td style=\"padding-left: 1em; padding-right: 1em; text-align: center; vertical-align: top\">0</td>\n",
       "        <td style=\"padding-left: 1em; padding-right: 1em; text-align: center; vertical-align: top\">0</td>\n",
       "    </tr>\n",
       "    <tr>\n",
       "        <td style=\"padding-left: 1em; padding-right: 1em; text-align: center; vertical-align: top\">7237550310</td>\n",
       "        <td style=\"padding-left: 1em; padding-right: 1em; text-align: center; vertical-align: top\">20140512T000000</td>\n",
       "        <td style=\"padding-left: 1em; padding-right: 1em; text-align: center; vertical-align: top\">1225000.0</td>\n",
       "        <td style=\"padding-left: 1em; padding-right: 1em; text-align: center; vertical-align: top\">4</td>\n",
       "        <td style=\"padding-left: 1em; padding-right: 1em; text-align: center; vertical-align: top\">4.5</td>\n",
       "        <td style=\"padding-left: 1em; padding-right: 1em; text-align: center; vertical-align: top\">5420</td>\n",
       "        <td style=\"padding-left: 1em; padding-right: 1em; text-align: center; vertical-align: top\">101930</td>\n",
       "        <td style=\"padding-left: 1em; padding-right: 1em; text-align: center; vertical-align: top\">1.0</td>\n",
       "        <td style=\"padding-left: 1em; padding-right: 1em; text-align: center; vertical-align: top\">0</td>\n",
       "        <td style=\"padding-left: 1em; padding-right: 1em; text-align: center; vertical-align: top\">0</td>\n",
       "    </tr>\n",
       "    <tr>\n",
       "        <td style=\"padding-left: 1em; padding-right: 1em; text-align: center; vertical-align: top\">1321400060</td>\n",
       "        <td style=\"padding-left: 1em; padding-right: 1em; text-align: center; vertical-align: top\">20140627T000000</td>\n",
       "        <td style=\"padding-left: 1em; padding-right: 1em; text-align: center; vertical-align: top\">257500.0</td>\n",
       "        <td style=\"padding-left: 1em; padding-right: 1em; text-align: center; vertical-align: top\">3</td>\n",
       "        <td style=\"padding-left: 1em; padding-right: 1em; text-align: center; vertical-align: top\">2.25</td>\n",
       "        <td style=\"padding-left: 1em; padding-right: 1em; text-align: center; vertical-align: top\">1715</td>\n",
       "        <td style=\"padding-left: 1em; padding-right: 1em; text-align: center; vertical-align: top\">6819</td>\n",
       "        <td style=\"padding-left: 1em; padding-right: 1em; text-align: center; vertical-align: top\">2.0</td>\n",
       "        <td style=\"padding-left: 1em; padding-right: 1em; text-align: center; vertical-align: top\">0</td>\n",
       "        <td style=\"padding-left: 1em; padding-right: 1em; text-align: center; vertical-align: top\">0</td>\n",
       "    </tr>\n",
       "    <tr>\n",
       "        <td style=\"padding-left: 1em; padding-right: 1em; text-align: center; vertical-align: top\">2008000270</td>\n",
       "        <td style=\"padding-left: 1em; padding-right: 1em; text-align: center; vertical-align: top\">20150115T000000</td>\n",
       "        <td style=\"padding-left: 1em; padding-right: 1em; text-align: center; vertical-align: top\">291850.0</td>\n",
       "        <td style=\"padding-left: 1em; padding-right: 1em; text-align: center; vertical-align: top\">3</td>\n",
       "        <td style=\"padding-left: 1em; padding-right: 1em; text-align: center; vertical-align: top\">1.5</td>\n",
       "        <td style=\"padding-left: 1em; padding-right: 1em; text-align: center; vertical-align: top\">1060</td>\n",
       "        <td style=\"padding-left: 1em; padding-right: 1em; text-align: center; vertical-align: top\">9711</td>\n",
       "        <td style=\"padding-left: 1em; padding-right: 1em; text-align: center; vertical-align: top\">1.0</td>\n",
       "        <td style=\"padding-left: 1em; padding-right: 1em; text-align: center; vertical-align: top\">0</td>\n",
       "        <td style=\"padding-left: 1em; padding-right: 1em; text-align: center; vertical-align: top\">0</td>\n",
       "    </tr>\n",
       "    <tr>\n",
       "        <td style=\"padding-left: 1em; padding-right: 1em; text-align: center; vertical-align: top\">2414600126</td>\n",
       "        <td style=\"padding-left: 1em; padding-right: 1em; text-align: center; vertical-align: top\">20150415T000000</td>\n",
       "        <td style=\"padding-left: 1em; padding-right: 1em; text-align: center; vertical-align: top\">229500.0</td>\n",
       "        <td style=\"padding-left: 1em; padding-right: 1em; text-align: center; vertical-align: top\">3</td>\n",
       "        <td style=\"padding-left: 1em; padding-right: 1em; text-align: center; vertical-align: top\">1.0</td>\n",
       "        <td style=\"padding-left: 1em; padding-right: 1em; text-align: center; vertical-align: top\">1780</td>\n",
       "        <td style=\"padding-left: 1em; padding-right: 1em; text-align: center; vertical-align: top\">7470</td>\n",
       "        <td style=\"padding-left: 1em; padding-right: 1em; text-align: center; vertical-align: top\">1.0</td>\n",
       "        <td style=\"padding-left: 1em; padding-right: 1em; text-align: center; vertical-align: top\">0</td>\n",
       "        <td style=\"padding-left: 1em; padding-right: 1em; text-align: center; vertical-align: top\">0</td>\n",
       "    </tr>\n",
       "    <tr>\n",
       "        <td style=\"padding-left: 1em; padding-right: 1em; text-align: center; vertical-align: top\">3793500160</td>\n",
       "        <td style=\"padding-left: 1em; padding-right: 1em; text-align: center; vertical-align: top\">20150312T000000</td>\n",
       "        <td style=\"padding-left: 1em; padding-right: 1em; text-align: center; vertical-align: top\">323000.0</td>\n",
       "        <td style=\"padding-left: 1em; padding-right: 1em; text-align: center; vertical-align: top\">3</td>\n",
       "        <td style=\"padding-left: 1em; padding-right: 1em; text-align: center; vertical-align: top\">2.5</td>\n",
       "        <td style=\"padding-left: 1em; padding-right: 1em; text-align: center; vertical-align: top\">1890</td>\n",
       "        <td style=\"padding-left: 1em; padding-right: 1em; text-align: center; vertical-align: top\">6560</td>\n",
       "        <td style=\"padding-left: 1em; padding-right: 1em; text-align: center; vertical-align: top\">2.0</td>\n",
       "        <td style=\"padding-left: 1em; padding-right: 1em; text-align: center; vertical-align: top\">0</td>\n",
       "        <td style=\"padding-left: 1em; padding-right: 1em; text-align: center; vertical-align: top\">0</td>\n",
       "    </tr>\n",
       "</table>\n",
       "<table frame=\"box\" rules=\"cols\">\n",
       "    <tr>\n",
       "        <th style=\"padding-left: 1em; padding-right: 1em; text-align: center\">condition</th>\n",
       "        <th style=\"padding-left: 1em; padding-right: 1em; text-align: center\">grade</th>\n",
       "        <th style=\"padding-left: 1em; padding-right: 1em; text-align: center\">sqft_above</th>\n",
       "        <th style=\"padding-left: 1em; padding-right: 1em; text-align: center\">sqft_basement</th>\n",
       "        <th style=\"padding-left: 1em; padding-right: 1em; text-align: center\">yr_built</th>\n",
       "        <th style=\"padding-left: 1em; padding-right: 1em; text-align: center\">yr_renovated</th>\n",
       "        <th style=\"padding-left: 1em; padding-right: 1em; text-align: center\">zipcode</th>\n",
       "        <th style=\"padding-left: 1em; padding-right: 1em; text-align: center\">lat</th>\n",
       "        <th style=\"padding-left: 1em; padding-right: 1em; text-align: center\">long</th>\n",
       "        <th style=\"padding-left: 1em; padding-right: 1em; text-align: center\">sqft_living15</th>\n",
       "    </tr>\n",
       "    <tr>\n",
       "        <td style=\"padding-left: 1em; padding-right: 1em; text-align: center; vertical-align: top\">3</td>\n",
       "        <td style=\"padding-left: 1em; padding-right: 1em; text-align: center; vertical-align: top\">7</td>\n",
       "        <td style=\"padding-left: 1em; padding-right: 1em; text-align: center; vertical-align: top\">1180</td>\n",
       "        <td style=\"padding-left: 1em; padding-right: 1em; text-align: center; vertical-align: top\">0</td>\n",
       "        <td style=\"padding-left: 1em; padding-right: 1em; text-align: center; vertical-align: top\">1955</td>\n",
       "        <td style=\"padding-left: 1em; padding-right: 1em; text-align: center; vertical-align: top\">0</td>\n",
       "        <td style=\"padding-left: 1em; padding-right: 1em; text-align: center; vertical-align: top\">98178</td>\n",
       "        <td style=\"padding-left: 1em; padding-right: 1em; text-align: center; vertical-align: top\">47.5112</td>\n",
       "        <td style=\"padding-left: 1em; padding-right: 1em; text-align: center; vertical-align: top\">-122.257</td>\n",
       "        <td style=\"padding-left: 1em; padding-right: 1em; text-align: center; vertical-align: top\">1340</td>\n",
       "    </tr>\n",
       "    <tr>\n",
       "        <td style=\"padding-left: 1em; padding-right: 1em; text-align: center; vertical-align: top\">3</td>\n",
       "        <td style=\"padding-left: 1em; padding-right: 1em; text-align: center; vertical-align: top\">7</td>\n",
       "        <td style=\"padding-left: 1em; padding-right: 1em; text-align: center; vertical-align: top\">2170</td>\n",
       "        <td style=\"padding-left: 1em; padding-right: 1em; text-align: center; vertical-align: top\">400</td>\n",
       "        <td style=\"padding-left: 1em; padding-right: 1em; text-align: center; vertical-align: top\">1951</td>\n",
       "        <td style=\"padding-left: 1em; padding-right: 1em; text-align: center; vertical-align: top\">1991</td>\n",
       "        <td style=\"padding-left: 1em; padding-right: 1em; text-align: center; vertical-align: top\">98125</td>\n",
       "        <td style=\"padding-left: 1em; padding-right: 1em; text-align: center; vertical-align: top\">47.721</td>\n",
       "        <td style=\"padding-left: 1em; padding-right: 1em; text-align: center; vertical-align: top\">-122.319</td>\n",
       "        <td style=\"padding-left: 1em; padding-right: 1em; text-align: center; vertical-align: top\">1690</td>\n",
       "    </tr>\n",
       "    <tr>\n",
       "        <td style=\"padding-left: 1em; padding-right: 1em; text-align: center; vertical-align: top\">3</td>\n",
       "        <td style=\"padding-left: 1em; padding-right: 1em; text-align: center; vertical-align: top\">6</td>\n",
       "        <td style=\"padding-left: 1em; padding-right: 1em; text-align: center; vertical-align: top\">770</td>\n",
       "        <td style=\"padding-left: 1em; padding-right: 1em; text-align: center; vertical-align: top\">0</td>\n",
       "        <td style=\"padding-left: 1em; padding-right: 1em; text-align: center; vertical-align: top\">1933</td>\n",
       "        <td style=\"padding-left: 1em; padding-right: 1em; text-align: center; vertical-align: top\">0</td>\n",
       "        <td style=\"padding-left: 1em; padding-right: 1em; text-align: center; vertical-align: top\">98028</td>\n",
       "        <td style=\"padding-left: 1em; padding-right: 1em; text-align: center; vertical-align: top\">47.7379</td>\n",
       "        <td style=\"padding-left: 1em; padding-right: 1em; text-align: center; vertical-align: top\">-122.233</td>\n",
       "        <td style=\"padding-left: 1em; padding-right: 1em; text-align: center; vertical-align: top\">2720</td>\n",
       "    </tr>\n",
       "    <tr>\n",
       "        <td style=\"padding-left: 1em; padding-right: 1em; text-align: center; vertical-align: top\">5</td>\n",
       "        <td style=\"padding-left: 1em; padding-right: 1em; text-align: center; vertical-align: top\">7</td>\n",
       "        <td style=\"padding-left: 1em; padding-right: 1em; text-align: center; vertical-align: top\">1050</td>\n",
       "        <td style=\"padding-left: 1em; padding-right: 1em; text-align: center; vertical-align: top\">910</td>\n",
       "        <td style=\"padding-left: 1em; padding-right: 1em; text-align: center; vertical-align: top\">1965</td>\n",
       "        <td style=\"padding-left: 1em; padding-right: 1em; text-align: center; vertical-align: top\">0</td>\n",
       "        <td style=\"padding-left: 1em; padding-right: 1em; text-align: center; vertical-align: top\">98136</td>\n",
       "        <td style=\"padding-left: 1em; padding-right: 1em; text-align: center; vertical-align: top\">47.5208</td>\n",
       "        <td style=\"padding-left: 1em; padding-right: 1em; text-align: center; vertical-align: top\">-122.393</td>\n",
       "        <td style=\"padding-left: 1em; padding-right: 1em; text-align: center; vertical-align: top\">1360</td>\n",
       "    </tr>\n",
       "    <tr>\n",
       "        <td style=\"padding-left: 1em; padding-right: 1em; text-align: center; vertical-align: top\">3</td>\n",
       "        <td style=\"padding-left: 1em; padding-right: 1em; text-align: center; vertical-align: top\">8</td>\n",
       "        <td style=\"padding-left: 1em; padding-right: 1em; text-align: center; vertical-align: top\">1680</td>\n",
       "        <td style=\"padding-left: 1em; padding-right: 1em; text-align: center; vertical-align: top\">0</td>\n",
       "        <td style=\"padding-left: 1em; padding-right: 1em; text-align: center; vertical-align: top\">1987</td>\n",
       "        <td style=\"padding-left: 1em; padding-right: 1em; text-align: center; vertical-align: top\">0</td>\n",
       "        <td style=\"padding-left: 1em; padding-right: 1em; text-align: center; vertical-align: top\">98074</td>\n",
       "        <td style=\"padding-left: 1em; padding-right: 1em; text-align: center; vertical-align: top\">47.6168</td>\n",
       "        <td style=\"padding-left: 1em; padding-right: 1em; text-align: center; vertical-align: top\">-122.045</td>\n",
       "        <td style=\"padding-left: 1em; padding-right: 1em; text-align: center; vertical-align: top\">1800</td>\n",
       "    </tr>\n",
       "    <tr>\n",
       "        <td style=\"padding-left: 1em; padding-right: 1em; text-align: center; vertical-align: top\">3</td>\n",
       "        <td style=\"padding-left: 1em; padding-right: 1em; text-align: center; vertical-align: top\">11</td>\n",
       "        <td style=\"padding-left: 1em; padding-right: 1em; text-align: center; vertical-align: top\">3890</td>\n",
       "        <td style=\"padding-left: 1em; padding-right: 1em; text-align: center; vertical-align: top\">1530</td>\n",
       "        <td style=\"padding-left: 1em; padding-right: 1em; text-align: center; vertical-align: top\">2001</td>\n",
       "        <td style=\"padding-left: 1em; padding-right: 1em; text-align: center; vertical-align: top\">0</td>\n",
       "        <td style=\"padding-left: 1em; padding-right: 1em; text-align: center; vertical-align: top\">98053</td>\n",
       "        <td style=\"padding-left: 1em; padding-right: 1em; text-align: center; vertical-align: top\">47.6561</td>\n",
       "        <td style=\"padding-left: 1em; padding-right: 1em; text-align: center; vertical-align: top\">-122.005</td>\n",
       "        <td style=\"padding-left: 1em; padding-right: 1em; text-align: center; vertical-align: top\">4760</td>\n",
       "    </tr>\n",
       "    <tr>\n",
       "        <td style=\"padding-left: 1em; padding-right: 1em; text-align: center; vertical-align: top\">3</td>\n",
       "        <td style=\"padding-left: 1em; padding-right: 1em; text-align: center; vertical-align: top\">7</td>\n",
       "        <td style=\"padding-left: 1em; padding-right: 1em; text-align: center; vertical-align: top\">1715</td>\n",
       "        <td style=\"padding-left: 1em; padding-right: 1em; text-align: center; vertical-align: top\">0</td>\n",
       "        <td style=\"padding-left: 1em; padding-right: 1em; text-align: center; vertical-align: top\">1995</td>\n",
       "        <td style=\"padding-left: 1em; padding-right: 1em; text-align: center; vertical-align: top\">0</td>\n",
       "        <td style=\"padding-left: 1em; padding-right: 1em; text-align: center; vertical-align: top\">98003</td>\n",
       "        <td style=\"padding-left: 1em; padding-right: 1em; text-align: center; vertical-align: top\">47.3097</td>\n",
       "        <td style=\"padding-left: 1em; padding-right: 1em; text-align: center; vertical-align: top\">-122.327</td>\n",
       "        <td style=\"padding-left: 1em; padding-right: 1em; text-align: center; vertical-align: top\">2238</td>\n",
       "    </tr>\n",
       "    <tr>\n",
       "        <td style=\"padding-left: 1em; padding-right: 1em; text-align: center; vertical-align: top\">3</td>\n",
       "        <td style=\"padding-left: 1em; padding-right: 1em; text-align: center; vertical-align: top\">7</td>\n",
       "        <td style=\"padding-left: 1em; padding-right: 1em; text-align: center; vertical-align: top\">1060</td>\n",
       "        <td style=\"padding-left: 1em; padding-right: 1em; text-align: center; vertical-align: top\">0</td>\n",
       "        <td style=\"padding-left: 1em; padding-right: 1em; text-align: center; vertical-align: top\">1963</td>\n",
       "        <td style=\"padding-left: 1em; padding-right: 1em; text-align: center; vertical-align: top\">0</td>\n",
       "        <td style=\"padding-left: 1em; padding-right: 1em; text-align: center; vertical-align: top\">98198</td>\n",
       "        <td style=\"padding-left: 1em; padding-right: 1em; text-align: center; vertical-align: top\">47.4095</td>\n",
       "        <td style=\"padding-left: 1em; padding-right: 1em; text-align: center; vertical-align: top\">-122.315</td>\n",
       "        <td style=\"padding-left: 1em; padding-right: 1em; text-align: center; vertical-align: top\">1650</td>\n",
       "    </tr>\n",
       "    <tr>\n",
       "        <td style=\"padding-left: 1em; padding-right: 1em; text-align: center; vertical-align: top\">3</td>\n",
       "        <td style=\"padding-left: 1em; padding-right: 1em; text-align: center; vertical-align: top\">7</td>\n",
       "        <td style=\"padding-left: 1em; padding-right: 1em; text-align: center; vertical-align: top\">1050</td>\n",
       "        <td style=\"padding-left: 1em; padding-right: 1em; text-align: center; vertical-align: top\">730</td>\n",
       "        <td style=\"padding-left: 1em; padding-right: 1em; text-align: center; vertical-align: top\">1960</td>\n",
       "        <td style=\"padding-left: 1em; padding-right: 1em; text-align: center; vertical-align: top\">0</td>\n",
       "        <td style=\"padding-left: 1em; padding-right: 1em; text-align: center; vertical-align: top\">98146</td>\n",
       "        <td style=\"padding-left: 1em; padding-right: 1em; text-align: center; vertical-align: top\">47.5123</td>\n",
       "        <td style=\"padding-left: 1em; padding-right: 1em; text-align: center; vertical-align: top\">-122.337</td>\n",
       "        <td style=\"padding-left: 1em; padding-right: 1em; text-align: center; vertical-align: top\">1780</td>\n",
       "    </tr>\n",
       "    <tr>\n",
       "        <td style=\"padding-left: 1em; padding-right: 1em; text-align: center; vertical-align: top\">3</td>\n",
       "        <td style=\"padding-left: 1em; padding-right: 1em; text-align: center; vertical-align: top\">7</td>\n",
       "        <td style=\"padding-left: 1em; padding-right: 1em; text-align: center; vertical-align: top\">1890</td>\n",
       "        <td style=\"padding-left: 1em; padding-right: 1em; text-align: center; vertical-align: top\">0</td>\n",
       "        <td style=\"padding-left: 1em; padding-right: 1em; text-align: center; vertical-align: top\">2003</td>\n",
       "        <td style=\"padding-left: 1em; padding-right: 1em; text-align: center; vertical-align: top\">0</td>\n",
       "        <td style=\"padding-left: 1em; padding-right: 1em; text-align: center; vertical-align: top\">98038</td>\n",
       "        <td style=\"padding-left: 1em; padding-right: 1em; text-align: center; vertical-align: top\">47.3684</td>\n",
       "        <td style=\"padding-left: 1em; padding-right: 1em; text-align: center; vertical-align: top\">-122.031</td>\n",
       "        <td style=\"padding-left: 1em; padding-right: 1em; text-align: center; vertical-align: top\">2390</td>\n",
       "    </tr>\n",
       "</table>\n",
       "<table frame=\"box\" rules=\"cols\">\n",
       "    <tr>\n",
       "        <th style=\"padding-left: 1em; padding-right: 1em; text-align: center\">sqft_lot15</th>\n",
       "    </tr>\n",
       "    <tr>\n",
       "        <td style=\"padding-left: 1em; padding-right: 1em; text-align: center; vertical-align: top\">5650</td>\n",
       "    </tr>\n",
       "    <tr>\n",
       "        <td style=\"padding-left: 1em; padding-right: 1em; text-align: center; vertical-align: top\">7639</td>\n",
       "    </tr>\n",
       "    <tr>\n",
       "        <td style=\"padding-left: 1em; padding-right: 1em; text-align: center; vertical-align: top\">8062</td>\n",
       "    </tr>\n",
       "    <tr>\n",
       "        <td style=\"padding-left: 1em; padding-right: 1em; text-align: center; vertical-align: top\">5000</td>\n",
       "    </tr>\n",
       "    <tr>\n",
       "        <td style=\"padding-left: 1em; padding-right: 1em; text-align: center; vertical-align: top\">7503</td>\n",
       "    </tr>\n",
       "    <tr>\n",
       "        <td style=\"padding-left: 1em; padding-right: 1em; text-align: center; vertical-align: top\">101930</td>\n",
       "    </tr>\n",
       "    <tr>\n",
       "        <td style=\"padding-left: 1em; padding-right: 1em; text-align: center; vertical-align: top\">6819</td>\n",
       "    </tr>\n",
       "    <tr>\n",
       "        <td style=\"padding-left: 1em; padding-right: 1em; text-align: center; vertical-align: top\">9711</td>\n",
       "    </tr>\n",
       "    <tr>\n",
       "        <td style=\"padding-left: 1em; padding-right: 1em; text-align: center; vertical-align: top\">8113</td>\n",
       "    </tr>\n",
       "    <tr>\n",
       "        <td style=\"padding-left: 1em; padding-right: 1em; text-align: center; vertical-align: top\">7570</td>\n",
       "    </tr>\n",
       "</table>\n",
       "[21613 rows x 21 columns]<br/>Note: Only the head of the SFrame is printed.<br/>You can use print_rows(num_rows=m, num_columns=n) to print more rows and columns.\n",
       "</div>"
      ],
      "text/plain": [
       "Columns:\n",
       "\tid\tint\n",
       "\tdate\tstr\n",
       "\tprice\tfloat\n",
       "\tbedrooms\tint\n",
       "\tbathrooms\tfloat\n",
       "\tsqft_living\tint\n",
       "\tsqft_lot\tint\n",
       "\tfloors\tfloat\n",
       "\twaterfront\tint\n",
       "\tview\tint\n",
       "\tcondition\tint\n",
       "\tgrade\tint\n",
       "\tsqft_above\tint\n",
       "\tsqft_basement\tint\n",
       "\tyr_built\tint\n",
       "\tyr_renovated\tint\n",
       "\tzipcode\tint\n",
       "\tlat\tfloat\n",
       "\tlong\tfloat\n",
       "\tsqft_living15\tint\n",
       "\tsqft_lot15\tint\n",
       "\n",
       "Rows: 21613\n",
       "\n",
       "Data:\n",
       "+------------+-----------------+-----------+----------+-----------+-------------+\n",
       "|     id     |       date      |   price   | bedrooms | bathrooms | sqft_living |\n",
       "+------------+-----------------+-----------+----------+-----------+-------------+\n",
       "| 7129300520 | 20141013T000000 |  221900.0 |    3     |    1.0    |     1180    |\n",
       "| 6414100192 | 20141209T000000 |  538000.0 |    3     |    2.25   |     2570    |\n",
       "| 5631500400 | 20150225T000000 |  180000.0 |    2     |    1.0    |     770     |\n",
       "| 2487200875 | 20141209T000000 |  604000.0 |    4     |    3.0    |     1960    |\n",
       "| 1954400510 | 20150218T000000 |  510000.0 |    3     |    2.0    |     1680    |\n",
       "| 7237550310 | 20140512T000000 | 1225000.0 |    4     |    4.5    |     5420    |\n",
       "| 1321400060 | 20140627T000000 |  257500.0 |    3     |    2.25   |     1715    |\n",
       "| 2008000270 | 20150115T000000 |  291850.0 |    3     |    1.5    |     1060    |\n",
       "| 2414600126 | 20150415T000000 |  229500.0 |    3     |    1.0    |     1780    |\n",
       "| 3793500160 | 20150312T000000 |  323000.0 |    3     |    2.5    |     1890    |\n",
       "+------------+-----------------+-----------+----------+-----------+-------------+\n",
       "+----------+--------+------------+------+-----------+-------+------------+---------------+\n",
       "| sqft_lot | floors | waterfront | view | condition | grade | sqft_above | sqft_basement |\n",
       "+----------+--------+------------+------+-----------+-------+------------+---------------+\n",
       "|   5650   |  1.0   |     0      |  0   |     3     |   7   |    1180    |       0       |\n",
       "|   7242   |  2.0   |     0      |  0   |     3     |   7   |    2170    |      400      |\n",
       "|  10000   |  1.0   |     0      |  0   |     3     |   6   |    770     |       0       |\n",
       "|   5000   |  1.0   |     0      |  0   |     5     |   7   |    1050    |      910      |\n",
       "|   8080   |  1.0   |     0      |  0   |     3     |   8   |    1680    |       0       |\n",
       "|  101930  |  1.0   |     0      |  0   |     3     |   11  |    3890    |      1530     |\n",
       "|   6819   |  2.0   |     0      |  0   |     3     |   7   |    1715    |       0       |\n",
       "|   9711   |  1.0   |     0      |  0   |     3     |   7   |    1060    |       0       |\n",
       "|   7470   |  1.0   |     0      |  0   |     3     |   7   |    1050    |      730      |\n",
       "|   6560   |  2.0   |     0      |  0   |     3     |   7   |    1890    |       0       |\n",
       "+----------+--------+------------+------+-----------+-------+------------+---------------+\n",
       "+----------+--------------+---------+---------+----------+---------------+-----+\n",
       "| yr_built | yr_renovated | zipcode |   lat   |   long   | sqft_living15 | ... |\n",
       "+----------+--------------+---------+---------+----------+---------------+-----+\n",
       "|   1955   |      0       |  98178  | 47.5112 | -122.257 |      1340     | ... |\n",
       "|   1951   |     1991     |  98125  |  47.721 | -122.319 |      1690     | ... |\n",
       "|   1933   |      0       |  98028  | 47.7379 | -122.233 |      2720     | ... |\n",
       "|   1965   |      0       |  98136  | 47.5208 | -122.393 |      1360     | ... |\n",
       "|   1987   |      0       |  98074  | 47.6168 | -122.045 |      1800     | ... |\n",
       "|   2001   |      0       |  98053  | 47.6561 | -122.005 |      4760     | ... |\n",
       "|   1995   |      0       |  98003  | 47.3097 | -122.327 |      2238     | ... |\n",
       "|   1963   |      0       |  98198  | 47.4095 | -122.315 |      1650     | ... |\n",
       "|   1960   |      0       |  98146  | 47.5123 | -122.337 |      1780     | ... |\n",
       "|   2003   |      0       |  98038  | 47.3684 | -122.031 |      2390     | ... |\n",
       "+----------+--------------+---------+---------+----------+---------------+-----+\n",
       "[21613 rows x 21 columns]\n",
       "Note: Only the head of the SFrame is printed.\n",
       "You can use print_rows(num_rows=m, num_columns=n) to print more rows and columns."
      ]
     },
     "execution_count": 3,
     "metadata": {},
     "output_type": "execute_result"
    }
   ],
   "source": [
    "data"
   ]
  },
  {
   "cell_type": "markdown",
   "metadata": {},
   "source": [
    "Spliting data into training and testing sets"
   ]
  },
  {
   "cell_type": "code",
   "execution_count": 4,
   "metadata": {
    "collapsed": true
   },
   "outputs": [],
   "source": [
    "train_data, test_data = data.random_split(0.8, seed=0)"
   ]
  },
  {
   "cell_type": "markdown",
   "metadata": {},
   "source": [
    "Creating a model using the turicreate.linear_regression.create using the living square feet size as the feature."
   ]
  },
  {
   "cell_type": "code",
   "execution_count": 5,
<<<<<<< HEAD
   "metadata": {},
=======
   "metadata": {
    "collapsed": false
   },
>>>>>>> fda45caebc9fd429ce5fccf2477ba68334d8609f
   "outputs": [
    {
     "name": "stdout",
     "output_type": "stream",
     "text": [
      "PROGRESS: Creating a validation set from 5 percent of training data. This may take a while.\n",
      "          You can set ``validation_set=None`` to disable validation tracking.\n",
      "\n"
     ]
    },
    {
     "data": {
      "text/html": [
       "<pre>Linear regression:</pre>"
      ],
      "text/plain": [
       "Linear regression:"
      ]
     },
     "metadata": {},
     "output_type": "display_data"
    },
    {
     "data": {
      "text/html": [
       "<pre>--------------------------------------------------------</pre>"
      ],
      "text/plain": [
       "--------------------------------------------------------"
      ]
     },
     "metadata": {},
     "output_type": "display_data"
    },
    {
     "data": {
      "text/html": [
<<<<<<< HEAD
       "<pre>Number of examples          : 16437</pre>"
      ],
      "text/plain": [
       "Number of examples          : 16437"
=======
       "<pre>Number of examples          : 16454</pre>"
      ],
      "text/plain": [
       "Number of examples          : 16454"
>>>>>>> fda45caebc9fd429ce5fccf2477ba68334d8609f
      ]
     },
     "metadata": {},
     "output_type": "display_data"
    },
    {
     "data": {
      "text/html": [
       "<pre>Number of features          : 1</pre>"
      ],
      "text/plain": [
       "Number of features          : 1"
      ]
     },
     "metadata": {},
     "output_type": "display_data"
    },
    {
     "data": {
      "text/html": [
       "<pre>Number of unpacked features : 1</pre>"
      ],
      "text/plain": [
       "Number of unpacked features : 1"
      ]
     },
     "metadata": {},
     "output_type": "display_data"
    },
    {
     "data": {
      "text/html": [
       "<pre>Number of coefficients    : 2</pre>"
      ],
      "text/plain": [
       "Number of coefficients    : 2"
      ]
     },
     "metadata": {},
     "output_type": "display_data"
    },
    {
     "data": {
      "text/html": [
       "<pre>Starting Newton Method</pre>"
      ],
      "text/plain": [
       "Starting Newton Method"
      ]
     },
     "metadata": {},
     "output_type": "display_data"
    },
    {
     "data": {
      "text/html": [
       "<pre>--------------------------------------------------------</pre>"
      ],
      "text/plain": [
       "--------------------------------------------------------"
      ]
     },
     "metadata": {},
     "output_type": "display_data"
    },
    {
     "data": {
      "text/html": [
       "<pre>+-----------+----------+--------------+--------------------+----------------------+---------------+-----------------+</pre>"
      ],
      "text/plain": [
       "+-----------+----------+--------------+--------------------+----------------------+---------------+-----------------+"
      ]
     },
     "metadata": {},
     "output_type": "display_data"
    },
    {
     "data": {
      "text/html": [
       "<pre>| Iteration | Passes   | Elapsed Time | Training-max_error | Validation-max_error | Training-rmse | Validation-rmse |</pre>"
      ],
      "text/plain": [
       "| Iteration | Passes   | Elapsed Time | Training-max_error | Validation-max_error | Training-rmse | Validation-rmse |"
      ]
     },
     "metadata": {},
     "output_type": "display_data"
    },
    {
     "data": {
      "text/html": [
       "<pre>+-----------+----------+--------------+--------------------+----------------------+---------------+-----------------+</pre>"
      ],
      "text/plain": [
       "+-----------+----------+--------------+--------------------+----------------------+---------------+-----------------+"
      ]
     },
     "metadata": {},
     "output_type": "display_data"
    },
    {
     "data": {
      "text/html": [
<<<<<<< HEAD
       "<pre>| 1         | 2        | 1.028606     | 4327989.601817     | 2004745.411710       | 264091.740682 | 242299.665320   |</pre>"
      ],
      "text/plain": [
       "| 1         | 2        | 1.028606     | 4327989.601817     | 2004745.411710       | 264091.740682 | 242299.665320   |"
=======
       "<pre>| 1         | 2        | 1.017259     | 4375188.100634     | 3277177.362679       | 261397.280327 | 289117.699465   |</pre>"
      ],
      "text/plain": [
       "| 1         | 2        | 1.017259     | 4375188.100634     | 3277177.362679       | 261397.280327 | 289117.699465   |"
>>>>>>> fda45caebc9fd429ce5fccf2477ba68334d8609f
      ]
     },
     "metadata": {},
     "output_type": "display_data"
    },
    {
     "data": {
      "text/html": [
       "<pre>+-----------+----------+--------------+--------------------+----------------------+---------------+-----------------+</pre>"
      ],
      "text/plain": [
       "+-----------+----------+--------------+--------------------+----------------------+---------------+-----------------+"
      ]
     },
     "metadata": {},
     "output_type": "display_data"
    },
    {
     "data": {
      "text/html": [
       "<pre>SUCCESS: Optimal solution found.</pre>"
      ],
      "text/plain": [
       "SUCCESS: Optimal solution found."
      ]
     },
     "metadata": {},
     "output_type": "display_data"
<<<<<<< HEAD
=======
    },
    {
     "data": {
      "text/html": [
       "<pre></pre>"
      ],
      "text/plain": []
     },
     "metadata": {},
     "output_type": "display_data"
>>>>>>> fda45caebc9fd429ce5fccf2477ba68334d8609f
    }
   ],
   "source": [
    "model = tc.linear_regression.create(train_data, target='price', features = ['sqft_living'])"
   ]
  },
  {
   "cell_type": "markdown",
   "metadata": {},
   "source": [
    "Making the predicitons"
   ]
  },
  {
   "cell_type": "code",
   "execution_count": 6,
<<<<<<< HEAD
   "metadata": {},
   "outputs": [
    {
     "data": {
      "text/html": [
       "<pre></pre>"
      ],
      "text/plain": []
     },
     "metadata": {},
     "output_type": "display_data"
    }
   ],
=======
   "metadata": {
    "collapsed": false
   },
   "outputs": [],
>>>>>>> fda45caebc9fd429ce5fccf2477ba68334d8609f
   "source": [
    "predictions = model.predict(test_data)"
   ]
  },
  {
   "cell_type": "markdown",
   "metadata": {},
   "source": [
    "Evaluating the predictions"
   ]
  },
  {
   "cell_type": "code",
   "execution_count": 7,
<<<<<<< HEAD
   "metadata": {},
=======
   "metadata": {
    "collapsed": false
   },
>>>>>>> fda45caebc9fd429ce5fccf2477ba68334d8609f
   "outputs": [],
   "source": [
    "results = model.evaluate(test_data)"
   ]
  },
  {
   "cell_type": "code",
   "execution_count": 8,
<<<<<<< HEAD
   "metadata": {},
=======
   "metadata": {
    "collapsed": false
   },
>>>>>>> fda45caebc9fd429ce5fccf2477ba68334d8609f
   "outputs": [
    {
     "name": "stdout",
     "output_type": "stream",
     "text": [
<<<<<<< HEAD
      "{'max_error': 4126609.3739064615, 'rmse': 255241.2422276159}\n"
=======
      "{'max_error': 4163685.2693070523, 'rmse': 255145.8423577738}\n"
>>>>>>> fda45caebc9fd429ce5fccf2477ba68334d8609f
     ]
    }
   ],
   "source": [
    "print results"
   ]
  },
  {
   "cell_type": "markdown",
   "metadata": {},
   "source": [
    "Plotting the model"
   ]
  },
  {
   "cell_type": "code",
   "execution_count": 9,
<<<<<<< HEAD
   "metadata": {},
   "outputs": [
    {
     "data": {
      "image/png": "iVBORw0KGgoAAAANSUhEUgAAAXwAAAEKCAYAAAARnO4WAAAABHNCSVQICAgIfAhkiAAAAAlwSFlz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\n",
      "text/plain": [
       "<matplotlib.figure.Figure at 0x7ff463ab1490>"
=======
   "metadata": {
    "collapsed": false
   },
   "outputs": [
    {
     "data": {
      "image/png": "iVBORw0KGgoAAAANSUhEUgAAAXwAAAEKCAYAAAARnO4WAAAABHNCSVQICAgIfAhkiAAAAAlwSFlz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\nWMA3xpgSYQHfGGNKhAV8Y4wpEf8/MWir7KqUqxcAAAAASUVORK5CYII=\n",
      "text/plain": [
       "<matplotlib.figure.Figure at 0x7f481fffd850>"
>>>>>>> fda45caebc9fd429ce5fccf2477ba68334d8609f
      ]
     },
     "metadata": {},
     "output_type": "display_data"
    }
   ],
   "source": [
    "plt.plot(test_data['sqft_living'], test_data['price']/1000000,'.',\n",
    "         test_data['sqft_living'], predictions/1000000,'-')\n",
    "plt.ylabel('Price (Millions USD$)')\n",
    "plt.xlabel('House Size (Square Feet)')\n",
    "plt.show()"
   ]
  },
  {
   "cell_type": "markdown",
   "metadata": {},
   "source": [
    "Making a prediction for a single value."
   ]
  },
  {
   "cell_type": "code",
   "execution_count": 10,
<<<<<<< HEAD
   "metadata": {},
=======
   "metadata": {
    "collapsed": false
   },
>>>>>>> fda45caebc9fd429ce5fccf2477ba68334d8609f
   "outputs": [
    {
     "name": "stdout",
     "output_type": "stream",
     "text": [
<<<<<<< HEAD
      "[4210055.920250784]\n"
=======
      "[4149032.5695450553]\n"
>>>>>>> fda45caebc9fd429ce5fccf2477ba68334d8609f
     ]
    }
   ],
   "source": [
    "size_to_predict = 15000\n",
    "forecast = model.predict(tc.SFrame({'sqft_living':[size_to_predict]}))\n",
    "print forecast"
   ]
  },
  {
   "cell_type": "markdown",
   "metadata": {
    "collapsed": true
   },
   "source": [
    "# Now, let's create our own function\n",
    "\n",
    "We want to fit a line that best estimates all the values in the training set. For that, we need to find 2 parameters: the slope and the intercept. The equation of the line is:\n",
    "\n",
    "$$y_{i}^{,}(x_i) = w_0 + w_{1}*x_i$$\n",
    "\n",
    "Now, we want to find the parameters $w_0$ and $w_1$ that reduces the cost function (the sum of the squared difference between measured data $y_i$ to the predicted data $y_{i}^{,}$):\n",
    "\n",
    "$$RSS(w_0,w_1) = \\sum_{i=1}^{N}(y_i - y_{i}^{,})^2 = \\sum_{i=1}^{N}(y_i - [w_0 + w_{1}*x_i])^2$$\n",
    "\n",
    "Minimizing the cost function means to take the derivative of cost function for each parameter ($w_0$ and $w_1$) and make it equal to zero. This leads to 2 simple formulas for $w_0$ and $w_1$:\n",
    "\n",
    "$$w_0 = \\frac{\\sum_{i=1}^{N}y_i}{N} - w_{1}\\frac{\\sum_{i=1}^{N}x_i}{N}$$\n",
    "\n",
    "and\n",
    "\n",
    "$$w_1 = \\frac{\\sum_{i=1}^{N}y_{i}x_{i} - \\frac{\\sum_{i=1}^{N}y_{i}\\sum_{i=1}^{N}x_{i}}{N}}{\\sum_{i=1}^{N}x_{i}^2 - \\frac{\\sum_{i=1}^{N}x_{i}\\sum_{i=1}^{N}x_{i}}{N}}$$\n",
    "\n",
    "With the equations above, it is possible to compute the intercept ($w_0$) and the slope ($w_1$) that best predict the output $(y_{i}^{'})$ given the input $x_i$ and the measured data $y_i$ (for one feature only).\n",
    "\n",
    "Now, let's create the function that gets the input feature $x_i$ and the measured data $y_i$ of the training set, and return the intercept $w_0$ and the slope $w_1$."
   ]
  },
  {
   "cell_type": "code",
   "execution_count": 11,
   "metadata": {
    "collapsed": true
   },
   "outputs": [],
   "source": [
    "def linear_regression_single(input_feature, measured_data):\n",
    "    # First, let's compute the sums and squared sums of the parameters equations\n",
    "    Isum = input_feature.sum()\n",
    "    Msum = measured_data.sum()\n",
    "    IMsum = sum([input_feature[i]*measured_data[i] for i in range(len(input_feature))])\n",
    "    IIsum = sum([input_feature[i]*input_feature[i] for i in range(len(input_feature))])\n",
    "\n",
    "    # We need to compute the slope first\n",
    "    num = IMsum-(1./len(input_feature)*(Isum*Msum))\n",
    "    den = IIsum-(1./len(input_feature)*(Isum*Isum))\n",
    "    slope = num/den\n",
    "    \n",
    "    # Now that we have the slope, we can compute the intercept\n",
    "    intercept = (1./len(input_feature))*Msum-slope*Isum*(1./len(input_feature))\n",
    "    \n",
    "    # Return the parameters\n",
    "    return (intercept, slope)"
   ]
  },
  {
   "cell_type": "markdown",
   "metadata": {},
   "source": [
    "Let's check our function"
   ]
  },
  {
   "cell_type": "code",
   "execution_count": 12,
<<<<<<< HEAD
   "metadata": {},
=======
   "metadata": {
    "collapsed": false
   },
>>>>>>> fda45caebc9fd429ce5fccf2477ba68334d8609f
   "outputs": [
    {
     "name": "stdout",
     "output_type": "stream",
     "text": [
      "Intercept: -47116.0790729\n",
      "Slope: 281.95883963\n"
     ]
    }
   ],
   "source": [
    "intercept_1, slope_1 = linear_regression_single(train_data['sqft_living'], train_data['price'])\n",
    "\n",
    "print \"Intercept: \" + str(intercept_1)\n",
    "print \"Slope: \" + str(slope_1)"
   ]
  },
  {
   "cell_type": "markdown",
   "metadata": {},
   "source": [
    "Those values look close to the ones obtained by using the Turicreate.\n",
    "\n",
    "The next step is to calculate the estimations $y_{i}^{,}$ by using the linear equation:\n",
    "\n",
    "$$y_{i}^{,}(x_i) = w_0 + w_{1}*x_i$$\n",
    "\n",
    "Let's create a function that gets the input feature $x_i$ and the measured data $y_i$. It needs to estimate the intercept $w_0$ and slope $w_1$ and calculate the predictions $y_{i}^{,}$ using the linear equation above."
   ]
  },
  {
   "cell_type": "code",
   "execution_count": 13,
<<<<<<< HEAD
   "metadata": {},
=======
   "metadata": {
    "collapsed": false
   },
>>>>>>> fda45caebc9fd429ce5fccf2477ba68334d8609f
   "outputs": [],
   "source": [
    "def regression_predictions_single(input_feature, measured_data, single_input = 0):\n",
    "    # First, we need to estimete the intercept and the slope\n",
    "    intercept, slope = linear_regression_single(input_feature, measured_data)\n",
    "    \n",
    "    # Now, compute the predictions\n",
    "    predicted_values = intercept + slope*input_feature\n",
    "    \n",
    "    # Computing single prediction to compare functions\n",
    "    single_prediction = 0\n",
    "    if single_input != 0:\n",
    "        single_prediction = intercept + slope*single_input\n",
    "        \n",
    "    # Return outputs\n",
    "    return predicted_values, single_prediction"
   ]
  },
  {
   "cell_type": "markdown",
   "metadata": {},
   "source": [
    "The following function has the input feature, slope and intercept as input so the can estimate the parameters in the training data and make predictions in the testing data."
   ]
  },
  {
   "cell_type": "code",
   "execution_count": 14,
   "metadata": {
    "collapsed": true
   },
   "outputs": [],
   "source": [
    "def regression_predictions_single_test(input_feature, slope, intercept, single_input = 0):\n",
    "    # In this functions, we input the slope and intercept, so we can make predictions on the testing set\n",
    "    predicted_values = intercept + slope*input_feature\n",
    "\n",
    "    # Computing single prediction to compare functions\n",
    "    single_prediction = 0\n",
    "    if single_input != 0:\n",
    "        single_prediction = intercept + slope*single_input\n",
    "        \n",
    "    # Return outputs\n",
    "    return predicted_values, single_prediction"
   ]
  },
  {
   "cell_type": "markdown",
   "metadata": {},
   "source": [
    "Let's test our function:"
   ]
  },
  {
   "cell_type": "code",
   "execution_count": 15,
<<<<<<< HEAD
   "metadata": {},
=======
   "metadata": {
    "collapsed": false
   },
>>>>>>> fda45caebc9fd429ce5fccf2477ba68334d8609f
   "outputs": [
    {
     "data": {
      "image/png": "iVBORw0KGgoAAAANSUhEUgAAAYMAAAEKCAYAAADw2zkCAAAABHNCSVQICAgIfAhkiAAAAAlwSFlz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\nwDAMwwD+P5k1iVJ8/llTAAAAAElFTkSuQmCC\n",
      "text/plain": [
<<<<<<< HEAD
       "<matplotlib.figure.Figure at 0x7ff46172ef10>"
=======
       "<matplotlib.figure.Figure at 0x7f482c2b1310>"
>>>>>>> fda45caebc9fd429ce5fccf2477ba68334d8609f
      ]
     },
     "metadata": {},
     "output_type": "display_data"
    }
   ],
   "source": [
    "predictions, single_prediction = regression_predictions_single(data['sqft_living'], data['price'], size_to_predict)\n",
    "\n",
    "plt.plot(data['sqft_living'], data['price']/1000000,'.',\n",
    "         data['sqft_living'], predictions/1000000,'-')\n",
    "plt.ylabel('Price (Millions USD$)')\n",
    "plt.xlabel('House Size (Square Feet)')\n",
    "plt.show()"
   ]
  },
  {
   "cell_type": "markdown",
   "metadata": {},
   "source": [
    "Above, we did a linear regression for the whole dataset. Below, we are using the slope and intercept estimated in the training data to make estimations over the testing data."
   ]
  },
  {
   "cell_type": "code",
   "execution_count": 16,
<<<<<<< HEAD
   "metadata": {},
=======
   "metadata": {
    "collapsed": false
   },
>>>>>>> fda45caebc9fd429ce5fccf2477ba68334d8609f
   "outputs": [
    {
     "data": {
      "image/png": "iVBORw0KGgoAAAANSUhEUgAAAXwAAAEKCAYAAAARnO4WAAAABHNCSVQICAgIfAhkiAAAAAlwSFlz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\npkL8f4J1rdrb2q9WAAAAAElFTkSuQmCC\n",
      "text/plain": [
<<<<<<< HEAD
       "<matplotlib.figure.Figure at 0x7ff46063b650>"
=======
       "<matplotlib.figure.Figure at 0x7f481c593610>"
>>>>>>> fda45caebc9fd429ce5fccf2477ba68334d8609f
      ]
     },
     "metadata": {},
     "output_type": "display_data"
    }
   ],
   "source": [
    "predictions2, single_prediction2 = regression_predictions_single_test(test_data['sqft_living'], slope_1, intercept_1, size_to_predict)\n",
    "\n",
    "plt.plot(test_data['sqft_living'], test_data['price']/1000000,'.',\n",
    "         test_data['sqft_living'], predictions2/1000000,'-')\n",
    "plt.ylabel('Price (Millions USD$)')\n",
    "plt.xlabel('House Size (Square Feet)')\n",
    "plt.show()"
   ]
  },
  {
   "cell_type": "code",
   "execution_count": 17,
<<<<<<< HEAD
   "metadata": {},
=======
   "metadata": {
    "collapsed": false
   },
>>>>>>> fda45caebc9fd429ce5fccf2477ba68334d8609f
   "outputs": [
    {
     "name": "stdout",
     "output_type": "stream",
     "text": [
      "4182266.51538\n",
<<<<<<< HEAD
      "[4210055.920250784]\n"
=======
      "[4149032.5695450553]\n"
>>>>>>> fda45caebc9fd429ce5fccf2477ba68334d8609f
     ]
    }
   ],
   "source": [
    "print single_prediction2\n",
    "print forecast"
   ]
  },
  {
   "cell_type": "markdown",
   "metadata": {},
   "source": [
    "Again, it is very similar to the estimation we get with the Turicreate. But we did all for only a single feature. How do we proceed having multiple features? But before going for multiple features, we need to evaluate our predictions. One way to evaluate the prediction model, is to calculate the **_Residual sum of squares_** (RSS).\n",
    "\n",
    "$$RSS(w_0,w_1) = \\sum_{i=1}^{N}(y_i - [w_0 + w_{1}*x_i])^2$$\n",
    "\n",
    "Let's create the function that computes the RSS by inputing the predictions $y_{i}^{,}$ and the measured data $y_i$. "
   ]
  },
  {
   "cell_type": "code",
   "execution_count": 18,
   "metadata": {
    "collapsed": true
   },
   "outputs": [],
   "source": [
    "def calculate_RSS(predictions,measured_data):\n",
    "    # First, let's calculate the residuals (difference between measured and predictated data)\n",
    "    residuals = measured_data - predictions\n",
    "    \n",
    "    # Compute RSS\n",
    "    RSS = sum([residuals[i]*residuals[i] for i in range(len(residuals))])\n",
    "    \n",
    "    # Return RSS\n",
    "    return(RSS)"
   ]
  },
  {
   "cell_type": "markdown",
   "metadata": {},
   "source": [
    "Let's check our RSS"
   ]
  },
  {
   "cell_type": "code",
   "execution_count": 19,
<<<<<<< HEAD
   "metadata": {},
=======
   "metadata": {
    "collapsed": false
   },
>>>>>>> fda45caebc9fd429ce5fccf2477ba68334d8609f
   "outputs": [
    {
     "name": "stdout",
     "output_type": "stream",
     "text": [
      "2.75402933618e+14\n"
     ]
    }
   ],
   "source": [
    "rss_test = calculate_RSS(predictions2,test_data['price'])\n",
    "\n",
    "print rss_test"
   ]
  },
  {
   "cell_type": "markdown",
   "metadata": {},
   "source": [
    "# Linear regression with multiple features"
   ]
  },
  {
   "cell_type": "markdown",
   "metadata": {
    "collapsed": true
   },
   "source": [
    "Now it is time to predict the house prices using multiple features. First, let's demonstrate how to do that using the Turicreate. Basically, it follows the same steps as the linear regression with a single feature."
   ]
  },
  {
   "cell_type": "code",
   "execution_count": 20,
   "metadata": {
    "collapsed": true
   },
   "outputs": [],
   "source": [
    "import turicreate as tc\n",
    "import matplotlib.pyplot as plt\n",
    "%matplotlib inline"
   ]
  },
  {
   "cell_type": "code",
   "execution_count": 21,
<<<<<<< HEAD
   "metadata": {},
=======
   "metadata": {
    "collapsed": false
   },
>>>>>>> fda45caebc9fd429ce5fccf2477ba68334d8609f
   "outputs": [
    {
     "data": {
      "text/html": [
       "<pre>Finished parsing file /mnt/c/Users/marle/OneDrive/Machine_Learning/Linear_Regression/BostonHousing.csv</pre>"
      ],
      "text/plain": [
       "Finished parsing file /mnt/c/Users/marle/OneDrive/Machine_Learning/Linear_Regression/BostonHousing.csv"
      ]
     },
     "metadata": {},
     "output_type": "display_data"
    },
    {
     "data": {
      "text/html": [
<<<<<<< HEAD
       "<pre>Parsing completed. Parsed 100 lines in 0.095656 secs.</pre>"
      ],
      "text/plain": [
       "Parsing completed. Parsed 100 lines in 0.095656 secs."
=======
       "<pre>Parsing completed. Parsed 100 lines in 0.086237 secs.</pre>"
      ],
      "text/plain": [
       "Parsing completed. Parsed 100 lines in 0.086237 secs."
>>>>>>> fda45caebc9fd429ce5fccf2477ba68334d8609f
      ]
     },
     "metadata": {},
     "output_type": "display_data"
    },
    {
     "name": "stdout",
     "output_type": "stream",
     "text": [
      "------------------------------------------------------\n",
      "Inferred types from first 100 line(s) of file as \n",
      "column_type_hints=[int,str,float,int,float,int,int,float,int,int,int,int,int,int,int,int,int,float,float,int,int]\n",
      "If parsing fails due to incorrect types, you can correct\n",
      "the inferred type list above and pass it to read_csv in\n",
      "the column_type_hints argument\n",
      "------------------------------------------------------\n"
     ]
    },
    {
     "data": {
      "text/html": [
       "<pre>Finished parsing file /mnt/c/Users/marle/OneDrive/Machine_Learning/Linear_Regression/BostonHousing.csv</pre>"
      ],
      "text/plain": [
       "Finished parsing file /mnt/c/Users/marle/OneDrive/Machine_Learning/Linear_Regression/BostonHousing.csv"
      ]
     },
     "metadata": {},
     "output_type": "display_data"
    },
    {
     "data": {
      "text/html": [
<<<<<<< HEAD
       "<pre>Parsing completed. Parsed 21613 lines in 0.108664 secs.</pre>"
      ],
      "text/plain": [
       "Parsing completed. Parsed 21613 lines in 0.108664 secs."
=======
       "<pre>Parsing completed. Parsed 21613 lines in 0.101471 secs.</pre>"
      ],
      "text/plain": [
       "Parsing completed. Parsed 21613 lines in 0.101471 secs."
>>>>>>> fda45caebc9fd429ce5fccf2477ba68334d8609f
      ]
     },
     "metadata": {},
     "output_type": "display_data"
    }
   ],
   "source": [
    "data = tc.SFrame('BostonHousing.csv')"
   ]
  },
  {
   "cell_type": "code",
   "execution_count": 22,
   "metadata": {
    "collapsed": true
   },
   "outputs": [],
   "source": [
    "train_data, test_data = data.random_split(0.8, seed=0)"
   ]
  },
  {
   "cell_type": "code",
   "execution_count": 23,
<<<<<<< HEAD
   "metadata": {},
=======
   "metadata": {
    "collapsed": false
   },
>>>>>>> fda45caebc9fd429ce5fccf2477ba68334d8609f
   "outputs": [
    {
     "name": "stdout",
     "output_type": "stream",
     "text": [
      "PROGRESS: Creating a validation set from 5 percent of training data. This may take a while.\n",
      "          You can set ``validation_set=None`` to disable validation tracking.\n",
      "\n"
     ]
    },
    {
     "data": {
      "text/html": [
       "<pre>Linear regression:</pre>"
      ],
      "text/plain": [
       "Linear regression:"
      ]
     },
     "metadata": {},
     "output_type": "display_data"
    },
    {
     "data": {
      "text/html": [
       "<pre>--------------------------------------------------------</pre>"
      ],
      "text/plain": [
       "--------------------------------------------------------"
      ]
     },
     "metadata": {},
     "output_type": "display_data"
    },
    {
     "data": {
      "text/html": [
<<<<<<< HEAD
       "<pre>Number of examples          : 16418</pre>"
      ],
      "text/plain": [
       "Number of examples          : 16418"
=======
       "<pre>Number of examples          : 16476</pre>"
      ],
      "text/plain": [
       "Number of examples          : 16476"
>>>>>>> fda45caebc9fd429ce5fccf2477ba68334d8609f
      ]
     },
     "metadata": {},
     "output_type": "display_data"
    },
    {
     "data": {
      "text/html": [
       "<pre>Number of features          : 6</pre>"
      ],
      "text/plain": [
       "Number of features          : 6"
      ]
     },
     "metadata": {},
     "output_type": "display_data"
    },
    {
     "data": {
      "text/html": [
       "<pre>Number of unpacked features : 6</pre>"
      ],
      "text/plain": [
       "Number of unpacked features : 6"
      ]
     },
     "metadata": {},
     "output_type": "display_data"
    },
    {
     "data": {
      "text/html": [
       "<pre>Number of coefficients    : 7</pre>"
      ],
      "text/plain": [
       "Number of coefficients    : 7"
      ]
     },
     "metadata": {},
     "output_type": "display_data"
    },
    {
     "data": {
      "text/html": [
       "<pre>Starting Newton Method</pre>"
      ],
      "text/plain": [
       "Starting Newton Method"
      ]
     },
     "metadata": {},
     "output_type": "display_data"
    },
    {
     "data": {
      "text/html": [
       "<pre>--------------------------------------------------------</pre>"
      ],
      "text/plain": [
       "--------------------------------------------------------"
      ]
     },
     "metadata": {},
     "output_type": "display_data"
    },
    {
     "data": {
      "text/html": [
       "<pre>+-----------+----------+--------------+--------------------+----------------------+---------------+-----------------+</pre>"
      ],
      "text/plain": [
       "+-----------+----------+--------------+--------------------+----------------------+---------------+-----------------+"
      ]
     },
     "metadata": {},
     "output_type": "display_data"
    },
    {
     "data": {
      "text/html": [
       "<pre>| Iteration | Passes   | Elapsed Time | Training-max_error | Validation-max_error | Training-rmse | Validation-rmse |</pre>"
      ],
      "text/plain": [
       "| Iteration | Passes   | Elapsed Time | Training-max_error | Validation-max_error | Training-rmse | Validation-rmse |"
      ]
     },
     "metadata": {},
     "output_type": "display_data"
    },
    {
     "data": {
      "text/html": [
       "<pre>+-----------+----------+--------------+--------------------+----------------------+---------------+-----------------+</pre>"
      ],
      "text/plain": [
       "+-----------+----------+--------------+--------------------+----------------------+---------------+-----------------+"
      ]
     },
     "metadata": {},
     "output_type": "display_data"
    },
    {
     "data": {
      "text/html": [
<<<<<<< HEAD
       "<pre>| 1         | 2        | 0.029573     | 3909945.278428     | 1937246.751296       | 246229.099579 | 249620.729776   |</pre>"
      ],
      "text/plain": [
       "| 1         | 2        | 0.029573     | 3909945.278428     | 1937246.751296       | 246229.099579 | 249620.729776   |"
=======
       "<pre>| 1         | 2        | 0.024189     | 3925886.380887     | 2771317.621406       | 245865.794552 | 256285.116259   |</pre>"
      ],
      "text/plain": [
       "| 1         | 2        | 0.024189     | 3925886.380887     | 2771317.621406       | 245865.794552 | 256285.116259   |"
>>>>>>> fda45caebc9fd429ce5fccf2477ba68334d8609f
      ]
     },
     "metadata": {},
     "output_type": "display_data"
<<<<<<< HEAD
    }
   ],
   "source": [
    "multiple_features = ['bedrooms', 'bathrooms', 'sqft_living', 'sqft_lot', 'yr_built', 'condition']\n",
    "model_multiple = tc.linear_regression.create(train_data, target='price', features = multiple_features)"
   ]
  },
  {
   "cell_type": "code",
   "execution_count": 24,
   "metadata": {},
   "outputs": [
=======
    },
>>>>>>> fda45caebc9fd429ce5fccf2477ba68334d8609f
    {
     "data": {
      "text/html": [
       "<pre>+-----------+----------+--------------+--------------------+----------------------+---------------+-----------------+</pre>"
      ],
      "text/plain": [
       "+-----------+----------+--------------+--------------------+----------------------+---------------+-----------------+"
      ]
     },
     "metadata": {},
     "output_type": "display_data"
<<<<<<< HEAD
    },
=======
    }
   ],
   "source": [
    "multiple_features = ['bedrooms', 'bathrooms', 'sqft_living', 'sqft_lot', 'yr_built', 'condition']\n",
    "model_multiple = tc.linear_regression.create(train_data, target='price', features = multiple_features)"
   ]
  },
  {
   "cell_type": "code",
   "execution_count": 24,
   "metadata": {
    "collapsed": false
   },
   "outputs": [
>>>>>>> fda45caebc9fd429ce5fccf2477ba68334d8609f
    {
     "data": {
      "text/html": [
       "<pre>SUCCESS: Optimal solution found.</pre>"
      ],
      "text/plain": [
       "SUCCESS: Optimal solution found."
      ]
     },
     "metadata": {},
     "output_type": "display_data"
    },
    {
     "data": {
      "text/html": [
       "<pre></pre>"
      ],
      "text/plain": []
     },
     "metadata": {},
     "output_type": "display_data"
    },
    {
     "name": "stdout",
     "output_type": "stream",
     "text": [
<<<<<<< HEAD
      "{'max_error': 3776448.092704715, 'rmse': 242731.66174552406}\n"
=======
      "{'max_error': 3789796.6168297036, 'rmse': 242557.28035580603}\n"
>>>>>>> fda45caebc9fd429ce5fccf2477ba68334d8609f
     ]
    }
   ],
   "source": [
    "predictions_multiple = model_multiple.predict(test_data)\n",
    "results_multiple = model_multiple.evaluate(test_data)\n",
    "\n",
    "print results_multiple"
   ]
  },
  {
   "cell_type": "code",
   "execution_count": 25,
<<<<<<< HEAD
   "metadata": {},
=======
   "metadata": {
    "collapsed": false
   },
>>>>>>> fda45caebc9fd429ce5fccf2477ba68334d8609f
   "outputs": [
    {
     "name": "stdout",
     "output_type": "stream",
     "text": [
<<<<<<< HEAD
      "[4552362.493566033]\n",
      "[4210055.920250784]\n"
=======
      "[4519870.920541293]\n",
      "[4149032.5695450553]\n"
>>>>>>> fda45caebc9fd429ce5fccf2477ba68334d8609f
     ]
    }
   ],
   "source": [
    "size_to_predict = 15000\n",
    "forecast_multiple = model_multiple.predict(tc.SFrame({'sqft_living':[size_to_predict]}))\n",
    "print forecast_multiple\n",
    "print forecast"
   ]
  },
  {
   "cell_type": "markdown",
   "metadata": {},
   "source": [
    "We can see the the forecast for a house with 15000 sqrtfeet living size changed when we compare the multiple features predictions with the single feature predictions.\n",
    "\n",
    "If we plot the predictions comparing with the testing data, we can observe that the predictions are not a single line anymore:"
   ]
  },
  {
   "cell_type": "code",
   "execution_count": 26,
<<<<<<< HEAD
   "metadata": {},
   "outputs": [
    {
     "data": {
      "image/png": "iVBORw0KGgoAAAANSUhEUgAAAYQAAAEKCAYAAAASByJ7AAAABHNCSVQICAgIfAhkiAAAAAlwSFlz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\nAQQmXixuqvkdAAAAAElFTkSuQmCC\n",
      "text/plain": [
       "<matplotlib.figure.Figure at 0x7ff4b45eaf10>"
=======
   "metadata": {
    "collapsed": false
   },
   "outputs": [
    {
     "data": {
      "image/png": "iVBORw0KGgoAAAANSUhEUgAAAYQAAAEKCAYAAAASByJ7AAAABHNCSVQICAgIfAhkiAAAAAlwSFlz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\nY4zLAoIxxhjAAoIxxhiXBQRjjDEA/H8nEXeURiNwrAAAAABJRU5ErkJggg==\n",
      "text/plain": [
       "<matplotlib.figure.Figure at 0x7f481df2d410>"
>>>>>>> fda45caebc9fd429ce5fccf2477ba68334d8609f
      ]
     },
     "metadata": {},
     "output_type": "display_data"
    }
   ],
   "source": [
    "plt.plot(test_data['sqft_living'], test_data['price']/1000000,'.',\n",
    "         test_data['sqft_living'], predictions_multiple/1000000,'-')\n",
    "plt.ylabel('Price (Millions USD$)')\n",
    "plt.xlabel('House Size (Square Feet)')\n",
    "plt.show()"
   ]
  },
  {
   "cell_type": "markdown",
   "metadata": {},
   "source": [
    "# Let's build our own functions"
   ]
  },
  {
<<<<<<< HEAD
   "cell_type": "markdown",
   "metadata": {
    "collapsed": true
   },
   "source": [
    "Until now, I applied the linear regression over one single feature. This way, it was easy to find an analytical solution for the linear equation. Now, I will explore the use of several features and an analytical solution is not recommended. So, I will show how to use the gradient descent method to fit the best \"curve\".\n",
    "\n",
    "The \"linear\" equation for multiple parameters (now a multi-dimensinal plane) can be written as:\n",
    "\n",
    "$$y_{i}^{,}(x_i) = w_0*x_{i}[0] + w_{1}*x_{i}[1] + w_{2}*x_{i}[2] + \\dots + w_{d}*x_{i}[d] = \\sum_{j=0}^{d}w_j*x_{i}[j]$$\n",
    "\n",
    "where $x_i[0]=1$. The cost function (RSS) is:\n",
    "\n",
    "$$RSS(\\textbf{w}) = \\sum_{i=1}^{N}(y_i - y_{i}^{,})^2 = \\sum_{i=1}^{N}(y_i - [w_0 + w_{1}*x_i])^2$$\n"
   ]
  },
  {
=======
>>>>>>> fda45caebc9fd429ce5fccf2477ba68334d8609f
   "cell_type": "code",
   "execution_count": null,
   "metadata": {
    "collapsed": true
   },
   "outputs": [],
   "source": []
  }
 ],
 "metadata": {
  "anaconda-cloud": {},
  "kernelspec": {
<<<<<<< HEAD
   "display_name": "Python 2",
=======
   "display_name": "Python [default]",
>>>>>>> fda45caebc9fd429ce5fccf2477ba68334d8609f
   "language": "python",
   "name": "python2"
  },
  "language_info": {
   "codemirror_mode": {
    "name": "ipython",
    "version": 2
   },
   "file_extension": ".py",
   "mimetype": "text/x-python",
   "name": "python",
   "nbconvert_exporter": "python",
   "pygments_lexer": "ipython2",
<<<<<<< HEAD
   "version": "2.7.14"
=======
   "version": "2.7.12"
>>>>>>> fda45caebc9fd429ce5fccf2477ba68334d8609f
  }
 },
 "nbformat": 4,
 "nbformat_minor": 1
}
