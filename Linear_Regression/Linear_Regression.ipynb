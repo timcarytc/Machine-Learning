{
 "cells": [
  {
   "cell_type": "markdown",
   "metadata": {},
   "source": [
    "# Linear Regression\n",
    "\n",
    "In this notebook, we will go through the linear regression algorithms to estimate the price of houses in Boston.\n",
    "\n",
    "First, it is shown how to compute the predictions using a single feature. Later on, the predictions are expanded for multiple features. In both cases, I will compare my predictions with the Turicreate outputs."
   ]
  },
  {
   "cell_type": "markdown",
   "metadata": {},
   "source": [
    "# Linear regression with a single feature\n",
    "\n",
    "In the first part, let's run the Turicreate linear regression algorithm to understand is functionality."
   ]
  },
  {
   "cell_type": "code",
<<<<<<< HEAD
   "execution_count": 3,
   "metadata": {},
=======
   "execution_count": 1,
   "metadata": {
    "collapsed": false
   },
>>>>>>> fda45caebc9fd429ce5fccf2477ba68334d8609f
   "outputs": [],
   "source": [
    "import turicreate as tc\n",
    "import matplotlib.pyplot as plt\n",
    "%matplotlib inline"
   ]
  },
  {
   "cell_type": "markdown",
   "metadata": {},
   "source": [
    "Loading data"
   ]
  },
  {
   "cell_type": "code",
<<<<<<< HEAD
   "execution_count": 4,
   "metadata": {},
=======
   "execution_count": 2,
   "metadata": {
    "collapsed": false
   },
>>>>>>> fda45caebc9fd429ce5fccf2477ba68334d8609f
   "outputs": [
    {
     "data": {
      "text/html": [
<<<<<<< HEAD
       "<pre>Finished parsing file /home/marceloguarido/OneDrive/Machine_Learning/Linear_Regression/BostonHousing.csv</pre>"
      ],
      "text/plain": [
       "Finished parsing file /home/marceloguarido/OneDrive/Machine_Learning/Linear_Regression/BostonHousing.csv"
=======
       "<pre>Finished parsing file /mnt/c/Users/marle/OneDrive/Machine_Learning/Linear_Regression/BostonHousing.csv</pre>"
      ],
      "text/plain": [
       "Finished parsing file /mnt/c/Users/marle/OneDrive/Machine_Learning/Linear_Regression/BostonHousing.csv"
>>>>>>> fda45caebc9fd429ce5fccf2477ba68334d8609f
      ]
     },
     "metadata": {},
     "output_type": "display_data"
    },
    {
     "data": {
      "text/html": [
<<<<<<< HEAD
       "<pre>Parsing completed. Parsed 100 lines in 0.135226 secs.</pre>"
      ],
      "text/plain": [
       "Parsing completed. Parsed 100 lines in 0.135226 secs."
=======
       "<pre>Parsing completed. Parsed 100 lines in 0.096082 secs.</pre>"
      ],
      "text/plain": [
       "Parsing completed. Parsed 100 lines in 0.096082 secs."
>>>>>>> fda45caebc9fd429ce5fccf2477ba68334d8609f
      ]
     },
     "metadata": {},
     "output_type": "display_data"
    },
    {
     "name": "stdout",
     "output_type": "stream",
     "text": [
      "------------------------------------------------------\n",
      "Inferred types from first 100 line(s) of file as \n",
      "column_type_hints=[int,str,float,int,float,int,int,float,int,int,int,int,int,int,int,int,int,float,float,int,int]\n",
      "If parsing fails due to incorrect types, you can correct\n",
      "the inferred type list above and pass it to read_csv in\n",
      "the column_type_hints argument\n",
      "------------------------------------------------------\n"
     ]
    },
    {
     "data": {
      "text/html": [
<<<<<<< HEAD
       "<pre>Finished parsing file /home/marceloguarido/OneDrive/Machine_Learning/Linear_Regression/BostonHousing.csv</pre>"
      ],
      "text/plain": [
       "Finished parsing file /home/marceloguarido/OneDrive/Machine_Learning/Linear_Regression/BostonHousing.csv"
=======
       "<pre>Finished parsing file /mnt/c/Users/marle/OneDrive/Machine_Learning/Linear_Regression/BostonHousing.csv</pre>"
      ],
      "text/plain": [
       "Finished parsing file /mnt/c/Users/marle/OneDrive/Machine_Learning/Linear_Regression/BostonHousing.csv"
>>>>>>> fda45caebc9fd429ce5fccf2477ba68334d8609f
      ]
     },
     "metadata": {},
     "output_type": "display_data"
    },
    {
     "data": {
      "text/html": [
<<<<<<< HEAD
       "<pre>Parsing completed. Parsed 21613 lines in 0.052562 secs.</pre>"
      ],
      "text/plain": [
       "Parsing completed. Parsed 21613 lines in 0.052562 secs."
=======
       "<pre>Parsing completed. Parsed 21613 lines in 0.097701 secs.</pre>"
      ],
      "text/plain": [
       "Parsing completed. Parsed 21613 lines in 0.097701 secs."
>>>>>>> fda45caebc9fd429ce5fccf2477ba68334d8609f
      ]
     },
     "metadata": {},
     "output_type": "display_data"
    }
   ],
   "source": [
    "data = tc.SFrame('BostonHousing.csv')"
   ]
  },
  {
   "cell_type": "markdown",
   "metadata": {},
   "source": [
    "Taking a look at the loaded data"
   ]
  },
  {
   "cell_type": "code",
<<<<<<< HEAD
   "execution_count": 5,
   "metadata": {},
=======
   "execution_count": 3,
   "metadata": {
    "collapsed": false
   },
>>>>>>> fda45caebc9fd429ce5fccf2477ba68334d8609f
   "outputs": [
    {
     "data": {
      "text/html": [
       "<div style=\"max-height:1000px;max-width:1500px;overflow:auto;\"><table frame=\"box\" rules=\"cols\">\n",
       "    <tr>\n",
       "        <th style=\"padding-left: 1em; padding-right: 1em; text-align: center\">id</th>\n",
       "        <th style=\"padding-left: 1em; padding-right: 1em; text-align: center\">date</th>\n",
       "        <th style=\"padding-left: 1em; padding-right: 1em; text-align: center\">price</th>\n",
       "        <th style=\"padding-left: 1em; padding-right: 1em; text-align: center\">bedrooms</th>\n",
       "        <th style=\"padding-left: 1em; padding-right: 1em; text-align: center\">bathrooms</th>\n",
       "        <th style=\"padding-left: 1em; padding-right: 1em; text-align: center\">sqft_living</th>\n",
       "        <th style=\"padding-left: 1em; padding-right: 1em; text-align: center\">sqft_lot</th>\n",
       "        <th style=\"padding-left: 1em; padding-right: 1em; text-align: center\">floors</th>\n",
       "        <th style=\"padding-left: 1em; padding-right: 1em; text-align: center\">waterfront</th>\n",
       "        <th style=\"padding-left: 1em; padding-right: 1em; text-align: center\">view</th>\n",
       "    </tr>\n",
       "    <tr>\n",
       "        <td style=\"padding-left: 1em; padding-right: 1em; text-align: center; vertical-align: top\">7129300520</td>\n",
       "        <td style=\"padding-left: 1em; padding-right: 1em; text-align: center; vertical-align: top\">20141013T000000</td>\n",
       "        <td style=\"padding-left: 1em; padding-right: 1em; text-align: center; vertical-align: top\">221900.0</td>\n",
       "        <td style=\"padding-left: 1em; padding-right: 1em; text-align: center; vertical-align: top\">3</td>\n",
       "        <td style=\"padding-left: 1em; padding-right: 1em; text-align: center; vertical-align: top\">1.0</td>\n",
       "        <td style=\"padding-left: 1em; padding-right: 1em; text-align: center; vertical-align: top\">1180</td>\n",
       "        <td style=\"padding-left: 1em; padding-right: 1em; text-align: center; vertical-align: top\">5650</td>\n",
       "        <td style=\"padding-left: 1em; padding-right: 1em; text-align: center; vertical-align: top\">1.0</td>\n",
       "        <td style=\"padding-left: 1em; padding-right: 1em; text-align: center; vertical-align: top\">0</td>\n",
       "        <td style=\"padding-left: 1em; padding-right: 1em; text-align: center; vertical-align: top\">0</td>\n",
       "    </tr>\n",
       "    <tr>\n",
       "        <td style=\"padding-left: 1em; padding-right: 1em; text-align: center; vertical-align: top\">6414100192</td>\n",
       "        <td style=\"padding-left: 1em; padding-right: 1em; text-align: center; vertical-align: top\">20141209T000000</td>\n",
       "        <td style=\"padding-left: 1em; padding-right: 1em; text-align: center; vertical-align: top\">538000.0</td>\n",
       "        <td style=\"padding-left: 1em; padding-right: 1em; text-align: center; vertical-align: top\">3</td>\n",
       "        <td style=\"padding-left: 1em; padding-right: 1em; text-align: center; vertical-align: top\">2.25</td>\n",
       "        <td style=\"padding-left: 1em; padding-right: 1em; text-align: center; vertical-align: top\">2570</td>\n",
       "        <td style=\"padding-left: 1em; padding-right: 1em; text-align: center; vertical-align: top\">7242</td>\n",
       "        <td style=\"padding-left: 1em; padding-right: 1em; text-align: center; vertical-align: top\">2.0</td>\n",
       "        <td style=\"padding-left: 1em; padding-right: 1em; text-align: center; vertical-align: top\">0</td>\n",
       "        <td style=\"padding-left: 1em; padding-right: 1em; text-align: center; vertical-align: top\">0</td>\n",
       "    </tr>\n",
       "    <tr>\n",
       "        <td style=\"padding-left: 1em; padding-right: 1em; text-align: center; vertical-align: top\">5631500400</td>\n",
       "        <td style=\"padding-left: 1em; padding-right: 1em; text-align: center; vertical-align: top\">20150225T000000</td>\n",
       "        <td style=\"padding-left: 1em; padding-right: 1em; text-align: center; vertical-align: top\">180000.0</td>\n",
       "        <td style=\"padding-left: 1em; padding-right: 1em; text-align: center; vertical-align: top\">2</td>\n",
       "        <td style=\"padding-left: 1em; padding-right: 1em; text-align: center; vertical-align: top\">1.0</td>\n",
       "        <td style=\"padding-left: 1em; padding-right: 1em; text-align: center; vertical-align: top\">770</td>\n",
       "        <td style=\"padding-left: 1em; padding-right: 1em; text-align: center; vertical-align: top\">10000</td>\n",
       "        <td style=\"padding-left: 1em; padding-right: 1em; text-align: center; vertical-align: top\">1.0</td>\n",
       "        <td style=\"padding-left: 1em; padding-right: 1em; text-align: center; vertical-align: top\">0</td>\n",
       "        <td style=\"padding-left: 1em; padding-right: 1em; text-align: center; vertical-align: top\">0</td>\n",
       "    </tr>\n",
       "    <tr>\n",
       "        <td style=\"padding-left: 1em; padding-right: 1em; text-align: center; vertical-align: top\">2487200875</td>\n",
       "        <td style=\"padding-left: 1em; padding-right: 1em; text-align: center; vertical-align: top\">20141209T000000</td>\n",
       "        <td style=\"padding-left: 1em; padding-right: 1em; text-align: center; vertical-align: top\">604000.0</td>\n",
       "        <td style=\"padding-left: 1em; padding-right: 1em; text-align: center; vertical-align: top\">4</td>\n",
       "        <td style=\"padding-left: 1em; padding-right: 1em; text-align: center; vertical-align: top\">3.0</td>\n",
       "        <td style=\"padding-left: 1em; padding-right: 1em; text-align: center; vertical-align: top\">1960</td>\n",
       "        <td style=\"padding-left: 1em; padding-right: 1em; text-align: center; vertical-align: top\">5000</td>\n",
       "        <td style=\"padding-left: 1em; padding-right: 1em; text-align: center; vertical-align: top\">1.0</td>\n",
       "        <td style=\"padding-left: 1em; padding-right: 1em; text-align: center; vertical-align: top\">0</td>\n",
       "        <td style=\"padding-left: 1em; padding-right: 1em; text-align: center; vertical-align: top\">0</td>\n",
       "    </tr>\n",
       "    <tr>\n",
       "        <td style=\"padding-left: 1em; padding-right: 1em; text-align: center; vertical-align: top\">1954400510</td>\n",
       "        <td style=\"padding-left: 1em; padding-right: 1em; text-align: center; vertical-align: top\">20150218T000000</td>\n",
       "        <td style=\"padding-left: 1em; padding-right: 1em; text-align: center; vertical-align: top\">510000.0</td>\n",
       "        <td style=\"padding-left: 1em; padding-right: 1em; text-align: center; vertical-align: top\">3</td>\n",
       "        <td style=\"padding-left: 1em; padding-right: 1em; text-align: center; vertical-align: top\">2.0</td>\n",
       "        <td style=\"padding-left: 1em; padding-right: 1em; text-align: center; vertical-align: top\">1680</td>\n",
       "        <td style=\"padding-left: 1em; padding-right: 1em; text-align: center; vertical-align: top\">8080</td>\n",
       "        <td style=\"padding-left: 1em; padding-right: 1em; text-align: center; vertical-align: top\">1.0</td>\n",
       "        <td style=\"padding-left: 1em; padding-right: 1em; text-align: center; vertical-align: top\">0</td>\n",
       "        <td style=\"padding-left: 1em; padding-right: 1em; text-align: center; vertical-align: top\">0</td>\n",
       "    </tr>\n",
       "    <tr>\n",
       "        <td style=\"padding-left: 1em; padding-right: 1em; text-align: center; vertical-align: top\">7237550310</td>\n",
       "        <td style=\"padding-left: 1em; padding-right: 1em; text-align: center; vertical-align: top\">20140512T000000</td>\n",
       "        <td style=\"padding-left: 1em; padding-right: 1em; text-align: center; vertical-align: top\">1225000.0</td>\n",
       "        <td style=\"padding-left: 1em; padding-right: 1em; text-align: center; vertical-align: top\">4</td>\n",
       "        <td style=\"padding-left: 1em; padding-right: 1em; text-align: center; vertical-align: top\">4.5</td>\n",
       "        <td style=\"padding-left: 1em; padding-right: 1em; text-align: center; vertical-align: top\">5420</td>\n",
       "        <td style=\"padding-left: 1em; padding-right: 1em; text-align: center; vertical-align: top\">101930</td>\n",
       "        <td style=\"padding-left: 1em; padding-right: 1em; text-align: center; vertical-align: top\">1.0</td>\n",
       "        <td style=\"padding-left: 1em; padding-right: 1em; text-align: center; vertical-align: top\">0</td>\n",
       "        <td style=\"padding-left: 1em; padding-right: 1em; text-align: center; vertical-align: top\">0</td>\n",
       "    </tr>\n",
       "    <tr>\n",
       "        <td style=\"padding-left: 1em; padding-right: 1em; text-align: center; vertical-align: top\">1321400060</td>\n",
       "        <td style=\"padding-left: 1em; padding-right: 1em; text-align: center; vertical-align: top\">20140627T000000</td>\n",
       "        <td style=\"padding-left: 1em; padding-right: 1em; text-align: center; vertical-align: top\">257500.0</td>\n",
       "        <td style=\"padding-left: 1em; padding-right: 1em; text-align: center; vertical-align: top\">3</td>\n",
       "        <td style=\"padding-left: 1em; padding-right: 1em; text-align: center; vertical-align: top\">2.25</td>\n",
       "        <td style=\"padding-left: 1em; padding-right: 1em; text-align: center; vertical-align: top\">1715</td>\n",
       "        <td style=\"padding-left: 1em; padding-right: 1em; text-align: center; vertical-align: top\">6819</td>\n",
       "        <td style=\"padding-left: 1em; padding-right: 1em; text-align: center; vertical-align: top\">2.0</td>\n",
       "        <td style=\"padding-left: 1em; padding-right: 1em; text-align: center; vertical-align: top\">0</td>\n",
       "        <td style=\"padding-left: 1em; padding-right: 1em; text-align: center; vertical-align: top\">0</td>\n",
       "    </tr>\n",
       "    <tr>\n",
       "        <td style=\"padding-left: 1em; padding-right: 1em; text-align: center; vertical-align: top\">2008000270</td>\n",
       "        <td style=\"padding-left: 1em; padding-right: 1em; text-align: center; vertical-align: top\">20150115T000000</td>\n",
       "        <td style=\"padding-left: 1em; padding-right: 1em; text-align: center; vertical-align: top\">291850.0</td>\n",
       "        <td style=\"padding-left: 1em; padding-right: 1em; text-align: center; vertical-align: top\">3</td>\n",
       "        <td style=\"padding-left: 1em; padding-right: 1em; text-align: center; vertical-align: top\">1.5</td>\n",
       "        <td style=\"padding-left: 1em; padding-right: 1em; text-align: center; vertical-align: top\">1060</td>\n",
       "        <td style=\"padding-left: 1em; padding-right: 1em; text-align: center; vertical-align: top\">9711</td>\n",
       "        <td style=\"padding-left: 1em; padding-right: 1em; text-align: center; vertical-align: top\">1.0</td>\n",
       "        <td style=\"padding-left: 1em; padding-right: 1em; text-align: center; vertical-align: top\">0</td>\n",
       "        <td style=\"padding-left: 1em; padding-right: 1em; text-align: center; vertical-align: top\">0</td>\n",
       "    </tr>\n",
       "    <tr>\n",
       "        <td style=\"padding-left: 1em; padding-right: 1em; text-align: center; vertical-align: top\">2414600126</td>\n",
       "        <td style=\"padding-left: 1em; padding-right: 1em; text-align: center; vertical-align: top\">20150415T000000</td>\n",
       "        <td style=\"padding-left: 1em; padding-right: 1em; text-align: center; vertical-align: top\">229500.0</td>\n",
       "        <td style=\"padding-left: 1em; padding-right: 1em; text-align: center; vertical-align: top\">3</td>\n",
       "        <td style=\"padding-left: 1em; padding-right: 1em; text-align: center; vertical-align: top\">1.0</td>\n",
       "        <td style=\"padding-left: 1em; padding-right: 1em; text-align: center; vertical-align: top\">1780</td>\n",
       "        <td style=\"padding-left: 1em; padding-right: 1em; text-align: center; vertical-align: top\">7470</td>\n",
       "        <td style=\"padding-left: 1em; padding-right: 1em; text-align: center; vertical-align: top\">1.0</td>\n",
       "        <td style=\"padding-left: 1em; padding-right: 1em; text-align: center; vertical-align: top\">0</td>\n",
       "        <td style=\"padding-left: 1em; padding-right: 1em; text-align: center; vertical-align: top\">0</td>\n",
       "    </tr>\n",
       "    <tr>\n",
       "        <td style=\"padding-left: 1em; padding-right: 1em; text-align: center; vertical-align: top\">3793500160</td>\n",
       "        <td style=\"padding-left: 1em; padding-right: 1em; text-align: center; vertical-align: top\">20150312T000000</td>\n",
       "        <td style=\"padding-left: 1em; padding-right: 1em; text-align: center; vertical-align: top\">323000.0</td>\n",
       "        <td style=\"padding-left: 1em; padding-right: 1em; text-align: center; vertical-align: top\">3</td>\n",
       "        <td style=\"padding-left: 1em; padding-right: 1em; text-align: center; vertical-align: top\">2.5</td>\n",
       "        <td style=\"padding-left: 1em; padding-right: 1em; text-align: center; vertical-align: top\">1890</td>\n",
       "        <td style=\"padding-left: 1em; padding-right: 1em; text-align: center; vertical-align: top\">6560</td>\n",
       "        <td style=\"padding-left: 1em; padding-right: 1em; text-align: center; vertical-align: top\">2.0</td>\n",
       "        <td style=\"padding-left: 1em; padding-right: 1em; text-align: center; vertical-align: top\">0</td>\n",
       "        <td style=\"padding-left: 1em; padding-right: 1em; text-align: center; vertical-align: top\">0</td>\n",
       "    </tr>\n",
       "</table>\n",
       "<table frame=\"box\" rules=\"cols\">\n",
       "    <tr>\n",
       "        <th style=\"padding-left: 1em; padding-right: 1em; text-align: center\">condition</th>\n",
       "        <th style=\"padding-left: 1em; padding-right: 1em; text-align: center\">grade</th>\n",
       "        <th style=\"padding-left: 1em; padding-right: 1em; text-align: center\">sqft_above</th>\n",
       "        <th style=\"padding-left: 1em; padding-right: 1em; text-align: center\">sqft_basement</th>\n",
       "        <th style=\"padding-left: 1em; padding-right: 1em; text-align: center\">yr_built</th>\n",
       "        <th style=\"padding-left: 1em; padding-right: 1em; text-align: center\">yr_renovated</th>\n",
       "        <th style=\"padding-left: 1em; padding-right: 1em; text-align: center\">zipcode</th>\n",
       "        <th style=\"padding-left: 1em; padding-right: 1em; text-align: center\">lat</th>\n",
       "        <th style=\"padding-left: 1em; padding-right: 1em; text-align: center\">long</th>\n",
       "        <th style=\"padding-left: 1em; padding-right: 1em; text-align: center\">sqft_living15</th>\n",
       "    </tr>\n",
       "    <tr>\n",
       "        <td style=\"padding-left: 1em; padding-right: 1em; text-align: center; vertical-align: top\">3</td>\n",
       "        <td style=\"padding-left: 1em; padding-right: 1em; text-align: center; vertical-align: top\">7</td>\n",
       "        <td style=\"padding-left: 1em; padding-right: 1em; text-align: center; vertical-align: top\">1180</td>\n",
       "        <td style=\"padding-left: 1em; padding-right: 1em; text-align: center; vertical-align: top\">0</td>\n",
       "        <td style=\"padding-left: 1em; padding-right: 1em; text-align: center; vertical-align: top\">1955</td>\n",
       "        <td style=\"padding-left: 1em; padding-right: 1em; text-align: center; vertical-align: top\">0</td>\n",
       "        <td style=\"padding-left: 1em; padding-right: 1em; text-align: center; vertical-align: top\">98178</td>\n",
       "        <td style=\"padding-left: 1em; padding-right: 1em; text-align: center; vertical-align: top\">47.5112</td>\n",
       "        <td style=\"padding-left: 1em; padding-right: 1em; text-align: center; vertical-align: top\">-122.257</td>\n",
       "        <td style=\"padding-left: 1em; padding-right: 1em; text-align: center; vertical-align: top\">1340</td>\n",
       "    </tr>\n",
       "    <tr>\n",
       "        <td style=\"padding-left: 1em; padding-right: 1em; text-align: center; vertical-align: top\">3</td>\n",
       "        <td style=\"padding-left: 1em; padding-right: 1em; text-align: center; vertical-align: top\">7</td>\n",
       "        <td style=\"padding-left: 1em; padding-right: 1em; text-align: center; vertical-align: top\">2170</td>\n",
       "        <td style=\"padding-left: 1em; padding-right: 1em; text-align: center; vertical-align: top\">400</td>\n",
       "        <td style=\"padding-left: 1em; padding-right: 1em; text-align: center; vertical-align: top\">1951</td>\n",
       "        <td style=\"padding-left: 1em; padding-right: 1em; text-align: center; vertical-align: top\">1991</td>\n",
       "        <td style=\"padding-left: 1em; padding-right: 1em; text-align: center; vertical-align: top\">98125</td>\n",
       "        <td style=\"padding-left: 1em; padding-right: 1em; text-align: center; vertical-align: top\">47.721</td>\n",
       "        <td style=\"padding-left: 1em; padding-right: 1em; text-align: center; vertical-align: top\">-122.319</td>\n",
       "        <td style=\"padding-left: 1em; padding-right: 1em; text-align: center; vertical-align: top\">1690</td>\n",
       "    </tr>\n",
       "    <tr>\n",
       "        <td style=\"padding-left: 1em; padding-right: 1em; text-align: center; vertical-align: top\">3</td>\n",
       "        <td style=\"padding-left: 1em; padding-right: 1em; text-align: center; vertical-align: top\">6</td>\n",
       "        <td style=\"padding-left: 1em; padding-right: 1em; text-align: center; vertical-align: top\">770</td>\n",
       "        <td style=\"padding-left: 1em; padding-right: 1em; text-align: center; vertical-align: top\">0</td>\n",
       "        <td style=\"padding-left: 1em; padding-right: 1em; text-align: center; vertical-align: top\">1933</td>\n",
       "        <td style=\"padding-left: 1em; padding-right: 1em; text-align: center; vertical-align: top\">0</td>\n",
       "        <td style=\"padding-left: 1em; padding-right: 1em; text-align: center; vertical-align: top\">98028</td>\n",
       "        <td style=\"padding-left: 1em; padding-right: 1em; text-align: center; vertical-align: top\">47.7379</td>\n",
       "        <td style=\"padding-left: 1em; padding-right: 1em; text-align: center; vertical-align: top\">-122.233</td>\n",
       "        <td style=\"padding-left: 1em; padding-right: 1em; text-align: center; vertical-align: top\">2720</td>\n",
       "    </tr>\n",
       "    <tr>\n",
       "        <td style=\"padding-left: 1em; padding-right: 1em; text-align: center; vertical-align: top\">5</td>\n",
       "        <td style=\"padding-left: 1em; padding-right: 1em; text-align: center; vertical-align: top\">7</td>\n",
       "        <td style=\"padding-left: 1em; padding-right: 1em; text-align: center; vertical-align: top\">1050</td>\n",
       "        <td style=\"padding-left: 1em; padding-right: 1em; text-align: center; vertical-align: top\">910</td>\n",
       "        <td style=\"padding-left: 1em; padding-right: 1em; text-align: center; vertical-align: top\">1965</td>\n",
       "        <td style=\"padding-left: 1em; padding-right: 1em; text-align: center; vertical-align: top\">0</td>\n",
       "        <td style=\"padding-left: 1em; padding-right: 1em; text-align: center; vertical-align: top\">98136</td>\n",
       "        <td style=\"padding-left: 1em; padding-right: 1em; text-align: center; vertical-align: top\">47.5208</td>\n",
       "        <td style=\"padding-left: 1em; padding-right: 1em; text-align: center; vertical-align: top\">-122.393</td>\n",
       "        <td style=\"padding-left: 1em; padding-right: 1em; text-align: center; vertical-align: top\">1360</td>\n",
       "    </tr>\n",
       "    <tr>\n",
       "        <td style=\"padding-left: 1em; padding-right: 1em; text-align: center; vertical-align: top\">3</td>\n",
       "        <td style=\"padding-left: 1em; padding-right: 1em; text-align: center; vertical-align: top\">8</td>\n",
       "        <td style=\"padding-left: 1em; padding-right: 1em; text-align: center; vertical-align: top\">1680</td>\n",
       "        <td style=\"padding-left: 1em; padding-right: 1em; text-align: center; vertical-align: top\">0</td>\n",
       "        <td style=\"padding-left: 1em; padding-right: 1em; text-align: center; vertical-align: top\">1987</td>\n",
       "        <td style=\"padding-left: 1em; padding-right: 1em; text-align: center; vertical-align: top\">0</td>\n",
       "        <td style=\"padding-left: 1em; padding-right: 1em; text-align: center; vertical-align: top\">98074</td>\n",
       "        <td style=\"padding-left: 1em; padding-right: 1em; text-align: center; vertical-align: top\">47.6168</td>\n",
       "        <td style=\"padding-left: 1em; padding-right: 1em; text-align: center; vertical-align: top\">-122.045</td>\n",
       "        <td style=\"padding-left: 1em; padding-right: 1em; text-align: center; vertical-align: top\">1800</td>\n",
       "    </tr>\n",
       "    <tr>\n",
       "        <td style=\"padding-left: 1em; padding-right: 1em; text-align: center; vertical-align: top\">3</td>\n",
       "        <td style=\"padding-left: 1em; padding-right: 1em; text-align: center; vertical-align: top\">11</td>\n",
       "        <td style=\"padding-left: 1em; padding-right: 1em; text-align: center; vertical-align: top\">3890</td>\n",
       "        <td style=\"padding-left: 1em; padding-right: 1em; text-align: center; vertical-align: top\">1530</td>\n",
       "        <td style=\"padding-left: 1em; padding-right: 1em; text-align: center; vertical-align: top\">2001</td>\n",
       "        <td style=\"padding-left: 1em; padding-right: 1em; text-align: center; vertical-align: top\">0</td>\n",
       "        <td style=\"padding-left: 1em; padding-right: 1em; text-align: center; vertical-align: top\">98053</td>\n",
       "        <td style=\"padding-left: 1em; padding-right: 1em; text-align: center; vertical-align: top\">47.6561</td>\n",
       "        <td style=\"padding-left: 1em; padding-right: 1em; text-align: center; vertical-align: top\">-122.005</td>\n",
       "        <td style=\"padding-left: 1em; padding-right: 1em; text-align: center; vertical-align: top\">4760</td>\n",
       "    </tr>\n",
       "    <tr>\n",
       "        <td style=\"padding-left: 1em; padding-right: 1em; text-align: center; vertical-align: top\">3</td>\n",
       "        <td style=\"padding-left: 1em; padding-right: 1em; text-align: center; vertical-align: top\">7</td>\n",
       "        <td style=\"padding-left: 1em; padding-right: 1em; text-align: center; vertical-align: top\">1715</td>\n",
       "        <td style=\"padding-left: 1em; padding-right: 1em; text-align: center; vertical-align: top\">0</td>\n",
       "        <td style=\"padding-left: 1em; padding-right: 1em; text-align: center; vertical-align: top\">1995</td>\n",
       "        <td style=\"padding-left: 1em; padding-right: 1em; text-align: center; vertical-align: top\">0</td>\n",
       "        <td style=\"padding-left: 1em; padding-right: 1em; text-align: center; vertical-align: top\">98003</td>\n",
       "        <td style=\"padding-left: 1em; padding-right: 1em; text-align: center; vertical-align: top\">47.3097</td>\n",
       "        <td style=\"padding-left: 1em; padding-right: 1em; text-align: center; vertical-align: top\">-122.327</td>\n",
       "        <td style=\"padding-left: 1em; padding-right: 1em; text-align: center; vertical-align: top\">2238</td>\n",
       "    </tr>\n",
       "    <tr>\n",
       "        <td style=\"padding-left: 1em; padding-right: 1em; text-align: center; vertical-align: top\">3</td>\n",
       "        <td style=\"padding-left: 1em; padding-right: 1em; text-align: center; vertical-align: top\">7</td>\n",
       "        <td style=\"padding-left: 1em; padding-right: 1em; text-align: center; vertical-align: top\">1060</td>\n",
       "        <td style=\"padding-left: 1em; padding-right: 1em; text-align: center; vertical-align: top\">0</td>\n",
       "        <td style=\"padding-left: 1em; padding-right: 1em; text-align: center; vertical-align: top\">1963</td>\n",
       "        <td style=\"padding-left: 1em; padding-right: 1em; text-align: center; vertical-align: top\">0</td>\n",
       "        <td style=\"padding-left: 1em; padding-right: 1em; text-align: center; vertical-align: top\">98198</td>\n",
       "        <td style=\"padding-left: 1em; padding-right: 1em; text-align: center; vertical-align: top\">47.4095</td>\n",
       "        <td style=\"padding-left: 1em; padding-right: 1em; text-align: center; vertical-align: top\">-122.315</td>\n",
       "        <td style=\"padding-left: 1em; padding-right: 1em; text-align: center; vertical-align: top\">1650</td>\n",
       "    </tr>\n",
       "    <tr>\n",
       "        <td style=\"padding-left: 1em; padding-right: 1em; text-align: center; vertical-align: top\">3</td>\n",
       "        <td style=\"padding-left: 1em; padding-right: 1em; text-align: center; vertical-align: top\">7</td>\n",
       "        <td style=\"padding-left: 1em; padding-right: 1em; text-align: center; vertical-align: top\">1050</td>\n",
       "        <td style=\"padding-left: 1em; padding-right: 1em; text-align: center; vertical-align: top\">730</td>\n",
       "        <td style=\"padding-left: 1em; padding-right: 1em; text-align: center; vertical-align: top\">1960</td>\n",
       "        <td style=\"padding-left: 1em; padding-right: 1em; text-align: center; vertical-align: top\">0</td>\n",
       "        <td style=\"padding-left: 1em; padding-right: 1em; text-align: center; vertical-align: top\">98146</td>\n",
       "        <td style=\"padding-left: 1em; padding-right: 1em; text-align: center; vertical-align: top\">47.5123</td>\n",
       "        <td style=\"padding-left: 1em; padding-right: 1em; text-align: center; vertical-align: top\">-122.337</td>\n",
       "        <td style=\"padding-left: 1em; padding-right: 1em; text-align: center; vertical-align: top\">1780</td>\n",
       "    </tr>\n",
       "    <tr>\n",
       "        <td style=\"padding-left: 1em; padding-right: 1em; text-align: center; vertical-align: top\">3</td>\n",
       "        <td style=\"padding-left: 1em; padding-right: 1em; text-align: center; vertical-align: top\">7</td>\n",
       "        <td style=\"padding-left: 1em; padding-right: 1em; text-align: center; vertical-align: top\">1890</td>\n",
       "        <td style=\"padding-left: 1em; padding-right: 1em; text-align: center; vertical-align: top\">0</td>\n",
       "        <td style=\"padding-left: 1em; padding-right: 1em; text-align: center; vertical-align: top\">2003</td>\n",
       "        <td style=\"padding-left: 1em; padding-right: 1em; text-align: center; vertical-align: top\">0</td>\n",
       "        <td style=\"padding-left: 1em; padding-right: 1em; text-align: center; vertical-align: top\">98038</td>\n",
       "        <td style=\"padding-left: 1em; padding-right: 1em; text-align: center; vertical-align: top\">47.3684</td>\n",
       "        <td style=\"padding-left: 1em; padding-right: 1em; text-align: center; vertical-align: top\">-122.031</td>\n",
       "        <td style=\"padding-left: 1em; padding-right: 1em; text-align: center; vertical-align: top\">2390</td>\n",
       "    </tr>\n",
       "</table>\n",
       "<table frame=\"box\" rules=\"cols\">\n",
       "    <tr>\n",
       "        <th style=\"padding-left: 1em; padding-right: 1em; text-align: center\">sqft_lot15</th>\n",
       "    </tr>\n",
       "    <tr>\n",
       "        <td style=\"padding-left: 1em; padding-right: 1em; text-align: center; vertical-align: top\">5650</td>\n",
       "    </tr>\n",
       "    <tr>\n",
       "        <td style=\"padding-left: 1em; padding-right: 1em; text-align: center; vertical-align: top\">7639</td>\n",
       "    </tr>\n",
       "    <tr>\n",
       "        <td style=\"padding-left: 1em; padding-right: 1em; text-align: center; vertical-align: top\">8062</td>\n",
       "    </tr>\n",
       "    <tr>\n",
       "        <td style=\"padding-left: 1em; padding-right: 1em; text-align: center; vertical-align: top\">5000</td>\n",
       "    </tr>\n",
       "    <tr>\n",
       "        <td style=\"padding-left: 1em; padding-right: 1em; text-align: center; vertical-align: top\">7503</td>\n",
       "    </tr>\n",
       "    <tr>\n",
       "        <td style=\"padding-left: 1em; padding-right: 1em; text-align: center; vertical-align: top\">101930</td>\n",
       "    </tr>\n",
       "    <tr>\n",
       "        <td style=\"padding-left: 1em; padding-right: 1em; text-align: center; vertical-align: top\">6819</td>\n",
       "    </tr>\n",
       "    <tr>\n",
       "        <td style=\"padding-left: 1em; padding-right: 1em; text-align: center; vertical-align: top\">9711</td>\n",
       "    </tr>\n",
       "    <tr>\n",
       "        <td style=\"padding-left: 1em; padding-right: 1em; text-align: center; vertical-align: top\">8113</td>\n",
       "    </tr>\n",
       "    <tr>\n",
       "        <td style=\"padding-left: 1em; padding-right: 1em; text-align: center; vertical-align: top\">7570</td>\n",
       "    </tr>\n",
       "</table>\n",
       "[21613 rows x 21 columns]<br/>Note: Only the head of the SFrame is printed.<br/>You can use print_rows(num_rows=m, num_columns=n) to print more rows and columns.\n",
       "</div>"
      ],
      "text/plain": [
       "Columns:\n",
       "\tid\tint\n",
       "\tdate\tstr\n",
       "\tprice\tfloat\n",
       "\tbedrooms\tint\n",
       "\tbathrooms\tfloat\n",
       "\tsqft_living\tint\n",
       "\tsqft_lot\tint\n",
       "\tfloors\tfloat\n",
       "\twaterfront\tint\n",
       "\tview\tint\n",
       "\tcondition\tint\n",
       "\tgrade\tint\n",
       "\tsqft_above\tint\n",
       "\tsqft_basement\tint\n",
       "\tyr_built\tint\n",
       "\tyr_renovated\tint\n",
       "\tzipcode\tint\n",
       "\tlat\tfloat\n",
       "\tlong\tfloat\n",
       "\tsqft_living15\tint\n",
       "\tsqft_lot15\tint\n",
       "\n",
       "Rows: 21613\n",
       "\n",
       "Data:\n",
       "+------------+-----------------+-----------+----------+-----------+-------------+\n",
       "|     id     |       date      |   price   | bedrooms | bathrooms | sqft_living |\n",
       "+------------+-----------------+-----------+----------+-----------+-------------+\n",
       "| 7129300520 | 20141013T000000 |  221900.0 |    3     |    1.0    |     1180    |\n",
       "| 6414100192 | 20141209T000000 |  538000.0 |    3     |    2.25   |     2570    |\n",
       "| 5631500400 | 20150225T000000 |  180000.0 |    2     |    1.0    |     770     |\n",
       "| 2487200875 | 20141209T000000 |  604000.0 |    4     |    3.0    |     1960    |\n",
       "| 1954400510 | 20150218T000000 |  510000.0 |    3     |    2.0    |     1680    |\n",
       "| 7237550310 | 20140512T000000 | 1225000.0 |    4     |    4.5    |     5420    |\n",
       "| 1321400060 | 20140627T000000 |  257500.0 |    3     |    2.25   |     1715    |\n",
       "| 2008000270 | 20150115T000000 |  291850.0 |    3     |    1.5    |     1060    |\n",
       "| 2414600126 | 20150415T000000 |  229500.0 |    3     |    1.0    |     1780    |\n",
       "| 3793500160 | 20150312T000000 |  323000.0 |    3     |    2.5    |     1890    |\n",
       "+------------+-----------------+-----------+----------+-----------+-------------+\n",
       "+----------+--------+------------+------+-----------+-------+------------+---------------+\n",
       "| sqft_lot | floors | waterfront | view | condition | grade | sqft_above | sqft_basement |\n",
       "+----------+--------+------------+------+-----------+-------+------------+---------------+\n",
       "|   5650   |  1.0   |     0      |  0   |     3     |   7   |    1180    |       0       |\n",
       "|   7242   |  2.0   |     0      |  0   |     3     |   7   |    2170    |      400      |\n",
       "|  10000   |  1.0   |     0      |  0   |     3     |   6   |    770     |       0       |\n",
       "|   5000   |  1.0   |     0      |  0   |     5     |   7   |    1050    |      910      |\n",
       "|   8080   |  1.0   |     0      |  0   |     3     |   8   |    1680    |       0       |\n",
       "|  101930  |  1.0   |     0      |  0   |     3     |   11  |    3890    |      1530     |\n",
       "|   6819   |  2.0   |     0      |  0   |     3     |   7   |    1715    |       0       |\n",
       "|   9711   |  1.0   |     0      |  0   |     3     |   7   |    1060    |       0       |\n",
       "|   7470   |  1.0   |     0      |  0   |     3     |   7   |    1050    |      730      |\n",
       "|   6560   |  2.0   |     0      |  0   |     3     |   7   |    1890    |       0       |\n",
       "+----------+--------+------------+------+-----------+-------+------------+---------------+\n",
       "+----------+--------------+---------+---------+----------+---------------+-----+\n",
       "| yr_built | yr_renovated | zipcode |   lat   |   long   | sqft_living15 | ... |\n",
       "+----------+--------------+---------+---------+----------+---------------+-----+\n",
       "|   1955   |      0       |  98178  | 47.5112 | -122.257 |      1340     | ... |\n",
       "|   1951   |     1991     |  98125  |  47.721 | -122.319 |      1690     | ... |\n",
       "|   1933   |      0       |  98028  | 47.7379 | -122.233 |      2720     | ... |\n",
       "|   1965   |      0       |  98136  | 47.5208 | -122.393 |      1360     | ... |\n",
       "|   1987   |      0       |  98074  | 47.6168 | -122.045 |      1800     | ... |\n",
       "|   2001   |      0       |  98053  | 47.6561 | -122.005 |      4760     | ... |\n",
       "|   1995   |      0       |  98003  | 47.3097 | -122.327 |      2238     | ... |\n",
       "|   1963   |      0       |  98198  | 47.4095 | -122.315 |      1650     | ... |\n",
       "|   1960   |      0       |  98146  | 47.5123 | -122.337 |      1780     | ... |\n",
       "|   2003   |      0       |  98038  | 47.3684 | -122.031 |      2390     | ... |\n",
       "+----------+--------------+---------+---------+----------+---------------+-----+\n",
       "[21613 rows x 21 columns]\n",
       "Note: Only the head of the SFrame is printed.\n",
       "You can use print_rows(num_rows=m, num_columns=n) to print more rows and columns."
      ]
     },
<<<<<<< HEAD
     "execution_count": 5,
=======
     "execution_count": 3,
>>>>>>> fda45caebc9fd429ce5fccf2477ba68334d8609f
     "metadata": {},
     "output_type": "execute_result"
    }
   ],
   "source": [
    "data"
   ]
  },
  {
   "cell_type": "markdown",
   "metadata": {},
   "source": [
    "Spliting data into training and testing sets"
   ]
  },
  {
   "cell_type": "code",
<<<<<<< HEAD
   "execution_count": 6,
=======
   "execution_count": 4,
>>>>>>> fda45caebc9fd429ce5fccf2477ba68334d8609f
   "metadata": {
    "collapsed": true
   },
   "outputs": [],
   "source": [
    "train_data, test_data = data.random_split(0.8, seed=0)"
   ]
  },
  {
   "cell_type": "markdown",
   "metadata": {},
   "source": [
    "Creating a model using the turicreate.linear_regression.create using the living square feet size as the feature."
   ]
  },
  {
   "cell_type": "code",
<<<<<<< HEAD
   "execution_count": 7,
   "metadata": {},
=======
   "execution_count": 5,
   "metadata": {
    "collapsed": false
   },
>>>>>>> fda45caebc9fd429ce5fccf2477ba68334d8609f
   "outputs": [
    {
     "name": "stdout",
     "output_type": "stream",
     "text": [
      "PROGRESS: Creating a validation set from 5 percent of training data. This may take a while.\n",
      "          You can set ``validation_set=None`` to disable validation tracking.\n",
      "\n"
     ]
    },
    {
     "data": {
      "text/html": [
       "<pre>Linear regression:</pre>"
      ],
      "text/plain": [
       "Linear regression:"
      ]
     },
     "metadata": {},
     "output_type": "display_data"
    },
    {
     "data": {
      "text/html": [
       "<pre>--------------------------------------------------------</pre>"
      ],
      "text/plain": [
       "--------------------------------------------------------"
      ]
     },
     "metadata": {},
     "output_type": "display_data"
    },
    {
     "data": {
      "text/html": [
<<<<<<< HEAD
       "<pre>Number of examples          : 16554</pre>"
      ],
      "text/plain": [
       "Number of examples          : 16554"
=======
       "<pre>Number of examples          : 16454</pre>"
      ],
      "text/plain": [
       "Number of examples          : 16454"
>>>>>>> fda45caebc9fd429ce5fccf2477ba68334d8609f
      ]
     },
     "metadata": {},
     "output_type": "display_data"
    },
    {
     "data": {
      "text/html": [
       "<pre>Number of features          : 1</pre>"
      ],
      "text/plain": [
       "Number of features          : 1"
      ]
     },
     "metadata": {},
     "output_type": "display_data"
    },
    {
     "data": {
      "text/html": [
       "<pre>Number of unpacked features : 1</pre>"
      ],
      "text/plain": [
       "Number of unpacked features : 1"
      ]
     },
     "metadata": {},
     "output_type": "display_data"
    },
    {
     "data": {
      "text/html": [
       "<pre>Number of coefficients    : 2</pre>"
      ],
      "text/plain": [
       "Number of coefficients    : 2"
      ]
     },
     "metadata": {},
     "output_type": "display_data"
    },
    {
     "data": {
      "text/html": [
       "<pre>Starting Newton Method</pre>"
      ],
      "text/plain": [
       "Starting Newton Method"
      ]
     },
     "metadata": {},
     "output_type": "display_data"
    },
    {
     "data": {
      "text/html": [
       "<pre>--------------------------------------------------------</pre>"
      ],
      "text/plain": [
       "--------------------------------------------------------"
      ]
     },
     "metadata": {},
     "output_type": "display_data"
    },
    {
     "data": {
      "text/html": [
       "<pre>+-----------+----------+--------------+--------------------+----------------------+---------------+-----------------+</pre>"
      ],
      "text/plain": [
       "+-----------+----------+--------------+--------------------+----------------------+---------------+-----------------+"
      ]
     },
     "metadata": {},
     "output_type": "display_data"
    },
    {
     "data": {
      "text/html": [
       "<pre>| Iteration | Passes   | Elapsed Time | Training-max_error | Validation-max_error | Training-rmse | Validation-rmse |</pre>"
      ],
      "text/plain": [
       "| Iteration | Passes   | Elapsed Time | Training-max_error | Validation-max_error | Training-rmse | Validation-rmse |"
      ]
     },
     "metadata": {},
     "output_type": "display_data"
    },
    {
     "data": {
      "text/html": [
       "<pre>+-----------+----------+--------------+--------------------+----------------------+---------------+-----------------+</pre>"
      ],
      "text/plain": [
       "+-----------+----------+--------------+--------------------+----------------------+---------------+-----------------+"
      ]
     },
     "metadata": {},
     "output_type": "display_data"
    },
    {
     "data": {
      "text/html": [
<<<<<<< HEAD
       "<pre>| 1         | 2        | 1.005292     | 4341326.689732     | 1992634.521151       | 263870.565060 | 243759.657854   |</pre>"
      ],
      "text/plain": [
       "| 1         | 2        | 1.005292     | 4341326.689732     | 1992634.521151       | 263870.565060 | 243759.657854   |"
=======
       "<pre>| 1         | 2        | 1.017259     | 4375188.100634     | 3277177.362679       | 261397.280327 | 289117.699465   |</pre>"
      ],
      "text/plain": [
       "| 1         | 2        | 1.017259     | 4375188.100634     | 3277177.362679       | 261397.280327 | 289117.699465   |"
>>>>>>> fda45caebc9fd429ce5fccf2477ba68334d8609f
      ]
     },
     "metadata": {},
     "output_type": "display_data"
    },
    {
     "data": {
      "text/html": [
       "<pre>+-----------+----------+--------------+--------------------+----------------------+---------------+-----------------+</pre>"
      ],
      "text/plain": [
       "+-----------+----------+--------------+--------------------+----------------------+---------------+-----------------+"
      ]
     },
     "metadata": {},
     "output_type": "display_data"
    },
    {
     "data": {
      "text/html": [
       "<pre>SUCCESS: Optimal solution found.</pre>"
      ],
      "text/plain": [
       "SUCCESS: Optimal solution found."
      ]
     },
     "metadata": {},
     "output_type": "display_data"
<<<<<<< HEAD
=======
    },
    {
     "data": {
      "text/html": [
       "<pre></pre>"
      ],
      "text/plain": []
     },
     "metadata": {},
     "output_type": "display_data"
>>>>>>> fda45caebc9fd429ce5fccf2477ba68334d8609f
    }
   ],
   "source": [
    "model = tc.linear_regression.create(train_data, target='price', features = ['sqft_living'])"
   ]
  },
  {
   "cell_type": "markdown",
   "metadata": {},
   "source": [
    "Making the predicitons"
   ]
  },
  {
   "cell_type": "code",
<<<<<<< HEAD
   "execution_count": 8,
   "metadata": {},
   "outputs": [
    {
     "data": {
      "text/html": [
       "<pre></pre>"
      ],
      "text/plain": []
     },
     "metadata": {},
     "output_type": "display_data"
    }
   ],
=======
   "execution_count": 6,
   "metadata": {
    "collapsed": false
   },
   "outputs": [],
>>>>>>> fda45caebc9fd429ce5fccf2477ba68334d8609f
   "source": [
    "predictions = model.predict(test_data)"
   ]
  },
  {
   "cell_type": "markdown",
   "metadata": {},
   "source": [
    "Evaluating the predictions"
   ]
  },
  {
   "cell_type": "code",
<<<<<<< HEAD
   "execution_count": 9,
   "metadata": {
    "collapsed": true
=======
   "execution_count": 7,
   "metadata": {
    "collapsed": false
>>>>>>> fda45caebc9fd429ce5fccf2477ba68334d8609f
   },
   "outputs": [],
   "source": [
    "results = model.evaluate(test_data)"
   ]
  },
  {
   "cell_type": "code",
<<<<<<< HEAD
   "execution_count": 10,
   "metadata": {},
=======
   "execution_count": 8,
   "metadata": {
    "collapsed": false
   },
>>>>>>> fda45caebc9fd429ce5fccf2477ba68334d8609f
   "outputs": [
    {
     "name": "stdout",
     "output_type": "stream",
     "text": [
<<<<<<< HEAD
      "{'max_error': 4136990.538937283, 'rmse': 255199.98912265466}\n"
=======
      "{'max_error': 4163685.2693070523, 'rmse': 255145.8423577738}\n"
>>>>>>> fda45caebc9fd429ce5fccf2477ba68334d8609f
     ]
    }
   ],
   "source": [
    "print results"
   ]
  },
  {
   "cell_type": "markdown",
   "metadata": {},
   "source": [
    "Plotting the model"
   ]
  },
  {
   "cell_type": "code",
<<<<<<< HEAD
   "execution_count": 11,
   "metadata": {},
   "outputs": [
    {
     "data": {
      "image/png": "iVBORw0KGgoAAAANSUhEUgAAAXwAAAEKCAYAAAARnO4WAAAABHNCSVQICAgIfAhkiAAAAAlwSFlz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\nibCAb4wxJeL/A8+h19CZtnn1AAAAAElFTkSuQmCC\n",
      "text/plain": [
       "<matplotlib.figure.Figure at 0x7ff904178410>"
=======
   "execution_count": 9,
   "metadata": {
    "collapsed": false
   },
   "outputs": [
    {
     "data": {
      "image/png": "iVBORw0KGgoAAAANSUhEUgAAAXwAAAEKCAYAAAARnO4WAAAABHNCSVQICAgIfAhkiAAAAAlwSFlz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\nWMA3xpgSYQHfGGNKhAV8Y4wpEf8/MWir7KqUqxcAAAAASUVORK5CYII=\n",
      "text/plain": [
       "<matplotlib.figure.Figure at 0x7f481fffd850>"
>>>>>>> fda45caebc9fd429ce5fccf2477ba68334d8609f
      ]
     },
     "metadata": {},
     "output_type": "display_data"
    }
   ],
   "source": [
    "plt.plot(test_data['sqft_living'], test_data['price']/1000000,'.',\n",
    "         test_data['sqft_living'], predictions/1000000,'-')\n",
    "plt.ylabel('Price (Millions USD$)')\n",
    "plt.xlabel('House Size (Square Feet)')\n",
    "plt.show()"
   ]
  },
  {
   "cell_type": "markdown",
   "metadata": {},
   "source": [
    "Making a prediction for a single value."
   ]
  },
  {
   "cell_type": "code",
<<<<<<< HEAD
   "execution_count": 12,
   "metadata": {},
=======
   "execution_count": 10,
   "metadata": {
    "collapsed": false
   },
>>>>>>> fda45caebc9fd429ce5fccf2477ba68334d8609f
   "outputs": [
    {
     "name": "stdout",
     "output_type": "stream",
     "text": [
<<<<<<< HEAD
      "[4192681.808025697]\n"
=======
      "[4149032.5695450553]\n"
>>>>>>> fda45caebc9fd429ce5fccf2477ba68334d8609f
     ]
    }
   ],
   "source": [
    "size_to_predict = 15000\n",
    "forecast = model.predict(tc.SFrame({'sqft_living':[size_to_predict]}))\n",
    "print forecast"
   ]
  },
  {
   "cell_type": "markdown",
   "metadata": {
    "collapsed": true
   },
   "source": [
    "# Now, let's create our own function\n",
    "\n",
    "We want to fit a line that best estimates all the values in the training set. For that, we need to find 2 parameters: the slope and the intercept. The equation of the line is:\n",
    "\n",
    "$$y_{i}^{,}(x_i) = w_0 + w_{1}*x_i$$\n",
    "\n",
    "Now, we want to find the parameters $w_0$ and $w_1$ that reduces the cost function (the sum of the squared difference between measured data $y_i$ to the predicted data $y_{i}^{,}$):\n",
    "\n",
    "$$RSS(w_0,w_1) = \\sum_{i=1}^{N}(y_i - y_{i}^{,})^2 = \\sum_{i=1}^{N}(y_i - [w_0 + w_{1}*x_i])^2$$\n",
    "\n",
    "Minimizing the cost function means to take the derivative of cost function for each parameter ($w_0$ and $w_1$) and make it equal to zero. This leads to 2 simple formulas for $w_0$ and $w_1$:\n",
    "\n",
    "$$w_0 = \\frac{\\sum_{i=1}^{N}y_i}{N} - w_{1}\\frac{\\sum_{i=1}^{N}x_i}{N}$$\n",
    "\n",
    "and\n",
    "\n",
    "$$w_1 = \\frac{\\sum_{i=1}^{N}y_{i}x_{i} - \\frac{\\sum_{i=1}^{N}y_{i}\\sum_{i=1}^{N}x_{i}}{N}}{\\sum_{i=1}^{N}x_{i}^2 - \\frac{\\sum_{i=1}^{N}x_{i}\\sum_{i=1}^{N}x_{i}}{N}}$$\n",
    "\n",
    "With the equations above, it is possible to compute the intercept ($w_0$) and the slope ($w_1$) that best predict the output $(y_{i}^{'})$ given the input $x_i$ and the measured data $y_i$ (for one feature only).\n",
    "\n",
    "Now, let's create the function that gets the input feature $x_i$ and the measured data $y_i$ of the training set, and return the intercept $w_0$ and the slope $w_1$."
   ]
  },
  {
   "cell_type": "code",
<<<<<<< HEAD
   "execution_count": 13,
=======
   "execution_count": 11,
>>>>>>> fda45caebc9fd429ce5fccf2477ba68334d8609f
   "metadata": {
    "collapsed": true
   },
   "outputs": [],
   "source": [
    "def linear_regression_single(input_feature, measured_data):\n",
    "    # First, let's compute the sums and squared sums of the parameters equations\n",
    "    Isum = input_feature.sum()\n",
    "    Msum = measured_data.sum()\n",
    "    IMsum = sum([input_feature[i]*measured_data[i] for i in range(len(input_feature))])\n",
    "    IIsum = sum([input_feature[i]*input_feature[i] for i in range(len(input_feature))])\n",
    "\n",
    "    # We need to compute the slope first\n",
    "    num = IMsum-(1./len(input_feature)*(Isum*Msum))\n",
    "    den = IIsum-(1./len(input_feature)*(Isum*Isum))\n",
    "    slope = num/den\n",
    "    \n",
    "    # Now that we have the slope, we can compute the intercept\n",
    "    intercept = (1./len(input_feature))*Msum-slope*Isum*(1./len(input_feature))\n",
    "    \n",
    "    # Return the parameters\n",
    "    return (intercept, slope)"
   ]
  },
  {
   "cell_type": "markdown",
   "metadata": {},
   "source": [
    "Let's check our function"
   ]
  },
  {
   "cell_type": "code",
<<<<<<< HEAD
   "execution_count": 14,
   "metadata": {},
=======
   "execution_count": 12,
   "metadata": {
    "collapsed": false
   },
>>>>>>> fda45caebc9fd429ce5fccf2477ba68334d8609f
   "outputs": [
    {
     "name": "stdout",
     "output_type": "stream",
     "text": [
      "Intercept: -47116.0790729\n",
      "Slope: 281.95883963\n"
     ]
    }
   ],
   "source": [
    "intercept_1, slope_1 = linear_regression_single(train_data['sqft_living'], train_data['price'])\n",
    "\n",
    "print \"Intercept: \" + str(intercept_1)\n",
    "print \"Slope: \" + str(slope_1)"
   ]
  },
  {
   "cell_type": "markdown",
   "metadata": {},
   "source": [
    "Those values look close to the ones obtained by using the Turicreate.\n",
    "\n",
    "The next step is to calculate the estimations $y_{i}^{,}$ by using the linear equation:\n",
    "\n",
    "$$y_{i}^{,}(x_i) = w_0 + w_{1}*x_i$$\n",
    "\n",
    "Let's create a function that gets the input feature $x_i$ and the measured data $y_i$. It needs to estimate the intercept $w_0$ and slope $w_1$ and calculate the predictions $y_{i}^{,}$ using the linear equation above."
   ]
  },
  {
   "cell_type": "code",
<<<<<<< HEAD
   "execution_count": 15,
   "metadata": {
    "collapsed": true
=======
   "execution_count": 13,
   "metadata": {
    "collapsed": false
>>>>>>> fda45caebc9fd429ce5fccf2477ba68334d8609f
   },
   "outputs": [],
   "source": [
    "def regression_predictions_single(input_feature, measured_data, single_input = 0):\n",
    "    # First, we need to estimete the intercept and the slope\n",
    "    intercept, slope = linear_regression_single(input_feature, measured_data)\n",
    "    \n",
    "    # Now, compute the predictions\n",
    "    predicted_values = intercept + slope*input_feature\n",
    "    \n",
    "    # Computing single prediction to compare functions\n",
    "    single_prediction = 0\n",
    "    if single_input != 0:\n",
    "        single_prediction = intercept + slope*single_input\n",
    "        \n",
    "    # Return outputs\n",
    "    return predicted_values, single_prediction"
   ]
  },
  {
   "cell_type": "markdown",
   "metadata": {},
   "source": [
    "The following function has the input feature, slope and intercept as input so the can estimate the parameters in the training data and make predictions in the testing data."
   ]
  },
  {
   "cell_type": "code",
<<<<<<< HEAD
   "execution_count": 16,
=======
   "execution_count": 14,
>>>>>>> fda45caebc9fd429ce5fccf2477ba68334d8609f
   "metadata": {
    "collapsed": true
   },
   "outputs": [],
   "source": [
    "def regression_predictions_single_test(input_feature, slope, intercept, single_input = 0):\n",
    "    # In this functions, we input the slope and intercept, so we can make predictions on the testing set\n",
    "    predicted_values = intercept + slope*input_feature\n",
    "\n",
    "    # Computing single prediction to compare functions\n",
    "    single_prediction = 0\n",
    "    if single_input != 0:\n",
    "        single_prediction = intercept + slope*single_input\n",
    "        \n",
    "    # Return outputs\n",
    "    return predicted_values, single_prediction"
   ]
  },
  {
   "cell_type": "markdown",
   "metadata": {},
   "source": [
    "Let's test our function:"
   ]
  },
  {
   "cell_type": "code",
<<<<<<< HEAD
   "execution_count": 17,
   "metadata": {},
   "outputs": [
    {
     "data": {
      "image/png": "iVBORw0KGgoAAAANSUhEUgAAAYMAAAEKCAYAAADw2zkCAAAABHNCSVQICAgIfAhkiAAAAAlwSFlz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\nMjAMwzAwZWAYhmFgysAwDMMA/j+Yu/c9f3GTcQAAAABJRU5ErkJggg==\n",
      "text/plain": [
       "<matplotlib.figure.Figure at 0x7ff904449150>"
=======
   "execution_count": 15,
   "metadata": {
    "collapsed": false
   },
   "outputs": [
    {
     "data": {
      "image/png": "iVBORw0KGgoAAAANSUhEUgAAAYMAAAEKCAYAAADw2zkCAAAABHNCSVQICAgIfAhkiAAAAAlwSFlz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\nwDAMwwD+P5k1iVJ8/llTAAAAAElFTkSuQmCC\n",
      "text/plain": [
       "<matplotlib.figure.Figure at 0x7f482c2b1310>"
>>>>>>> fda45caebc9fd429ce5fccf2477ba68334d8609f
      ]
     },
     "metadata": {},
     "output_type": "display_data"
    }
   ],
   "source": [
    "predictions, single_prediction = regression_predictions_single(data['sqft_living'], data['price'], size_to_predict)\n",
    "\n",
    "plt.plot(data['sqft_living'], data['price']/1000000,'.',\n",
    "         data['sqft_living'], predictions/1000000,'-')\n",
    "plt.ylabel('Price (Millions USD$)')\n",
    "plt.xlabel('House Size (Square Feet)')\n",
    "plt.show()"
   ]
  },
  {
   "cell_type": "markdown",
   "metadata": {},
   "source": [
    "Above, we did a linear regression for the whole dataset. Below, we are using the slope and intercept estimated in the training data to make estimations over the testing data."
   ]
  },
  {
   "cell_type": "code",
<<<<<<< HEAD
   "execution_count": 18,
   "metadata": {},
   "outputs": [
    {
     "data": {
      "image/png": "iVBORw0KGgoAAAANSUhEUgAAAXwAAAEKCAYAAAARnO4WAAAABHNCSVQICAgIfAhkiAAAAAlwSFlz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\nSUVORK5CYII=\n",
      "text/plain": [
       "<matplotlib.figure.Figure at 0x7ff9041884d0>"
=======
   "execution_count": 16,
   "metadata": {
    "collapsed": false
   },
   "outputs": [
    {
     "data": {
      "image/png": "iVBORw0KGgoAAAANSUhEUgAAAXwAAAEKCAYAAAARnO4WAAAABHNCSVQICAgIfAhkiAAAAAlwSFlz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\npkL8f4J1rdrb2q9WAAAAAElFTkSuQmCC\n",
      "text/plain": [
       "<matplotlib.figure.Figure at 0x7f481c593610>"
>>>>>>> fda45caebc9fd429ce5fccf2477ba68334d8609f
      ]
     },
     "metadata": {},
     "output_type": "display_data"
    }
   ],
   "source": [
    "predictions2, single_prediction2 = regression_predictions_single_test(test_data['sqft_living'], slope_1, intercept_1, size_to_predict)\n",
    "\n",
    "plt.plot(test_data['sqft_living'], test_data['price']/1000000,'.',\n",
    "         test_data['sqft_living'], predictions2/1000000,'-')\n",
    "plt.ylabel('Price (Millions USD$)')\n",
    "plt.xlabel('House Size (Square Feet)')\n",
    "plt.show()"
   ]
  },
  {
   "cell_type": "code",
<<<<<<< HEAD
   "execution_count": 19,
   "metadata": {},
=======
   "execution_count": 17,
   "metadata": {
    "collapsed": false
   },
>>>>>>> fda45caebc9fd429ce5fccf2477ba68334d8609f
   "outputs": [
    {
     "name": "stdout",
     "output_type": "stream",
     "text": [
      "4182266.51538\n",
<<<<<<< HEAD
      "[4192681.808025697]\n"
=======
      "[4149032.5695450553]\n"
>>>>>>> fda45caebc9fd429ce5fccf2477ba68334d8609f
     ]
    }
   ],
   "source": [
    "print single_prediction2\n",
    "print forecast"
   ]
  },
  {
   "cell_type": "markdown",
   "metadata": {},
   "source": [
    "Again, it is very similar to the estimation we get with the Turicreate. But we did all for only a single feature. How do we proceed having multiple features? But before going for multiple features, we need to evaluate our predictions. One way to evaluate the prediction model, is to calculate the **_Residual sum of squares_** (RSS).\n",
    "\n",
    "$$RSS(w_0,w_1) = \\sum_{i=1}^{N}(y_i - [w_0 + w_{1}*x_i])^2$$\n",
    "\n",
    "Let's create the function that computes the RSS by inputing the predictions $y_{i}^{,}$ and the measured data $y_i$. "
   ]
  },
  {
   "cell_type": "code",
<<<<<<< HEAD
   "execution_count": 20,
=======
   "execution_count": 18,
>>>>>>> fda45caebc9fd429ce5fccf2477ba68334d8609f
   "metadata": {
    "collapsed": true
   },
   "outputs": [],
   "source": [
    "def calculate_RSS(predictions,measured_data):\n",
    "    # First, let's calculate the residuals (difference between measured and predictated data)\n",
    "    residuals = measured_data - predictions\n",
    "    \n",
    "    # Compute RSS\n",
    "    RSS = sum([residuals[i]*residuals[i] for i in range(len(residuals))])\n",
    "    \n",
    "    # Return RSS\n",
    "    return(RSS)"
   ]
  },
  {
   "cell_type": "markdown",
   "metadata": {},
   "source": [
    "Let's check our RSS"
   ]
  },
  {
   "cell_type": "code",
<<<<<<< HEAD
   "execution_count": 21,
   "metadata": {},
=======
   "execution_count": 19,
   "metadata": {
    "collapsed": false
   },
>>>>>>> fda45caebc9fd429ce5fccf2477ba68334d8609f
   "outputs": [
    {
     "name": "stdout",
     "output_type": "stream",
     "text": [
      "2.75402933618e+14\n"
     ]
    }
   ],
   "source": [
    "rss_test = calculate_RSS(predictions2,test_data['price'])\n",
    "\n",
    "print rss_test"
   ]
  },
  {
   "cell_type": "markdown",
   "metadata": {},
   "source": [
    "# Linear regression with multiple features"
   ]
  },
  {
   "cell_type": "markdown",
   "metadata": {
    "collapsed": true
   },
   "source": [
    "Now it is time to predict the house prices using multiple features. First, let's demonstrate how to do that using the Turicreate. Basically, it follows the same steps as the linear regression with a single feature."
   ]
  },
  {
   "cell_type": "code",
<<<<<<< HEAD
   "execution_count": 22,
=======
   "execution_count": 20,
>>>>>>> fda45caebc9fd429ce5fccf2477ba68334d8609f
   "metadata": {
    "collapsed": true
   },
   "outputs": [],
   "source": [
    "import turicreate as tc\n",
    "import matplotlib.pyplot as plt\n",
    "%matplotlib inline"
   ]
  },
  {
   "cell_type": "code",
<<<<<<< HEAD
   "execution_count": 23,
   "metadata": {},
=======
   "execution_count": 21,
   "metadata": {
    "collapsed": false
   },
>>>>>>> fda45caebc9fd429ce5fccf2477ba68334d8609f
   "outputs": [
    {
     "data": {
      "text/html": [
<<<<<<< HEAD
       "<pre>Finished parsing file /home/marceloguarido/OneDrive/Machine_Learning/Linear_Regression/BostonHousing.csv</pre>"
      ],
      "text/plain": [
       "Finished parsing file /home/marceloguarido/OneDrive/Machine_Learning/Linear_Regression/BostonHousing.csv"
=======
       "<pre>Finished parsing file /mnt/c/Users/marle/OneDrive/Machine_Learning/Linear_Regression/BostonHousing.csv</pre>"
      ],
      "text/plain": [
       "Finished parsing file /mnt/c/Users/marle/OneDrive/Machine_Learning/Linear_Regression/BostonHousing.csv"
>>>>>>> fda45caebc9fd429ce5fccf2477ba68334d8609f
      ]
     },
     "metadata": {},
     "output_type": "display_data"
    },
    {
     "data": {
      "text/html": [
<<<<<<< HEAD
       "<pre>Parsing completed. Parsed 100 lines in 0.030917 secs.</pre>"
      ],
      "text/plain": [
       "Parsing completed. Parsed 100 lines in 0.030917 secs."
=======
       "<pre>Parsing completed. Parsed 100 lines in 0.086237 secs.</pre>"
      ],
      "text/plain": [
       "Parsing completed. Parsed 100 lines in 0.086237 secs."
>>>>>>> fda45caebc9fd429ce5fccf2477ba68334d8609f
      ]
     },
     "metadata": {},
     "output_type": "display_data"
    },
    {
     "name": "stdout",
     "output_type": "stream",
     "text": [
      "------------------------------------------------------\n",
      "Inferred types from first 100 line(s) of file as \n",
      "column_type_hints=[int,str,float,int,float,int,int,float,int,int,int,int,int,int,int,int,int,float,float,int,int]\n",
      "If parsing fails due to incorrect types, you can correct\n",
      "the inferred type list above and pass it to read_csv in\n",
      "the column_type_hints argument\n",
      "------------------------------------------------------\n"
     ]
    },
    {
     "data": {
      "text/html": [
<<<<<<< HEAD
       "<pre>Finished parsing file /home/marceloguarido/OneDrive/Machine_Learning/Linear_Regression/BostonHousing.csv</pre>"
      ],
      "text/plain": [
       "Finished parsing file /home/marceloguarido/OneDrive/Machine_Learning/Linear_Regression/BostonHousing.csv"
=======
       "<pre>Finished parsing file /mnt/c/Users/marle/OneDrive/Machine_Learning/Linear_Regression/BostonHousing.csv</pre>"
      ],
      "text/plain": [
       "Finished parsing file /mnt/c/Users/marle/OneDrive/Machine_Learning/Linear_Regression/BostonHousing.csv"
>>>>>>> fda45caebc9fd429ce5fccf2477ba68334d8609f
      ]
     },
     "metadata": {},
     "output_type": "display_data"
    },
    {
     "data": {
      "text/html": [
<<<<<<< HEAD
       "<pre>Parsing completed. Parsed 21613 lines in 0.042588 secs.</pre>"
      ],
      "text/plain": [
       "Parsing completed. Parsed 21613 lines in 0.042588 secs."
=======
       "<pre>Parsing completed. Parsed 21613 lines in 0.101471 secs.</pre>"
      ],
      "text/plain": [
       "Parsing completed. Parsed 21613 lines in 0.101471 secs."
>>>>>>> fda45caebc9fd429ce5fccf2477ba68334d8609f
      ]
     },
     "metadata": {},
     "output_type": "display_data"
    }
   ],
   "source": [
    "data = tc.SFrame('BostonHousing.csv')"
   ]
  },
  {
   "cell_type": "code",
<<<<<<< HEAD
   "execution_count": 24,
=======
   "execution_count": 22,
>>>>>>> fda45caebc9fd429ce5fccf2477ba68334d8609f
   "metadata": {
    "collapsed": true
   },
   "outputs": [],
   "source": [
    "train_data, test_data = data.random_split(0.8, seed=0)"
   ]
  },
  {
   "cell_type": "code",
<<<<<<< HEAD
   "execution_count": 25,
   "metadata": {},
=======
   "execution_count": 23,
   "metadata": {
    "collapsed": false
   },
>>>>>>> fda45caebc9fd429ce5fccf2477ba68334d8609f
   "outputs": [
    {
     "name": "stdout",
     "output_type": "stream",
     "text": [
      "PROGRESS: Creating a validation set from 5 percent of training data. This may take a while.\n",
      "          You can set ``validation_set=None`` to disable validation tracking.\n",
      "\n"
     ]
    },
    {
     "data": {
      "text/html": [
       "<pre>Linear regression:</pre>"
      ],
      "text/plain": [
       "Linear regression:"
      ]
     },
     "metadata": {},
     "output_type": "display_data"
    },
    {
     "data": {
      "text/html": [
       "<pre>--------------------------------------------------------</pre>"
      ],
      "text/plain": [
       "--------------------------------------------------------"
      ]
     },
     "metadata": {},
     "output_type": "display_data"
    },
    {
     "data": {
      "text/html": [
<<<<<<< HEAD
       "<pre>Number of examples          : 16547</pre>"
      ],
      "text/plain": [
       "Number of examples          : 16547"
=======
       "<pre>Number of examples          : 16476</pre>"
      ],
      "text/plain": [
       "Number of examples          : 16476"
>>>>>>> fda45caebc9fd429ce5fccf2477ba68334d8609f
      ]
     },
     "metadata": {},
     "output_type": "display_data"
    },
    {
     "data": {
      "text/html": [
       "<pre>Number of features          : 6</pre>"
      ],
      "text/plain": [
       "Number of features          : 6"
      ]
     },
     "metadata": {},
     "output_type": "display_data"
    },
    {
     "data": {
      "text/html": [
       "<pre>Number of unpacked features : 6</pre>"
      ],
      "text/plain": [
       "Number of unpacked features : 6"
      ]
     },
     "metadata": {},
     "output_type": "display_data"
    },
    {
     "data": {
      "text/html": [
       "<pre>Number of coefficients    : 7</pre>"
      ],
      "text/plain": [
       "Number of coefficients    : 7"
      ]
     },
     "metadata": {},
     "output_type": "display_data"
    },
    {
     "data": {
      "text/html": [
       "<pre>Starting Newton Method</pre>"
      ],
      "text/plain": [
       "Starting Newton Method"
      ]
     },
     "metadata": {},
     "output_type": "display_data"
    },
    {
     "data": {
      "text/html": [
       "<pre>--------------------------------------------------------</pre>"
      ],
      "text/plain": [
       "--------------------------------------------------------"
      ]
     },
     "metadata": {},
     "output_type": "display_data"
    },
    {
     "data": {
      "text/html": [
       "<pre>+-----------+----------+--------------+--------------------+----------------------+---------------+-----------------+</pre>"
      ],
      "text/plain": [
       "+-----------+----------+--------------+--------------------+----------------------+---------------+-----------------+"
      ]
     },
     "metadata": {},
     "output_type": "display_data"
    },
    {
     "data": {
      "text/html": [
       "<pre>| Iteration | Passes   | Elapsed Time | Training-max_error | Validation-max_error | Training-rmse | Validation-rmse |</pre>"
      ],
      "text/plain": [
       "| Iteration | Passes   | Elapsed Time | Training-max_error | Validation-max_error | Training-rmse | Validation-rmse |"
      ]
     },
     "metadata": {},
     "output_type": "display_data"
    },
    {
     "data": {
      "text/html": [
       "<pre>+-----------+----------+--------------+--------------------+----------------------+---------------+-----------------+</pre>"
      ],
      "text/plain": [
       "+-----------+----------+--------------+--------------------+----------------------+---------------+-----------------+"
      ]
     },
     "metadata": {},
     "output_type": "display_data"
    },
    {
     "data": {
      "text/html": [
<<<<<<< HEAD
       "<pre>| 1         | 2        | 0.026591     | 3904740.904302     | 2214899.325006       | 246231.955572 | 250124.697175   |</pre>"
      ],
      "text/plain": [
       "| 1         | 2        | 0.026591     | 3904740.904302     | 2214899.325006       | 246231.955572 | 250124.697175   |"
=======
       "<pre>| 1         | 2        | 0.024189     | 3925886.380887     | 2771317.621406       | 245865.794552 | 256285.116259   |</pre>"
      ],
      "text/plain": [
       "| 1         | 2        | 0.024189     | 3925886.380887     | 2771317.621406       | 245865.794552 | 256285.116259   |"
>>>>>>> fda45caebc9fd429ce5fccf2477ba68334d8609f
      ]
     },
     "metadata": {},
     "output_type": "display_data"
    },
    {
     "data": {
      "text/html": [
       "<pre>+-----------+----------+--------------+--------------------+----------------------+---------------+-----------------+</pre>"
      ],
      "text/plain": [
       "+-----------+----------+--------------+--------------------+----------------------+---------------+-----------------+"
      ]
     },
     "metadata": {},
     "output_type": "display_data"
<<<<<<< HEAD
    },
=======
    }
   ],
   "source": [
    "multiple_features = ['bedrooms', 'bathrooms', 'sqft_living', 'sqft_lot', 'yr_built', 'condition']\n",
    "model_multiple = tc.linear_regression.create(train_data, target='price', features = multiple_features)"
   ]
  },
  {
   "cell_type": "code",
   "execution_count": 24,
   "metadata": {
    "collapsed": false
   },
   "outputs": [
>>>>>>> fda45caebc9fd429ce5fccf2477ba68334d8609f
    {
     "data": {
      "text/html": [
       "<pre>SUCCESS: Optimal solution found.</pre>"
      ],
      "text/plain": [
       "SUCCESS: Optimal solution found."
      ]
     },
     "metadata": {},
     "output_type": "display_data"
<<<<<<< HEAD
    }
   ],
   "source": [
    "multiple_features = ['bedrooms', 'bathrooms', 'sqft_living', 'sqft_lot', 'yr_built', 'condition']\n",
    "model_multiple = tc.linear_regression.create(train_data, target='price', features = multiple_features)"
   ]
  },
  {
   "cell_type": "code",
   "execution_count": 26,
   "metadata": {},
   "outputs": [
=======
    },
>>>>>>> fda45caebc9fd429ce5fccf2477ba68334d8609f
    {
     "data": {
      "text/html": [
       "<pre></pre>"
      ],
      "text/plain": []
     },
     "metadata": {},
     "output_type": "display_data"
    },
    {
     "name": "stdout",
     "output_type": "stream",
     "text": [
<<<<<<< HEAD
      "{'max_error': 3773907.2327084206, 'rmse': 242716.46635011132}\n"
=======
      "{'max_error': 3789796.6168297036, 'rmse': 242557.28035580603}\n"
>>>>>>> fda45caebc9fd429ce5fccf2477ba68334d8609f
     ]
    }
   ],
   "source": [
    "predictions_multiple = model_multiple.predict(test_data)\n",
    "results_multiple = model_multiple.evaluate(test_data)\n",
    "\n",
    "print results_multiple"
   ]
  },
  {
   "cell_type": "code",
<<<<<<< HEAD
   "execution_count": 27,
   "metadata": {},
=======
   "execution_count": 25,
   "metadata": {
    "collapsed": false
   },
>>>>>>> fda45caebc9fd429ce5fccf2477ba68334d8609f
   "outputs": [
    {
     "name": "stdout",
     "output_type": "stream",
     "text": [
<<<<<<< HEAD
      "[4563596.701080625]\n",
      "[4192681.808025697]\n"
=======
      "[4519870.920541293]\n",
      "[4149032.5695450553]\n"
>>>>>>> fda45caebc9fd429ce5fccf2477ba68334d8609f
     ]
    }
   ],
   "source": [
    "size_to_predict = 15000\n",
    "forecast_multiple = model_multiple.predict(tc.SFrame({'sqft_living':[size_to_predict]}))\n",
    "print forecast_multiple\n",
    "print forecast"
   ]
  },
  {
   "cell_type": "markdown",
   "metadata": {},
   "source": [
    "We can see the the forecast for a house with 15000 sqrtfeet living size changed when we compare the multiple features predictions with the single feature predictions.\n",
    "\n",
    "If we plot the predictions comparing with the testing data, we can observe that the predictions are not a single line anymore:"
   ]
  },
  {
   "cell_type": "code",
<<<<<<< HEAD
   "execution_count": 28,
   "metadata": {},
   "outputs": [
    {
     "data": {
      "image/png": "iVBORw0KGgoAAAANSUhEUgAAAYQAAAEKCAYAAAASByJ7AAAABHNCSVQICAgIfAhkiAAAAAlwSFlz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\nCvuujjRksxcAAAAASUVORK5CYII=\n",
      "text/plain": [
       "<matplotlib.figure.Figure at 0x7ff8f47ae490>"
=======
   "execution_count": 26,
   "metadata": {
    "collapsed": false
   },
   "outputs": [
    {
     "data": {
      "image/png": "iVBORw0KGgoAAAANSUhEUgAAAYQAAAEKCAYAAAASByJ7AAAABHNCSVQICAgIfAhkiAAAAAlwSFlz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\nY4zLAoIxxhjAAoIxxhiXBQRjjDEA/H8nEXeURiNwrAAAAABJRU5ErkJggg==\n",
      "text/plain": [
       "<matplotlib.figure.Figure at 0x7f481df2d410>"
>>>>>>> fda45caebc9fd429ce5fccf2477ba68334d8609f
      ]
     },
     "metadata": {},
     "output_type": "display_data"
    }
   ],
   "source": [
    "plt.plot(test_data['sqft_living'], test_data['price']/1000000,'.',\n",
    "         test_data['sqft_living'], predictions_multiple/1000000,'-')\n",
    "plt.ylabel('Price (Millions USD$)')\n",
    "plt.xlabel('House Size (Square Feet)')\n",
    "plt.show()"
   ]
  },
  {
   "cell_type": "markdown",
   "metadata": {},
   "source": [
    "# Let's build our own functions"
   ]
  },
  {
<<<<<<< HEAD
   "cell_type": "markdown",
   "metadata": {
    "collapsed": true
   },
   "source": [
    "Until now, I applied the linear regression over one single feature. This way, it was easy to find an analytical solution for the linear equation. Now, I will explore the use of several features and an analytical solution is not recommended. So, I will show how to use the gradient descent method to fit the best \"curve\".\n",
    "\n",
    "The \"linear\" equation for multiple parameters (now a multi-dimensinal plane) can be written as:\n",
    "\n",
    "$$y_{i}^{,}(x_i) = w_0*x_{i}[0] + w_{1}*x_{i}[1] + w_{2}*x_{i}[2] + \\dots + w_{d}*x_{i}[d] = \\sum_{j=0}^{d}w_j*x_{i}[j]$$\n",
    "\n",
    "where $x_i[0]=1$. The cost function (RSS) is:\n",
    "\n",
    "$$RSS(\\textbf{w}) = \\sum_{i=1}^{N}(y_i - y_{i}^{,})^2 = \\sum_{i=1}^{N}(y_i - [w_0 + w_{1}*x_i])^2$$\n"
   ]
  },
  {
=======
>>>>>>> fda45caebc9fd429ce5fccf2477ba68334d8609f
   "cell_type": "code",
   "execution_count": null,
   "metadata": {
    "collapsed": true
   },
   "outputs": [],
   "source": []
  }
 ],
 "metadata": {
  "anaconda-cloud": {},
  "kernelspec": {
<<<<<<< HEAD
   "display_name": "Python 2",
=======
   "display_name": "Python [default]",
>>>>>>> fda45caebc9fd429ce5fccf2477ba68334d8609f
   "language": "python",
   "name": "python2"
  },
  "language_info": {
   "codemirror_mode": {
    "name": "ipython",
    "version": 2
   },
   "file_extension": ".py",
   "mimetype": "text/x-python",
   "name": "python",
   "nbconvert_exporter": "python",
   "pygments_lexer": "ipython2",
<<<<<<< HEAD
   "version": "2.7.14"
=======
   "version": "2.7.12"
>>>>>>> fda45caebc9fd429ce5fccf2477ba68334d8609f
  }
 },
 "nbformat": 4,
 "nbformat_minor": 1
}
