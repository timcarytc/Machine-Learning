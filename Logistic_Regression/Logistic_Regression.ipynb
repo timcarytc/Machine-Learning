{
 "cells": [
  {
   "cell_type": "markdown",
   "metadata": {},
   "source": [
    "# Logistic Regression\n",
    "\n",
    "In this code, we will explore the concept of [*Logistic Regression*](https://en.wikipedia.org/wiki/Logistic_regression) and its application for sentimental analysis. \n",
    "\n",
    "The goal is to use the [amazon_baby_subset.csv](../Data/amazon_baby_subset.csv), which contains 4 columns: Product name, client review, client rate, and sentiment. The rating goes from 1 (worst) to 5 (best) and the sentiment is -1 if the rating is low (< 3) and 1 if it is good (>= 3). Here, the logistic regression method is used to give weights to each important word in the comments (the important words are given now. In the future, we will see how to select them) and to create a prediction model for future reviews, understanting if it is good or bad.\n",
    "\n",
    "First, let's load all used packages and the dataset."
   ]
  },
  {
   "cell_type": "code",
   "execution_count": 1,
   "metadata": {},
   "outputs": [
    {
     "name": "stderr",
     "output_type": "stream",
     "text": [
      "/home/mguarido/anaconda2/envs/venv/lib/python2.7/site-packages/h5py/__init__.py:36: FutureWarning: Conversion of the second argument of issubdtype from `float` to `np.floating` is deprecated. In future, it will be treated as `np.float64 == np.dtype(float).type`.\n",
      "  from ._conv import register_converters as _register_converters\n"
     ]
    }
   ],
   "source": [
    "import turicreate as tc\n",
    "import json\n",
    "import numpy as np\n",
    "import matplotlib.pyplot as plt\n",
    "%matplotlib inline"
   ]
  },
  {
   "cell_type": "code",
   "execution_count": 2,
   "metadata": {},
   "outputs": [
    {
     "data": {
      "text/html": [
<<<<<<< HEAD
       "<pre>Finished parsing file /home/mguarido/OneDrive/Machine_Learning/Data/amazon_baby_subset.csv</pre>"
      ],
      "text/plain": [
       "Finished parsing file /home/mguarido/OneDrive/Machine_Learning/Data/amazon_baby_subset.csv"
=======
       "<pre>Finished parsing file /mnt/hgfs/OneDrive/Machine_Learning/Data/amazon_baby_subset.csv</pre>"
      ],
      "text/plain": [
       "Finished parsing file /mnt/hgfs/OneDrive/Machine_Learning/Data/amazon_baby_subset.csv"
>>>>>>> 4b913f0e14eaf6fd1822a34fa7bdb43cc3453ea4
      ]
     },
     "metadata": {},
     "output_type": "display_data"
    },
    {
     "data": {
      "text/html": [
<<<<<<< HEAD
       "<pre>Parsing completed. Parsed 100 lines in 0.113156 secs.</pre>"
      ],
      "text/plain": [
       "Parsing completed. Parsed 100 lines in 0.113156 secs."
=======
       "<pre>Parsing completed. Parsed 100 lines in 0.893849 secs.</pre>"
      ],
      "text/plain": [
       "Parsing completed. Parsed 100 lines in 0.893849 secs."
>>>>>>> 4b913f0e14eaf6fd1822a34fa7bdb43cc3453ea4
      ]
     },
     "metadata": {},
     "output_type": "display_data"
    },
    {
     "name": "stdout",
     "output_type": "stream",
     "text": [
      "------------------------------------------------------\n",
      "Inferred types from first 100 line(s) of file as \n",
      "column_type_hints=[str,str,int,int]\n",
      "If parsing fails due to incorrect types, you can correct\n",
      "the inferred type list above and pass it to read_csv in\n",
      "the column_type_hints argument\n",
      "------------------------------------------------------\n"
     ]
    },
    {
     "data": {
      "text/html": [
<<<<<<< HEAD
       "<pre>Finished parsing file /home/mguarido/OneDrive/Machine_Learning/Data/amazon_baby_subset.csv</pre>"
      ],
      "text/plain": [
       "Finished parsing file /home/mguarido/OneDrive/Machine_Learning/Data/amazon_baby_subset.csv"
=======
       "<pre>Finished parsing file /mnt/hgfs/OneDrive/Machine_Learning/Data/amazon_baby_subset.csv</pre>"
      ],
      "text/plain": [
       "Finished parsing file /mnt/hgfs/OneDrive/Machine_Learning/Data/amazon_baby_subset.csv"
>>>>>>> 4b913f0e14eaf6fd1822a34fa7bdb43cc3453ea4
      ]
     },
     "metadata": {},
     "output_type": "display_data"
    },
    {
     "data": {
      "text/html": [
<<<<<<< HEAD
       "<pre>Parsing completed. Parsed 53072 lines in 0.168713 secs.</pre>"
      ],
      "text/plain": [
       "Parsing completed. Parsed 53072 lines in 0.168713 secs."
=======
       "<pre>Parsing completed. Parsed 53072 lines in 0.396983 secs.</pre>"
      ],
      "text/plain": [
       "Parsing completed. Parsed 53072 lines in 0.396983 secs."
>>>>>>> 4b913f0e14eaf6fd1822a34fa7bdb43cc3453ea4
      ]
     },
     "metadata": {},
     "output_type": "display_data"
    }
   ],
   "source": [
    "products = tc.SFrame('../Data/amazon_baby_subset.csv')"
   ]
  },
  {
   "cell_type": "code",
   "execution_count": 3,
   "metadata": {},
   "outputs": [
    {
     "data": {
      "text/html": [
       "<div style=\"max-height:1000px;max-width:1500px;overflow:auto;\"><table frame=\"box\" rules=\"cols\">\n",
       "    <tr>\n",
       "        <th style=\"padding-left: 1em; padding-right: 1em; text-align: center\">name</th>\n",
       "        <th style=\"padding-left: 1em; padding-right: 1em; text-align: center\">review</th>\n",
       "        <th style=\"padding-left: 1em; padding-right: 1em; text-align: center\">rating</th>\n",
       "        <th style=\"padding-left: 1em; padding-right: 1em; text-align: center\">sentiment</th>\n",
       "    </tr>\n",
       "    <tr>\n",
       "        <td style=\"padding-left: 1em; padding-right: 1em; text-align: center; vertical-align: top\">Stop Pacifier Sucking<br>without tears with ...</td>\n",
       "        <td style=\"padding-left: 1em; padding-right: 1em; text-align: center; vertical-align: top\">All of my kids have cried<br>non-stop when I tried to ...</td>\n",
       "        <td style=\"padding-left: 1em; padding-right: 1em; text-align: center; vertical-align: top\">5</td>\n",
       "        <td style=\"padding-left: 1em; padding-right: 1em; text-align: center; vertical-align: top\">1</td>\n",
       "    </tr>\n",
       "    <tr>\n",
       "        <td style=\"padding-left: 1em; padding-right: 1em; text-align: center; vertical-align: top\">Nature's Lullabies Second<br>Year Sticker Calendar ...</td>\n",
       "        <td style=\"padding-left: 1em; padding-right: 1em; text-align: center; vertical-align: top\">We wanted to get<br>something to keep track ...</td>\n",
       "        <td style=\"padding-left: 1em; padding-right: 1em; text-align: center; vertical-align: top\">5</td>\n",
       "        <td style=\"padding-left: 1em; padding-right: 1em; text-align: center; vertical-align: top\">1</td>\n",
       "    </tr>\n",
       "    <tr>\n",
       "        <td style=\"padding-left: 1em; padding-right: 1em; text-align: center; vertical-align: top\">Nature's Lullabies Second<br>Year Sticker Calendar ...</td>\n",
       "        <td style=\"padding-left: 1em; padding-right: 1em; text-align: center; vertical-align: top\">My daughter had her 1st<br>baby over a year ago. ...</td>\n",
       "        <td style=\"padding-left: 1em; padding-right: 1em; text-align: center; vertical-align: top\">5</td>\n",
       "        <td style=\"padding-left: 1em; padding-right: 1em; text-align: center; vertical-align: top\">1</td>\n",
       "    </tr>\n",
       "    <tr>\n",
       "        <td style=\"padding-left: 1em; padding-right: 1em; text-align: center; vertical-align: top\">Lamaze Peekaboo, I Love<br>You ...</td>\n",
       "        <td style=\"padding-left: 1em; padding-right: 1em; text-align: center; vertical-align: top\">One of baby's first and<br>favorite books, and i ...</td>\n",
       "        <td style=\"padding-left: 1em; padding-right: 1em; text-align: center; vertical-align: top\">4</td>\n",
       "        <td style=\"padding-left: 1em; padding-right: 1em; text-align: center; vertical-align: top\">1</td>\n",
       "    </tr>\n",
       "    <tr>\n",
       "        <td style=\"padding-left: 1em; padding-right: 1em; text-align: center; vertical-align: top\">SoftPlay Peek-A-Boo<br>Where's Elmo A Childr ...</td>\n",
       "        <td style=\"padding-left: 1em; padding-right: 1em; text-align: center; vertical-align: top\">Very cute interactive<br>book! My son loves this ...</td>\n",
       "        <td style=\"padding-left: 1em; padding-right: 1em; text-align: center; vertical-align: top\">5</td>\n",
       "        <td style=\"padding-left: 1em; padding-right: 1em; text-align: center; vertical-align: top\">1</td>\n",
       "    </tr>\n",
       "    <tr>\n",
       "        <td style=\"padding-left: 1em; padding-right: 1em; text-align: center; vertical-align: top\">Our Baby Girl Memory Book</td>\n",
       "        <td style=\"padding-left: 1em; padding-right: 1em; text-align: center; vertical-align: top\">Beautiful book, I love it<br>to record cherished t ...</td>\n",
       "        <td style=\"padding-left: 1em; padding-right: 1em; text-align: center; vertical-align: top\">5</td>\n",
       "        <td style=\"padding-left: 1em; padding-right: 1em; text-align: center; vertical-align: top\">1</td>\n",
       "    </tr>\n",
       "    <tr>\n",
       "        <td style=\"padding-left: 1em; padding-right: 1em; text-align: center; vertical-align: top\">Hunnt&amp;reg; Falling<br>Flowers and Birds Kids ...</td>\n",
       "        <td style=\"padding-left: 1em; padding-right: 1em; text-align: center; vertical-align: top\">Try this out for a spring<br>project !Easy ,fun and ...</td>\n",
       "        <td style=\"padding-left: 1em; padding-right: 1em; text-align: center; vertical-align: top\">5</td>\n",
       "        <td style=\"padding-left: 1em; padding-right: 1em; text-align: center; vertical-align: top\">1</td>\n",
       "    </tr>\n",
       "    <tr>\n",
       "        <td style=\"padding-left: 1em; padding-right: 1em; text-align: center; vertical-align: top\">Blessed By Pope Benedict<br>XVI Divine Mercy Full ...</td>\n",
       "        <td style=\"padding-left: 1em; padding-right: 1em; text-align: center; vertical-align: top\">very nice Divine Mercy<br>Pendant of Jesus now on ...</td>\n",
       "        <td style=\"padding-left: 1em; padding-right: 1em; text-align: center; vertical-align: top\">5</td>\n",
       "        <td style=\"padding-left: 1em; padding-right: 1em; text-align: center; vertical-align: top\">1</td>\n",
       "    </tr>\n",
       "    <tr>\n",
       "        <td style=\"padding-left: 1em; padding-right: 1em; text-align: center; vertical-align: top\">Cloth Diaper Pins<br>Stainless Steel ...</td>\n",
       "        <td style=\"padding-left: 1em; padding-right: 1em; text-align: center; vertical-align: top\">We bought the pins as my<br>6 year old Autistic son ...</td>\n",
       "        <td style=\"padding-left: 1em; padding-right: 1em; text-align: center; vertical-align: top\">4</td>\n",
       "        <td style=\"padding-left: 1em; padding-right: 1em; text-align: center; vertical-align: top\">1</td>\n",
       "    </tr>\n",
       "    <tr>\n",
       "        <td style=\"padding-left: 1em; padding-right: 1em; text-align: center; vertical-align: top\">Cloth Diaper Pins<br>Stainless Steel ...</td>\n",
       "        <td style=\"padding-left: 1em; padding-right: 1em; text-align: center; vertical-align: top\">It has been many years<br>since we needed diaper ...</td>\n",
       "        <td style=\"padding-left: 1em; padding-right: 1em; text-align: center; vertical-align: top\">5</td>\n",
       "        <td style=\"padding-left: 1em; padding-right: 1em; text-align: center; vertical-align: top\">1</td>\n",
       "    </tr>\n",
       "</table>\n",
       "[10 rows x 4 columns]<br/>\n",
       "</div>"
      ],
      "text/plain": [
       "Columns:\n",
       "\tname\tstr\n",
       "\treview\tstr\n",
       "\trating\tint\n",
       "\tsentiment\tint\n",
       "\n",
       "Rows: 10\n",
       "\n",
       "Data:\n",
       "+-------------------------------+-------------------------------+--------+-----------+\n",
       "|              name             |             review            | rating | sentiment |\n",
       "+-------------------------------+-------------------------------+--------+-----------+\n",
       "| Stop Pacifier Sucking with... | All of my kids have cried ... |   5    |     1     |\n",
       "| Nature's Lullabies Second ... | We wanted to get something... |   5    |     1     |\n",
       "| Nature's Lullabies Second ... | My daughter had her 1st ba... |   5    |     1     |\n",
       "|  Lamaze Peekaboo, I Love You  | One of baby's first and fa... |   4    |     1     |\n",
       "| SoftPlay Peek-A-Boo Where'... | Very cute interactive book... |   5    |     1     |\n",
       "|   Our Baby Girl Memory Book   | Beautiful book, I love it ... |   5    |     1     |\n",
       "| Hunnt&reg; Falling Flowers... | Try this out for a spring ... |   5    |     1     |\n",
       "| Blessed By Pope Benedict X... | very nice Divine Mercy Pen... |   5    |     1     |\n",
       "| Cloth Diaper Pins Stainles... | We bought the pins as my 6... |   4    |     1     |\n",
       "| Cloth Diaper Pins Stainles... | It has been many years sin... |   5    |     1     |\n",
       "+-------------------------------+-------------------------------+--------+-----------+\n",
       "[10 rows x 4 columns]"
      ]
     },
     "execution_count": 3,
     "metadata": {},
     "output_type": "execute_result"
    }
   ],
   "source": [
    "products.head()"
   ]
  },
  {
   "cell_type": "markdown",
   "metadata": {},
   "source": [
    "We can count how many positive and negative reviews the data set has."
   ]
  },
  {
   "cell_type": "code",
   "execution_count": 4,
   "metadata": {},
   "outputs": [
    {
     "name": "stdout",
     "output_type": "stream",
     "text": [
      "Number of positive reviews = 26579\n",
      "Number of negative reviews = 26493\n"
     ]
    }
   ],
   "source": [
    "print 'Number of positive reviews =', len(products[products['sentiment']==1])\n",
    "print 'Number of negative reviews =', len(products[products['sentiment']==-1])"
   ]
  },
  {
   "cell_type": "markdown",
   "metadata": {},
   "source": [
    "Pretty close numbers!"
   ]
  },
  {
   "cell_type": "markdown",
   "metadata": {},
   "source": [
    "The way the reviews are writen have punctuation. Let's clean them and also create columns with the important words count. The important words are in the file [important_words.json](../Data/important_words.json)."
   ]
  },
  {
   "cell_type": "markdown",
   "metadata": {},
   "source": [
    "## Cleaning the data"
   ]
  },
  {
   "cell_type": "markdown",
   "metadata": {},
   "source": [
    "First, load the important words from the *json* file:"
   ]
  },
  {
   "cell_type": "code",
   "execution_count": 5,
   "metadata": {},
   "outputs": [
    {
     "name": "stdout",
     "output_type": "stream",
     "text": [
      "['baby', 'one', 'great', 'love', 'use', 'would', 'like', 'easy', 'little', 'seat', 'old', 'well', 'get', 'also', 'really', 'son', 'time', 'bought', 'product', 'good', 'daughter', 'much', 'loves', 'stroller', 'put', 'months', 'car', 'still', 'back', 'used', 'recommend', 'first', 'even', 'perfect', 'nice', 'bag', 'two', 'using', 'got', 'fit', 'around', 'diaper', 'enough', 'month', 'price', 'go', 'could', 'soft', 'since', 'buy', 'room', 'works', 'made', 'child', 'keep', 'size', 'small', 'need', 'year', 'big', 'make', 'take', 'easily', 'think', 'crib', 'clean', 'way', 'quality', 'thing', 'better', 'without', 'set', 'new', 'every', 'cute', 'best', 'bottles', 'work', 'purchased', 'right', 'lot', 'side', 'happy', 'comfortable', 'toy', 'able', 'kids', 'bit', 'night', 'long', 'fits', 'see', 'us', 'another', 'play', 'day', 'money', 'monitor', 'tried', 'thought', 'never', 'item', 'hard', 'plastic', 'however', 'disappointed', 'reviews', 'something', 'going', 'pump', 'bottle', 'cup', 'waste', 'return', 'amazon', 'different', 'top', 'want', 'problem', 'know', 'water', 'try', 'received', 'sure', 'times', 'chair', 'find', 'hold', 'gate', 'open', 'bottom', 'away', 'actually', 'cheap', 'worked', 'getting', 'ordered', 'came', 'milk', 'bad', 'part', 'worth', 'found', 'cover', 'many', 'design', 'looking', 'weeks', 'say', 'wanted', 'look', 'place', 'purchase', 'looks', 'second', 'piece', 'box', 'pretty', 'trying', 'difficult', 'together', 'though', 'give', 'started', 'anything', 'last', 'company', 'come', 'returned', 'maybe', 'took', 'broke', 'makes', 'stay', 'instead', 'idea', 'head', 'said', 'less', 'went', 'working', 'high', 'unit', 'seems', 'picture', 'completely', 'wish', 'buying', 'babies', 'won', 'tub', 'almost', 'either']\n"
     ]
    }
   ],
   "source": [
    "with open('../Data/important_words.json', 'r') as f: # Reads the list of most frequent words\n",
    "    important_words = json.load(f)\n",
    "important_words = [str(s) for s in important_words]\n",
    "print important_words"
   ]
  },
  {
   "cell_type": "markdown",
   "metadata": {},
   "source": [
    "Now, let's remove the reviews punctuations:"
   ]
  },
  {
   "cell_type": "code",
   "execution_count": 6,
   "metadata": {},
   "outputs": [],
   "source": [
    "def remove_punctuation(text):\n",
    "    import string\n",
    "    return text.translate(None, string.punctuation) \n",
    "\n",
    "products['review_clean'] = products['review'].apply(remove_punctuation)"
   ]
  },
  {
   "cell_type": "markdown",
   "metadata": {},
   "source": [
    "The next step is to count each important word and create new columns with the results."
   ]
  },
  {
   "cell_type": "code",
   "execution_count": 7,
   "metadata": {},
   "outputs": [],
   "source": [
    "for word in important_words:\n",
    "    products[word] = products['review_clean'].apply(lambda s : s.split().count(word))"
   ]
  },
  {
   "cell_type": "code",
   "execution_count": 8,
   "metadata": {},
   "outputs": [
    {
     "data": {
      "text/plain": [
       "dtype: int\n",
       "Rows: 53072\n",
       "[0, 0, 1, 0, 0, 0, 0, 0, 0, 0, 1, 0, 1, 1, 0, 0, 0, 0, 0, 0, 0, 0, 0, 0, 0, 0, 0, 4, 0, 0, 0, 0, 0, 0, 0, 2, 0, 0, 7, 0, 0, 1, 0, 0, 0, 0, 0, 0, 13, 0, 1, 1, 0, 0, 0, 0, 0, 2, 0, 1, 0, 0, 0, 0, 0, 0, 0, 1, 0, 0, 2, 0, 0, 1, 0, 1, 0, 0, 0, 0, 0, 0, 0, 0, 0, 1, 0, 0, 0, 1, 2, 0, 0, 0, 0, 0, 2, 0, 0, 0, ... ]"
      ]
     },
     "execution_count": 8,
     "metadata": {},
     "output_type": "execute_result"
    }
   ],
   "source": [
    "products[important_words[0]] # This is the count of the word 'baby' for each review."
   ]
  },
  {
   "cell_type": "code",
   "execution_count": 9,
   "metadata": {},
   "outputs": [
    {
     "data": {
      "text/plain": [
       "12174"
      ]
     },
     "execution_count": 9,
     "metadata": {},
     "output_type": "execute_result"
    }
   ],
   "source": [
    "len(products[products[important_words[0]] > 0]) # Number of reviews that contain the word 'baby'"
   ]
  },
  {
   "cell_type": "markdown",
   "metadata": {},
   "source": [
    "How many time the word *baby* appears in all the reviews?"
   ]
  },
  {
   "cell_type": "code",
   "execution_count": 10,
   "metadata": {},
   "outputs": [
    {
     "data": {
      "text/plain": [
       "18715"
      ]
     },
     "execution_count": 10,
     "metadata": {},
     "output_type": "execute_result"
    }
   ],
   "source": [
    "sum(products['baby'])"
   ]
  },
  {
   "cell_type": "markdown",
   "metadata": {},
   "source": [
    "## Starting the logistic regression"
   ]
  },
  {
   "cell_type": "markdown",
   "metadata": {},
   "source": [
    "Logistic regression deals with categorical variables, and here in the sentimental analysis, it assumes only 2 number: 1 for a good review and -1 for a bad review.\n",
    "\n",
    "The whole idea is to estimate the probabily on which the review is good or bad, and the probability is computed usin the [logistic function](https://en.wikipedia.org/wiki/Logistic_function) (also known as link function):\n",
    "\n",
    "$$ P(y_i = +1 | \\mathbf{x}_i,\\mathbf{w}) = \\frac{1}{1 + e^{-\\mathbf{w}^T h(\\mathbf{x}_i)}} $$\n",
    "\n",
    "where, in our code, the feature vector $h(\\mathbf{x}_i)$ represents the word counts of **important_words** in the review $\\mathbf{x}_i$. In this equation, for a given vector of weights $\\mathbf{w}$ and the word count $\\mathbf{x}_i$, it computes the probabilty of the sentiment $\\mathbf{i}_i$ be positive (equal to 1). The values go from 0 to 1. We can choose a threshold (usually 0.5) on which a higher probability is considered as a positive sentiment, while the opsite comes from a lower probability.\n",
    "\n",
    "Best prediction comes from optimized weights. And a good way to obtain such weights is by [maximizing the likelihood function](https://en.wikipedia.org/wiki/Maximum_likelihood_estimation). The [likelihood function](https://en.wikipedia.org/wiki/Likelihood_function) is writen as:\n",
    "\n",
    "$$\\ell(\\mathbf{w}) = \\prod_{i = 1}^{N}P(y_i | \\mathbf{x}_i,\\mathbf{w})$$\n",
    "\n",
    "The optimization method can be done by by the gradient descent method. To find the optimized weights, we should derive the likelihood function by $\\mathbf{w}$. However, such task is not easy for the current function. A good strategy is to work with the [natural logarithm](https://en.wikipedia.org/wiki/Natural_logarithm) of the likelihood function, called the **log-likelihood**.\n",
    "\n",
    "$$\\ell\\ell(\\mathbf{w}) = \\ln\\prod_{i = 1}^{N}P(y_i | \\mathbf{x}_i,\\mathbf{w}) = \\sum_{i = 1}^{N}\\ln P(y_i | \\mathbf{x}_i,\\mathbf{w})$$\n",
    "\n",
    "The log-likelihood can be computed using the following formula:\n",
    "\n",
    "$$\\ell\\ell(\\mathbf{w}) = \\sum_{i=1}^N \\{ (\\mathbf{1}[y_i = +1] - 1)\\mathbf{w}^T h(\\mathbf{x}_i) - \\ln[1 + \\exp(-\\mathbf{w}^T h(\\mathbf{x}_i))]\\} $$\n",
    "\n",
    "The derivative of the log-likelihood is:\n",
    "\n",
    "$$\\frac{\\partial\\ell\\ell}{\\partial w_j} = \\sum_{i=1}^N h_j(\\mathbf{x}_i)\\left(\\mathbf{1}[y_i = +1] - P(y_i = +1 | \\mathbf{x}_i, \\mathbf{w})\\right)$$\n",
    "\n",
    "where $\\mathbf{1}[y_i = +1]$ means that it is equal 1 if the sentment is positive (1) and 0 if the sentiment is negative (-1). Now that we can compute the gradient of the log-likelihood, the gradient descent method can be applied:\n",
    "\n",
    "$$\\mathbf{w}_{j+1} = \\mathbf{w}_j + \\lambda\\frac{\\partial\\ell\\ell}{\\partial w_j}$$\n",
    "\n",
    "where $\\lambda$ is the step length.\n",
    "\n",
    "Great!!! Now let's implement the equations above to find the optimal weights $\\mathbf{w}$. Then we can use then to make predictions of the reviews sentiment."
   ]
  },
  {
   "cell_type": "markdown",
   "metadata": {},
   "source": [
    "The first step is to convert the Turicreate SFrame data to Numpy array to perform the math. The following function receives the SFrame data, the list of desired features (that will be the important words count), and the class label (in this case, 'sentiment'). It will return two outputs: a matrix with the features (word count) plus an initial intercept (= 1), and an array with the sentiment (-1 or +1) of each review."
   ]
  },
  {
   "cell_type": "code",
   "execution_count": 11,
   "metadata": {},
   "outputs": [],
   "source": [
    "def get_numpy_data(data_sframe, features, label):\n",
    "    data_sframe['intercept'] = 1 # Initial value for the intercept, including it in the sframe\n",
    "    features = ['intercept'] + features # Including 'intercept' in the features array\n",
    "    features_sframe = data_sframe[features] # Saving a sframe with only the desired features \n",
    "    feature_matrix = features_sframe.to_numpy() # Converting the features sframe to a numpy array (matrix)\n",
    "    label_sarray = data_sframe[label] # Picking the desired label\n",
    "    label_array = label_sarray.to_numpy() # Converting the label to a numpy array\n",
    "    return(feature_matrix, label_array)"
   ]
  },
  {
   "cell_type": "code",
   "execution_count": 12,
   "metadata": {},
   "outputs": [
    {
     "data": {
      "text/plain": [
       "(53072, 194)"
      ]
     },
     "execution_count": 12,
     "metadata": {},
     "output_type": "execute_result"
    }
   ],
   "source": [
    "feature_matrix, sentiment = get_numpy_data(products, important_words, 'sentiment')\n",
    "feature_matrix.shape"
   ]
  },
  {
   "cell_type": "code",
   "execution_count": 13,
   "metadata": {},
   "outputs": [
    {
     "name": "stdout",
     "output_type": "stream",
     "text": [
      "53072\n",
      "194\n"
     ]
    }
   ],
   "source": [
    "print len(products[products['sentiment']]) # Number of reviews\n",
    "print len(important_words) + 1 # Number of features plus the intercept"
   ]
  },
  {
   "cell_type": "markdown",
   "metadata": {},
   "source": [
    "Okay, the *feature_matrix* matches in size the number of reviews and the number of features (plus the intercept).\n",
    "\n",
    "Let's now create a function to calculate the probability for positive sentiments (the negative sentiment probability is just one minus the positive sentiment probability), given an array of coefficients and the feature matrix. The output is an array with the probability predictions for each reviews (or length of the feature matrix)."
   ]
  },
  {
   "cell_type": "code",
   "execution_count": 14,
   "metadata": {},
   "outputs": [],
   "source": [
    "def predict_probability(coefficients, feature_matrix):\n",
    "    # Computing P(y_i = +1 | x_i, w), using the logistic function\n",
    "    predictions = 1/(1 + np.exp(-np.dot(coefficients, feature_matrix)))\n",
    "    return predictions"
   ]
  },
  {
   "cell_type": "markdown",
   "metadata": {},
   "source": [
    "We will now write a function that computes the derivative of log likelihood with respect to a single coefficient $w_j$. The function accepts two arguments:\n",
    "\n",
    "* **errors** vector containing $\\mathbf{1}[y_i = +1] - P(y_i = +1 | \\mathbf{x}_i, \\mathbf{w})$ for all $i$.\n",
    "* **feature** vector containing $h_j(\\mathbf{x}_i)$  for all $i$. \n",
    "\n",
    "The derivative is just the dot product of the errors and the feature."
   ]
  },
  {
   "cell_type": "code",
<<<<<<< HEAD
   "execution_count": 15,
=======
   "execution_count": 16,
>>>>>>> 4b913f0e14eaf6fd1822a34fa7bdb43cc3453ea4
   "metadata": {},
   "outputs": [],
   "source": [
    "def feature_derivative(errors, feature):     \n",
    "    derivative = np.dot(errors, feature)\n",
    "    return derivative"
   ]
  },
  {
   "cell_type": "markdown",
   "metadata": {},
   "source": [
    "We will also create a function to compute the log-likelihood for all the features. It is interesting to use it as a QC tool. The log-likelihood, in the gradient descent method, should increase at each interation, until a maximum is reached.\n",
    "\n",
    "The function has three inputs: the features matris, the sentiment array, and the computed (or initial) coefficients. The output is a scalar with the value of the log-likelihood."
   ]
  },
  {
   "cell_type": "code",
<<<<<<< HEAD
   "execution_count": 16,
=======
   "execution_count": 17,
>>>>>>> 4b913f0e14eaf6fd1822a34fa7bdb43cc3453ea4
   "metadata": {},
   "outputs": [],
   "source": [
    "def compute_log_likelihood(feature_matrix, sentiment, coefficients):\n",
    "    isone = (sentiment==+1) # Saving an array with positive sentiments as 1 and others as 0\n",
    "    \n",
    "    # Computing each part of the log-likelihood formula\n",
    "    dotfc = np.dot(feature_matrix, coefficients)\n",
    "    lnexp = np.log(1. + np.exp(-dotfc))\n",
    "    \n",
    "    # Avoiding infinite results.\n",
    "    mask = np.isinf(lnexp)\n",
    "    lnexp[mask] = -dotfc[mask]\n",
    "    \n",
    "    # log-likelihood\n",
    "    ll = np.sum((isone-1)*dotfc - lnexp)\n",
    "    return ll"
   ]
  },
  {
   "cell_type": "markdown",
   "metadata": {},
   "source": [
    "Now we can use the three functions above to do the logistic regression using the gradient descent method.\n",
    "The next function receives the feature matrix, the sentiment array, the initial guess for the coefficients, the step length, and the maximum number of iterations. The output are the coefficients for each feature."
   ]
  },
  {
   "cell_type": "code",
<<<<<<< HEAD
   "execution_count": 17,
=======
   "execution_count": 19,
>>>>>>> 4b913f0e14eaf6fd1822a34fa7bdb43cc3453ea4
   "metadata": {},
   "outputs": [],
   "source": [
    "def logistic_regression(feature_matrix, sentiment, initial_coefficients, step_size, max_iter):\n",
    "    coefficients = np.array(initial_coefficients) # make sure it's a numpy array\n",
    "    \n",
    "    # Start the gradient method and stop it in the maximum iteration\n",
    "    for itr in xrange(max_iter):\n",
    "\n",
    "        # Making the predictions with the initial or updated coefficients coefficients\n",
    "        predictions = predict_probability(coefficients, np.transpose(feature_matrix))\n",
    "        \n",
    "        # Compute indicator value for +1 (positive sentiment)\n",
    "        indicator = (sentiment==+1)\n",
    "        \n",
    "        # Compute the errors with the initial or updated coefficients coefficients\n",
    "        errors = indicator - predictions\n",
    "        \n",
    "        # Apply the gradient method for each coefficient\n",
    "        for j in xrange(len(coefficients)):\n",
    "            \n",
    "            # Update the coefficient for feature j\n",
    "            coefficients[j] = coefficients[j] + step_size * np.sum(feature_derivative(errors, feature_matrix[:,j]))\n",
    "            \n",
    "        \n",
    "        # Checking whether log likelihood is increasing\n",
    "        if itr <= 15 or (itr <= 100 and itr % 10 == 0) or (itr <= 1000 and itr % 100 == 0) \\\n",
    "        or (itr <= 10000 and itr % 1000 == 0) or itr % 10000 == 0:\n",
    "            lp = compute_log_likelihood(feature_matrix, sentiment, coefficients)\n",
    "            print 'Iteration %*d: log-likelihood of observed labels = %.8f' % \\\n",
    "                (int(np.ceil(np.log10(max_iter))), itr, lp)\n",
    "    return coefficients"
   ]
  },
  {
   "cell_type": "markdown",
   "metadata": {},
   "source": [
    "Now, let's check it working."
   ]
  },
  {
   "cell_type": "code",
<<<<<<< HEAD
   "execution_count": 18,
=======
   "execution_count": 20,
>>>>>>> 4b913f0e14eaf6fd1822a34fa7bdb43cc3453ea4
   "metadata": {},
   "outputs": [
    {
     "name": "stdout",
     "output_type": "stream",
     "text": [
      "Iteration   0: log-likelihood of observed labels = -36780.91768478\n",
      "Iteration   1: log-likelihood of observed labels = -36775.13434712\n",
      "Iteration   2: log-likelihood of observed labels = -36769.35713564\n",
      "Iteration   3: log-likelihood of observed labels = -36763.58603240\n",
      "Iteration   4: log-likelihood of observed labels = -36757.82101962\n",
      "Iteration   5: log-likelihood of observed labels = -36752.06207964\n",
      "Iteration   6: log-likelihood of observed labels = -36746.30919497\n",
      "Iteration   7: log-likelihood of observed labels = -36740.56234821\n",
      "Iteration   8: log-likelihood of observed labels = -36734.82152213\n",
      "Iteration   9: log-likelihood of observed labels = -36729.08669961\n",
      "Iteration  10: log-likelihood of observed labels = -36723.35786366\n",
      "Iteration  11: log-likelihood of observed labels = -36717.63499744\n",
      "Iteration  12: log-likelihood of observed labels = -36711.91808422\n",
      "Iteration  13: log-likelihood of observed labels = -36706.20710739\n",
      "Iteration  14: log-likelihood of observed labels = -36700.50205049\n",
      "Iteration  15: log-likelihood of observed labels = -36694.80289716\n",
      "Iteration  20: log-likelihood of observed labels = -36666.39512033\n",
      "Iteration  30: log-likelihood of observed labels = -36610.01327118\n",
      "Iteration  40: log-likelihood of observed labels = -36554.19728365\n",
      "Iteration  50: log-likelihood of observed labels = -36498.93316099\n",
      "Iteration  60: log-likelihood of observed labels = -36444.20783914\n",
      "Iteration  70: log-likelihood of observed labels = -36390.00909449\n",
      "Iteration  80: log-likelihood of observed labels = -36336.32546144\n",
      "Iteration  90: log-likelihood of observed labels = -36283.14615871\n",
      "Iteration 100: log-likelihood of observed labels = -36230.46102347\n",
      "Iteration 200: log-likelihood of observed labels = -35728.89418769\n",
      "Iteration 300: log-likelihood of observed labels = -35268.51212683\n"
     ]
    }
   ],
   "source": [
    "coefficients = logistic_regression(feature_matrix, sentiment, initial_coefficients=np.zeros(194),\n",
    "                                   step_size=1e-7, max_iter=301)"
   ]
  },
  {
   "cell_type": "markdown",
   "metadata": {},
   "source": [
    "Now, with the coefficients in hands, let's predict the sentiments.\n",
    "\n",
    "For this analysis, I am chosing to classify probabilities larger than 0.5 as positive and from 0.5 to 0 as negative. So:\n",
    "\n",
    "$$\n",
    "\\hat{y}_i = \n",
    "\\left\\{\n",
    "\\begin{array}{ll}\n",
    "      +1 & P(y_i = +1 | \\mathbf{x}_i,\\mathbf{w}) > 0.5 \\\\\n",
    "      -1 & P(y_i = +1 | \\mathbf{x}_i,\\mathbf{w}) \\leq 0.5 \\\\\n",
    "\\end{array} \n",
    "\\right.\n",
    "$$\n",
    "\n",
    "Time to compute the predictions."
   ]
  },
  {
   "cell_type": "code",
<<<<<<< HEAD
   "execution_count": 19,
=======
   "execution_count": 21,
>>>>>>> 4b913f0e14eaf6fd1822a34fa7bdb43cc3453ea4
   "metadata": {},
   "outputs": [],
   "source": [
    "pred = predict_probability(feature_matrix,coefficients)"
   ]
  },
  {
   "cell_type": "code",
<<<<<<< HEAD
   "execution_count": 20,
=======
   "execution_count": 24,
>>>>>>> 4b913f0e14eaf6fd1822a34fa7bdb43cc3453ea4
   "metadata": {},
   "outputs": [],
   "source": [
    "classify_predictions = tc.SArray(pred).apply(lambda x: 1 if x > 0.5 else -1)"
   ]
  },
  {
   "cell_type": "code",
<<<<<<< HEAD
   "execution_count": 21,
=======
   "execution_count": 26,
>>>>>>> 4b913f0e14eaf6fd1822a34fa7bdb43cc3453ea4
   "metadata": {},
   "outputs": [
    {
     "data": {
      "text/plain": [
       "25126"
      ]
     },
<<<<<<< HEAD
     "execution_count": 21,
=======
     "execution_count": 26,
>>>>>>> 4b913f0e14eaf6fd1822a34fa7bdb43cc3453ea4
     "metadata": {},
     "output_type": "execute_result"
    }
   ],
   "source": [
    "len(classify_predictions[classify_predictions == 1])"
   ]
  },
  {
   "cell_type": "code",
<<<<<<< HEAD
   "execution_count": 22,
=======
   "execution_count": 27,
>>>>>>> 4b913f0e14eaf6fd1822a34fa7bdb43cc3453ea4
   "metadata": {},
   "outputs": [
    {
     "data": {
      "text/plain": [
       "26579"
      ]
     },
<<<<<<< HEAD
     "execution_count": 22,
=======
     "execution_count": 27,
>>>>>>> 4b913f0e14eaf6fd1822a34fa7bdb43cc3453ea4
     "metadata": {},
     "output_type": "execute_result"
    }
   ],
   "source": [
    "len(sentiment[sentiment == 1])"
   ]
  },
  {
   "cell_type": "markdown",
   "metadata": {},
   "source": [
    "Our prediction is close to the true sentiment (apparently). But we don't know if the -1's and 1's are on the correct reviews. So, let's compare the predictions with the true reviews and compute the **accuracy** of our logistic regression."
   ]
  },
  {
   "cell_type": "code",
<<<<<<< HEAD
   "execution_count": 23,
=======
   "execution_count": 29,
>>>>>>> 4b913f0e14eaf6fd1822a34fa7bdb43cc3453ea4
   "metadata": {},
   "outputs": [
    {
     "name": "stdout",
     "output_type": "stream",
     "text": [
      "Number of correct reviews: 39903\n",
      "Number of wrong reviews: 13169\n",
      "Number of reviews: 53072\n",
      "Accuracy: 0.75\n"
     ]
    }
   ],
   "source": [
    "num_total = len(products) # Total number of reviews\n",
    "num_correct = (classify_predictions == products['sentiment']).sum() # Is equal, return 1 (TRUE). Else, return 0 (FALSE)\n",
    "num_wrong = num_total - num_correct\n",
    "accuracy = 1.0*num_correct/num_total\n",
    "\n",
    "print 'Number of correct reviews:', num_correct\n",
    "print 'Number of wrong reviews:', num_wrong\n",
    "print 'Number of reviews:', num_total\n",
    "print 'Accuracy: %.2f' % accuracy"
   ]
  },
  {
   "cell_type": "markdown",
   "metadata": {},
   "source": [
    "Let's compare our result with the built in logistic classifier of Turicreate;"
   ]
  },
  {
   "cell_type": "code",
<<<<<<< HEAD
   "execution_count": 24,
=======
   "execution_count": 31,
>>>>>>> 4b913f0e14eaf6fd1822a34fa7bdb43cc3453ea4
   "metadata": {},
   "outputs": [
    {
     "name": "stdout",
     "output_type": "stream",
     "text": [
      "PROGRESS: Creating a validation set from 5 percent of training data. This may take a while.\n",
      "          You can set ``validation_set=None`` to disable validation tracking.\n",
      "\n"
     ]
    },
    {
     "data": {
      "text/html": [
       "<pre>Logistic regression:</pre>"
      ],
      "text/plain": [
       "Logistic regression:"
      ]
     },
     "metadata": {},
     "output_type": "display_data"
    },
    {
     "data": {
      "text/html": [
       "<pre>--------------------------------------------------------</pre>"
      ],
      "text/plain": [
       "--------------------------------------------------------"
      ]
     },
     "metadata": {},
     "output_type": "display_data"
    },
    {
     "data": {
      "text/html": [
<<<<<<< HEAD
       "<pre>Number of examples          : 50385</pre>"
      ],
      "text/plain": [
       "Number of examples          : 50385"
=======
       "<pre>Number of examples          : 50480</pre>"
      ],
      "text/plain": [
       "Number of examples          : 50480"
>>>>>>> 4b913f0e14eaf6fd1822a34fa7bdb43cc3453ea4
      ]
     },
     "metadata": {},
     "output_type": "display_data"
    },
    {
     "data": {
      "text/html": [
       "<pre>Number of classes           : 2</pre>"
      ],
      "text/plain": [
       "Number of classes           : 2"
      ]
     },
     "metadata": {},
     "output_type": "display_data"
    },
    {
     "data": {
      "text/html": [
       "<pre>Number of feature columns   : 193</pre>"
      ],
      "text/plain": [
       "Number of feature columns   : 193"
      ]
     },
     "metadata": {},
     "output_type": "display_data"
    },
    {
     "data": {
      "text/html": [
       "<pre>Number of unpacked features : 193</pre>"
      ],
      "text/plain": [
       "Number of unpacked features : 193"
      ]
     },
     "metadata": {},
     "output_type": "display_data"
    },
    {
     "data": {
      "text/html": [
       "<pre>Number of coefficients    : 194</pre>"
      ],
      "text/plain": [
       "Number of coefficients    : 194"
      ]
     },
     "metadata": {},
     "output_type": "display_data"
    },
    {
     "data": {
      "text/html": [
       "<pre>Starting Newton Method</pre>"
      ],
      "text/plain": [
       "Starting Newton Method"
      ]
     },
     "metadata": {},
     "output_type": "display_data"
    },
    {
     "data": {
      "text/html": [
       "<pre>--------------------------------------------------------</pre>"
      ],
      "text/plain": [
       "--------------------------------------------------------"
      ]
     },
     "metadata": {},
     "output_type": "display_data"
    },
    {
     "data": {
      "text/html": [
       "<pre>+-----------+----------+--------------+-------------------+---------------------+</pre>"
      ],
      "text/plain": [
       "+-----------+----------+--------------+-------------------+---------------------+"
      ]
     },
     "metadata": {},
     "output_type": "display_data"
    },
    {
     "data": {
      "text/html": [
       "<pre>| Iteration | Passes   | Elapsed Time | Training-accuracy | Validation-accuracy |</pre>"
      ],
      "text/plain": [
       "| Iteration | Passes   | Elapsed Time | Training-accuracy | Validation-accuracy |"
      ]
     },
     "metadata": {},
     "output_type": "display_data"
    },
    {
     "data": {
      "text/html": [
       "<pre>+-----------+----------+--------------+-------------------+---------------------+</pre>"
      ],
      "text/plain": [
       "+-----------+----------+--------------+-------------------+---------------------+"
      ]
     },
     "metadata": {},
     "output_type": "display_data"
    },
    {
     "data": {
      "text/html": [
<<<<<<< HEAD
       "<pre>| 1         | 2        | 3.594710     | 0.791128          | 0.790100            |</pre>"
      ],
      "text/plain": [
       "| 1         | 2        | 3.594710     | 0.791128          | 0.790100            |"
=======
       "<pre>| 1         | 2        | 2.181351     | 0.791601          | 0.783951            |</pre>"
      ],
      "text/plain": [
       "| 1         | 2        | 2.181351     | 0.791601          | 0.783951            |"
>>>>>>> 4b913f0e14eaf6fd1822a34fa7bdb43cc3453ea4
      ]
     },
     "metadata": {},
     "output_type": "display_data"
    },
    {
     "data": {
      "text/html": [
<<<<<<< HEAD
       "<pre>| 2         | 3        | 4.457439     | 0.791883          | 0.787868            |</pre>"
      ],
      "text/plain": [
       "| 2         | 3        | 4.457439     | 0.791883          | 0.787868            |"
=======
       "<pre>| 2         | 3        | 3.303984     | 0.792532          | 0.785494            |</pre>"
      ],
      "text/plain": [
       "| 2         | 3        | 3.303984     | 0.792532          | 0.785494            |"
>>>>>>> 4b913f0e14eaf6fd1822a34fa7bdb43cc3453ea4
      ]
     },
     "metadata": {},
     "output_type": "display_data"
    },
    {
     "data": {
      "text/html": [
<<<<<<< HEAD
       "<pre>| 3         | 4        | 5.411041     | 0.792418          | 0.786007            |</pre>"
      ],
      "text/plain": [
       "| 3         | 4        | 5.411041     | 0.792418          | 0.786007            |"
=======
       "<pre>| 3         | 4        | 4.460440     | 0.792274          | 0.785108            |</pre>"
      ],
      "text/plain": [
       "| 3         | 4        | 4.460440     | 0.792274          | 0.785108            |"
>>>>>>> 4b913f0e14eaf6fd1822a34fa7bdb43cc3453ea4
      ]
     },
     "metadata": {},
     "output_type": "display_data"
    },
    {
     "data": {
      "text/html": [
<<<<<<< HEAD
       "<pre>| 4         | 5        | 6.270463     | 0.792537          | 0.786751            |</pre>"
      ],
      "text/plain": [
       "| 4         | 5        | 6.270463     | 0.792537          | 0.786751            |"
=======
       "<pre>| 4         | 5        | 5.624940     | 0.792274          | 0.785108            |</pre>"
      ],
      "text/plain": [
       "| 4         | 5        | 5.624940     | 0.792274          | 0.785108            |"
>>>>>>> 4b913f0e14eaf6fd1822a34fa7bdb43cc3453ea4
      ]
     },
     "metadata": {},
     "output_type": "display_data"
    },
    {
     "data": {
      "text/html": [
<<<<<<< HEAD
       "<pre>| 5         | 6        | 7.119030     | 0.792438          | 0.786751            |</pre>"
      ],
      "text/plain": [
       "| 5         | 6        | 7.119030     | 0.792438          | 0.786751            |"
=======
       "<pre>| 5         | 6        | 6.822581     | 0.792254          | 0.785108            |</pre>"
      ],
      "text/plain": [
       "| 5         | 6        | 6.822581     | 0.792254          | 0.785108            |"
>>>>>>> 4b913f0e14eaf6fd1822a34fa7bdb43cc3453ea4
      ]
     },
     "metadata": {},
     "output_type": "display_data"
    },
    {
     "data": {
      "text/html": [
<<<<<<< HEAD
       "<pre>| 6         | 7        | 7.970595     | 0.792438          | 0.786751            |</pre>"
      ],
      "text/plain": [
       "| 6         | 7        | 7.970595     | 0.792438          | 0.786751            |"
=======
       "<pre>| 6         | 7        | 7.996447     | 0.792254          | 0.785108            |</pre>"
      ],
      "text/plain": [
       "| 6         | 7        | 7.996447     | 0.792254          | 0.785108            |"
>>>>>>> 4b913f0e14eaf6fd1822a34fa7bdb43cc3453ea4
      ]
     },
     "metadata": {},
     "output_type": "display_data"
    },
    {
     "data": {
      "text/html": [
       "<pre>+-----------+----------+--------------+-------------------+---------------------+</pre>"
      ],
      "text/plain": [
       "+-----------+----------+--------------+-------------------+---------------------+"
      ]
     },
     "metadata": {},
     "output_type": "display_data"
    },
    {
     "data": {
      "text/html": [
       "<pre>SUCCESS: Optimal solution found.</pre>"
      ],
      "text/plain": [
       "SUCCESS: Optimal solution found."
      ]
     },
     "metadata": {},
     "output_type": "display_data"
<<<<<<< HEAD
    },
    {
     "data": {
      "text/html": [
       "<pre></pre>"
      ],
      "text/plain": []
     },
     "metadata": {},
     "output_type": "display_data"
=======
>>>>>>> 4b913f0e14eaf6fd1822a34fa7bdb43cc3453ea4
    }
   ],
   "source": [
    "modeltc = tc.logistic_classifier.create(products, target='sentiment', features = important_words)"
   ]
  },
  {
   "cell_type": "code",
<<<<<<< HEAD
   "execution_count": 32,
=======
   "execution_count": 35,
>>>>>>> 4b913f0e14eaf6fd1822a34fa7bdb43cc3453ea4
   "metadata": {},
   "outputs": [
    {
     "name": "stdout",
     "output_type": "stream",
     "text": [
<<<<<<< HEAD
      "Accuracy: 0.79\n",
      "[1, -1, 1, 1, 1, 1, 1, 1, 1, -1]\n",
      "[1, -1, 1, 1, 1, 1, 1, 1, 1, -1]\n",
      "[1, 1, 1, 1, 1, 1, 1, 1, 1, 1]\n"
=======
      "Accuracy: 0.79\n"
>>>>>>> 4b913f0e14eaf6fd1822a34fa7bdb43cc3453ea4
     ]
    }
   ],
   "source": [
<<<<<<< HEAD
    "predictionstc = modeltc.predict(products, output_type = 'class')\n",
    "resultstc = modeltc.evaluate(products)\n",
    "print 'Accuracy: %.2f' % resultstc['accuracy']\n",
    "print classify_predictions.head()\n",
    "print predictionstc.head()\n",
    "print products.head()['sentiment']"
=======
    "predictionstc = modeltc.classify(products)\n",
    "resultstc = modeltc.evaluate(products)\n",
    "print 'Accuracy: %.2f' % resultstc['accuracy']"
>>>>>>> 4b913f0e14eaf6fd1822a34fa7bdb43cc3453ea4
   ]
  },
  {
   "cell_type": "markdown",
   "metadata": {},
   "source": [
    "We got pretty close to the Turicreate package. We can improve the accuracy by penalizing some words, as we did with the [linear regression](../Linear_Regression/Linear_Regression.ipynb)."
   ]
  },
  {
   "cell_type": "markdown",
   "metadata": {},
   "source": [
    "## Logistic regression with L2 penalization (regularization)"
   ]
  },
  {
   "cell_type": "code",
   "execution_count": null,
   "metadata": {},
   "outputs": [],
   "source": []
  }
 ],
 "metadata": {
  "kernelspec": {
   "display_name": "Python 2",
   "language": "python",
   "name": "python2"
  },
  "language_info": {
   "codemirror_mode": {
    "name": "ipython",
    "version": 2
   },
   "file_extension": ".py",
   "mimetype": "text/x-python",
   "name": "python",
   "nbconvert_exporter": "python",
   "pygments_lexer": "ipython2",
   "version": "2.7.14"
  }
 },
 "nbformat": 4,
 "nbformat_minor": 2
}
